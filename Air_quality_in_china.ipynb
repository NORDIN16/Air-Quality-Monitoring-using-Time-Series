{
 "cells": [
  {
   "cell_type": "markdown",
   "metadata": {},
   "source": [
    "#### Import Libraries"
   ]
  },
  {
   "cell_type": "code",
   "execution_count": 1,
   "metadata": {},
   "outputs": [],
   "source": [
    "import pandas as pd"
   ]
  },
  {
   "cell_type": "code",
   "execution_count": 2,
   "metadata": {},
   "outputs": [
    {
     "data": {
      "text/html": [
       "<div>\n",
       "<style scoped>\n",
       "    .dataframe tbody tr th:only-of-type {\n",
       "        vertical-align: middle;\n",
       "    }\n",
       "\n",
       "    .dataframe tbody tr th {\n",
       "        vertical-align: top;\n",
       "    }\n",
       "\n",
       "    .dataframe thead th {\n",
       "        text-align: right;\n",
       "    }\n",
       "</style>\n",
       "<table border=\"1\" class=\"dataframe\">\n",
       "  <thead>\n",
       "    <tr style=\"text-align: right;\">\n",
       "      <th></th>\n",
       "      <th>location</th>\n",
       "      <th>coordinates.latitude</th>\n",
       "      <th>coordinates.longitude</th>\n",
       "      <th>unit</th>\n",
       "      <th>co</th>\n",
       "      <th>humidity</th>\n",
       "      <th>no2</th>\n",
       "      <th>o3</th>\n",
       "      <th>pm1</th>\n",
       "      <th>pm10</th>\n",
       "      <th>pm25</th>\n",
       "      <th>pressure</th>\n",
       "      <th>so2</th>\n",
       "      <th>temperature</th>\n",
       "      <th>um003</th>\n",
       "      <th>um005</th>\n",
       "      <th>um010</th>\n",
       "      <th>um025</th>\n",
       "      <th>um050</th>\n",
       "      <th>um100</th>\n",
       "    </tr>\n",
       "  </thead>\n",
       "  <tbody>\n",
       "    <tr>\n",
       "      <th>0</th>\n",
       "      <td>Kunshan, Suzhou, China</td>\n",
       "      <td>31.404840</td>\n",
       "      <td>120.90408</td>\n",
       "      <td>particles/cm³</td>\n",
       "      <td>NaN</td>\n",
       "      <td>55.0</td>\n",
       "      <td>NaN</td>\n",
       "      <td>NaN</td>\n",
       "      <td>10.8</td>\n",
       "      <td>20.4</td>\n",
       "      <td>18.5</td>\n",
       "      <td>1004.43</td>\n",
       "      <td>NaN</td>\n",
       "      <td>98.0</td>\n",
       "      <td>20.09</td>\n",
       "      <td>5.72</td>\n",
       "      <td>1.34</td>\n",
       "      <td>0.13</td>\n",
       "      <td>0.02</td>\n",
       "      <td>0.02</td>\n",
       "    </tr>\n",
       "    <tr>\n",
       "      <th>1</th>\n",
       "      <td>atelierYVF</td>\n",
       "      <td>22.290922</td>\n",
       "      <td>114.19941</td>\n",
       "      <td>mb</td>\n",
       "      <td>NaN</td>\n",
       "      <td>60.0</td>\n",
       "      <td>NaN</td>\n",
       "      <td>NaN</td>\n",
       "      <td>3.3</td>\n",
       "      <td>5.7</td>\n",
       "      <td>4.8</td>\n",
       "      <td>1001.94</td>\n",
       "      <td>NaN</td>\n",
       "      <td>93.0</td>\n",
       "      <td>11.94</td>\n",
       "      <td>2.54</td>\n",
       "      <td>0.33</td>\n",
       "      <td>0.03</td>\n",
       "      <td>0.01</td>\n",
       "      <td>0.00</td>\n",
       "    </tr>\n",
       "    <tr>\n",
       "      <th>2</th>\n",
       "      <td>TVA Connected Communities #3</td>\n",
       "      <td>35.991707</td>\n",
       "      <td>-83.89293</td>\n",
       "      <td>particles/cm³</td>\n",
       "      <td>NaN</td>\n",
       "      <td>69.0</td>\n",
       "      <td>NaN</td>\n",
       "      <td>NaN</td>\n",
       "      <td>7.1</td>\n",
       "      <td>10.2</td>\n",
       "      <td>9.8</td>\n",
       "      <td>983.91</td>\n",
       "      <td>NaN</td>\n",
       "      <td>75.0</td>\n",
       "      <td>13.27</td>\n",
       "      <td>3.70</td>\n",
       "      <td>0.62</td>\n",
       "      <td>0.03</td>\n",
       "      <td>0.00</td>\n",
       "      <td>0.00</td>\n",
       "    </tr>\n",
       "    <tr>\n",
       "      <th>3</th>\n",
       "      <td>Juarez casa</td>\n",
       "      <td>33.717400</td>\n",
       "      <td>117.90313</td>\n",
       "      <td>µg/m³</td>\n",
       "      <td>NaN</td>\n",
       "      <td>61.0</td>\n",
       "      <td>NaN</td>\n",
       "      <td>NaN</td>\n",
       "      <td>10.3</td>\n",
       "      <td>17.0</td>\n",
       "      <td>15.3</td>\n",
       "      <td>1010.70</td>\n",
       "      <td>NaN</td>\n",
       "      <td>79.0</td>\n",
       "      <td>18.49</td>\n",
       "      <td>5.34</td>\n",
       "      <td>1.08</td>\n",
       "      <td>0.06</td>\n",
       "      <td>0.02</td>\n",
       "      <td>0.01</td>\n",
       "    </tr>\n",
       "    <tr>\n",
       "      <th>4</th>\n",
       "      <td>Science Park Shenzhen</td>\n",
       "      <td>22.528564</td>\n",
       "      <td>113.94328</td>\n",
       "      <td>mb</td>\n",
       "      <td>NaN</td>\n",
       "      <td>57.0</td>\n",
       "      <td>NaN</td>\n",
       "      <td>NaN</td>\n",
       "      <td>6.7</td>\n",
       "      <td>7.6</td>\n",
       "      <td>7.5</td>\n",
       "      <td>999.63</td>\n",
       "      <td>NaN</td>\n",
       "      <td>100.0</td>\n",
       "      <td>44.74</td>\n",
       "      <td>4.40</td>\n",
       "      <td>0.16</td>\n",
       "      <td>0.01</td>\n",
       "      <td>0.00</td>\n",
       "      <td>0.00</td>\n",
       "    </tr>\n",
       "  </tbody>\n",
       "</table>\n",
       "</div>"
      ],
      "text/plain": [
       "                       location  coordinates.latitude  coordinates.longitude  \\\n",
       "0        Kunshan, Suzhou, China             31.404840              120.90408   \n",
       "1                    atelierYVF             22.290922              114.19941   \n",
       "2  TVA Connected Communities #3             35.991707              -83.89293   \n",
       "3                   Juarez casa             33.717400              117.90313   \n",
       "4         Science Park Shenzhen             22.528564              113.94328   \n",
       "\n",
       "            unit  co  humidity  no2  o3   pm1  pm10  pm25  pressure  so2  \\\n",
       "0  particles/cm³ NaN      55.0  NaN NaN  10.8  20.4  18.5   1004.43  NaN   \n",
       "1             mb NaN      60.0  NaN NaN   3.3   5.7   4.8   1001.94  NaN   \n",
       "2  particles/cm³ NaN      69.0  NaN NaN   7.1  10.2   9.8    983.91  NaN   \n",
       "3          µg/m³ NaN      61.0  NaN NaN  10.3  17.0  15.3   1010.70  NaN   \n",
       "4             mb NaN      57.0  NaN NaN   6.7   7.6   7.5    999.63  NaN   \n",
       "\n",
       "   temperature  um003  um005  um010  um025  um050  um100  \n",
       "0         98.0  20.09   5.72   1.34   0.13   0.02   0.02  \n",
       "1         93.0  11.94   2.54   0.33   0.03   0.01   0.00  \n",
       "2         75.0  13.27   3.70   0.62   0.03   0.00   0.00  \n",
       "3         79.0  18.49   5.34   1.08   0.06   0.02   0.01  \n",
       "4        100.0  44.74   4.40   0.16   0.01   0.00   0.00  "
      ]
     },
     "execution_count": 2,
     "metadata": {},
     "output_type": "execute_result"
    }
   ],
   "source": [
    "df = pd.read_csv(\"China_Air_Quality.csv\")\n",
    "df.head()"
   ]
  },
  {
   "cell_type": "code",
   "execution_count": 3,
   "metadata": {},
   "outputs": [
    {
     "data": {
      "text/plain": [
       "location                  0\n",
       "coordinates.latitude      0\n",
       "coordinates.longitude     0\n",
       "unit                      0\n",
       "co                       26\n",
       "humidity                 91\n",
       "no2                      19\n",
       "o3                       17\n",
       "pm1                      88\n",
       "pm10                     10\n",
       "pm25                      1\n",
       "pressure                 91\n",
       "so2                      18\n",
       "temperature              91\n",
       "um003                    91\n",
       "um005                    91\n",
       "um010                    88\n",
       "um025                    88\n",
       "um050                    91\n",
       "um100                    88\n",
       "dtype: int64"
      ]
     },
     "execution_count": 3,
     "metadata": {},
     "output_type": "execute_result"
    }
   ],
   "source": [
    "df.isnull().sum()"
   ]
  },
  {
   "cell_type": "code",
   "execution_count": 4,
   "metadata": {},
   "outputs": [
    {
     "data": {
      "text/plain": [
       "Index(['location', 'coordinates.latitude', 'coordinates.longitude', 'unit',\n",
       "       'co', 'humidity', 'no2', 'o3', 'pm1', 'pm10', 'pm25', 'pressure', 'so2',\n",
       "       'temperature', 'um003', 'um005', 'um010', 'um025', 'um050', 'um100'],\n",
       "      dtype='object')"
      ]
     },
     "execution_count": 4,
     "metadata": {},
     "output_type": "execute_result"
    }
   ],
   "source": [
    "df.columns"
   ]
  },
  {
   "cell_type": "markdown",
   "metadata": {},
   "source": [
    "We can assume that cities without enough informations are far from areas where the air is so poluant.\n",
    "So we can focus just on the cities that we have enough informations about them."
   ]
  },
  {
   "cell_type": "code",
   "execution_count": 8,
   "metadata": {},
   "outputs": [],
   "source": [
    "reduced_df = df[df['co'].notnull() & df['no2'].notnull() & df['o3'].notnull() & df['pm10'].notnull() & df['pm25'].notnull() & df['so2'].notnull()]"
   ]
  },
  {
   "cell_type": "code",
   "execution_count": 9,
   "metadata": {},
   "outputs": [
    {
     "data": {
      "text/html": [
       "<div>\n",
       "<style scoped>\n",
       "    .dataframe tbody tr th:only-of-type {\n",
       "        vertical-align: middle;\n",
       "    }\n",
       "\n",
       "    .dataframe tbody tr th {\n",
       "        vertical-align: top;\n",
       "    }\n",
       "\n",
       "    .dataframe thead th {\n",
       "        text-align: right;\n",
       "    }\n",
       "</style>\n",
       "<table border=\"1\" class=\"dataframe\">\n",
       "  <thead>\n",
       "    <tr style=\"text-align: right;\">\n",
       "      <th></th>\n",
       "      <th>location</th>\n",
       "      <th>coordinates.latitude</th>\n",
       "      <th>coordinates.longitude</th>\n",
       "      <th>unit</th>\n",
       "      <th>co</th>\n",
       "      <th>humidity</th>\n",
       "      <th>no2</th>\n",
       "      <th>o3</th>\n",
       "      <th>pm1</th>\n",
       "      <th>pm10</th>\n",
       "      <th>pm25</th>\n",
       "      <th>pressure</th>\n",
       "      <th>so2</th>\n",
       "      <th>temperature</th>\n",
       "      <th>um003</th>\n",
       "      <th>um005</th>\n",
       "      <th>um010</th>\n",
       "      <th>um025</th>\n",
       "      <th>um050</th>\n",
       "      <th>um100</th>\n",
       "    </tr>\n",
       "  </thead>\n",
       "  <tbody>\n",
       "    <tr>\n",
       "      <th>5</th>\n",
       "      <td>Mong Kok</td>\n",
       "      <td>22.322500</td>\n",
       "      <td>114.168333</td>\n",
       "      <td>µg/m³</td>\n",
       "      <td>646.8</td>\n",
       "      <td>NaN</td>\n",
       "      <td>62.9</td>\n",
       "      <td>18.9</td>\n",
       "      <td>NaN</td>\n",
       "      <td>14.7</td>\n",
       "      <td>8.3</td>\n",
       "      <td>NaN</td>\n",
       "      <td>5.0</td>\n",
       "      <td>NaN</td>\n",
       "      <td>NaN</td>\n",
       "      <td>NaN</td>\n",
       "      <td>NaN</td>\n",
       "      <td>NaN</td>\n",
       "      <td>NaN</td>\n",
       "      <td>NaN</td>\n",
       "    </tr>\n",
       "    <tr>\n",
       "      <th>6</th>\n",
       "      <td>North</td>\n",
       "      <td>22.496710</td>\n",
       "      <td>114.128240</td>\n",
       "      <td>µg/m³</td>\n",
       "      <td>247.4</td>\n",
       "      <td>NaN</td>\n",
       "      <td>13.2</td>\n",
       "      <td>49.3</td>\n",
       "      <td>NaN</td>\n",
       "      <td>11.3</td>\n",
       "      <td>3.8</td>\n",
       "      <td>NaN</td>\n",
       "      <td>0.7</td>\n",
       "      <td>NaN</td>\n",
       "      <td>NaN</td>\n",
       "      <td>NaN</td>\n",
       "      <td>NaN</td>\n",
       "      <td>NaN</td>\n",
       "      <td>NaN</td>\n",
       "      <td>NaN</td>\n",
       "    </tr>\n",
       "    <tr>\n",
       "      <th>8</th>\n",
       "      <td>Central</td>\n",
       "      <td>22.281944</td>\n",
       "      <td>114.158056</td>\n",
       "      <td>µg/m³</td>\n",
       "      <td>274.9</td>\n",
       "      <td>NaN</td>\n",
       "      <td>44.7</td>\n",
       "      <td>26.6</td>\n",
       "      <td>NaN</td>\n",
       "      <td>11.0</td>\n",
       "      <td>8.2</td>\n",
       "      <td>NaN</td>\n",
       "      <td>2.6</td>\n",
       "      <td>NaN</td>\n",
       "      <td>NaN</td>\n",
       "      <td>NaN</td>\n",
       "      <td>NaN</td>\n",
       "      <td>NaN</td>\n",
       "      <td>NaN</td>\n",
       "      <td>NaN</td>\n",
       "    </tr>\n",
       "    <tr>\n",
       "      <th>9</th>\n",
       "      <td>Tseung Kwan O</td>\n",
       "      <td>22.317778</td>\n",
       "      <td>114.259444</td>\n",
       "      <td>µg/m³</td>\n",
       "      <td>145.6</td>\n",
       "      <td>NaN</td>\n",
       "      <td>9.3</td>\n",
       "      <td>51.2</td>\n",
       "      <td>NaN</td>\n",
       "      <td>10.0</td>\n",
       "      <td>2.4</td>\n",
       "      <td>NaN</td>\n",
       "      <td>4.6</td>\n",
       "      <td>NaN</td>\n",
       "      <td>NaN</td>\n",
       "      <td>NaN</td>\n",
       "      <td>NaN</td>\n",
       "      <td>NaN</td>\n",
       "      <td>NaN</td>\n",
       "      <td>NaN</td>\n",
       "    </tr>\n",
       "    <tr>\n",
       "      <th>11</th>\n",
       "      <td>Tuen Mun</td>\n",
       "      <td>22.391111</td>\n",
       "      <td>113.976667</td>\n",
       "      <td>µg/m³</td>\n",
       "      <td>510.1</td>\n",
       "      <td>NaN</td>\n",
       "      <td>37.1</td>\n",
       "      <td>43.1</td>\n",
       "      <td>NaN</td>\n",
       "      <td>13.0</td>\n",
       "      <td>9.0</td>\n",
       "      <td>NaN</td>\n",
       "      <td>2.9</td>\n",
       "      <td>NaN</td>\n",
       "      <td>NaN</td>\n",
       "      <td>NaN</td>\n",
       "      <td>NaN</td>\n",
       "      <td>NaN</td>\n",
       "      <td>NaN</td>\n",
       "      <td>NaN</td>\n",
       "    </tr>\n",
       "    <tr>\n",
       "      <th>...</th>\n",
       "      <td>...</td>\n",
       "      <td>...</td>\n",
       "      <td>...</td>\n",
       "      <td>...</td>\n",
       "      <td>...</td>\n",
       "      <td>...</td>\n",
       "      <td>...</td>\n",
       "      <td>...</td>\n",
       "      <td>...</td>\n",
       "      <td>...</td>\n",
       "      <td>...</td>\n",
       "      <td>...</td>\n",
       "      <td>...</td>\n",
       "      <td>...</td>\n",
       "      <td>...</td>\n",
       "      <td>...</td>\n",
       "      <td>...</td>\n",
       "      <td>...</td>\n",
       "      <td>...</td>\n",
       "      <td>...</td>\n",
       "    </tr>\n",
       "    <tr>\n",
       "      <th>92</th>\n",
       "      <td>唐尧大酒店</td>\n",
       "      <td>36.101400</td>\n",
       "      <td>111.505000</td>\n",
       "      <td>µg/m³</td>\n",
       "      <td>800.0</td>\n",
       "      <td>NaN</td>\n",
       "      <td>13.0</td>\n",
       "      <td>214.0</td>\n",
       "      <td>NaN</td>\n",
       "      <td>32.0</td>\n",
       "      <td>40.0</td>\n",
       "      <td>NaN</td>\n",
       "      <td>5.0</td>\n",
       "      <td>NaN</td>\n",
       "      <td>NaN</td>\n",
       "      <td>NaN</td>\n",
       "      <td>NaN</td>\n",
       "      <td>NaN</td>\n",
       "      <td>NaN</td>\n",
       "      <td>NaN</td>\n",
       "    </tr>\n",
       "    <tr>\n",
       "      <th>93</th>\n",
       "      <td>城南</td>\n",
       "      <td>36.041400</td>\n",
       "      <td>111.503600</td>\n",
       "      <td>µg/m³</td>\n",
       "      <td>800.0</td>\n",
       "      <td>NaN</td>\n",
       "      <td>21.0</td>\n",
       "      <td>205.0</td>\n",
       "      <td>NaN</td>\n",
       "      <td>86.0</td>\n",
       "      <td>49.0</td>\n",
       "      <td>NaN</td>\n",
       "      <td>6.0</td>\n",
       "      <td>NaN</td>\n",
       "      <td>NaN</td>\n",
       "      <td>NaN</td>\n",
       "      <td>NaN</td>\n",
       "      <td>NaN</td>\n",
       "      <td>NaN</td>\n",
       "      <td>NaN</td>\n",
       "    </tr>\n",
       "    <tr>\n",
       "      <th>94</th>\n",
       "      <td>外国语学校</td>\n",
       "      <td>29.699400</td>\n",
       "      <td>116.025400</td>\n",
       "      <td>µg/m³</td>\n",
       "      <td>600.0</td>\n",
       "      <td>NaN</td>\n",
       "      <td>18.0</td>\n",
       "      <td>162.0</td>\n",
       "      <td>NaN</td>\n",
       "      <td>64.0</td>\n",
       "      <td>38.0</td>\n",
       "      <td>NaN</td>\n",
       "      <td>4.0</td>\n",
       "      <td>NaN</td>\n",
       "      <td>NaN</td>\n",
       "      <td>NaN</td>\n",
       "      <td>NaN</td>\n",
       "      <td>NaN</td>\n",
       "      <td>NaN</td>\n",
       "      <td>NaN</td>\n",
       "    </tr>\n",
       "    <tr>\n",
       "      <th>95</th>\n",
       "      <td>宁德一中</td>\n",
       "      <td>26.656200</td>\n",
       "      <td>119.523100</td>\n",
       "      <td>µg/m³</td>\n",
       "      <td>1700.0</td>\n",
       "      <td>NaN</td>\n",
       "      <td>5.0</td>\n",
       "      <td>137.0</td>\n",
       "      <td>NaN</td>\n",
       "      <td>61.0</td>\n",
       "      <td>35.0</td>\n",
       "      <td>NaN</td>\n",
       "      <td>6.0</td>\n",
       "      <td>NaN</td>\n",
       "      <td>NaN</td>\n",
       "      <td>NaN</td>\n",
       "      <td>NaN</td>\n",
       "      <td>NaN</td>\n",
       "      <td>NaN</td>\n",
       "      <td>NaN</td>\n",
       "    </tr>\n",
       "    <tr>\n",
       "      <th>96</th>\n",
       "      <td>原169医院(对照点)</td>\n",
       "      <td>26.916700</td>\n",
       "      <td>112.500300</td>\n",
       "      <td>µg/m³</td>\n",
       "      <td>600.0</td>\n",
       "      <td>NaN</td>\n",
       "      <td>9.0</td>\n",
       "      <td>119.0</td>\n",
       "      <td>NaN</td>\n",
       "      <td>15.0</td>\n",
       "      <td>12.0</td>\n",
       "      <td>NaN</td>\n",
       "      <td>4.0</td>\n",
       "      <td>NaN</td>\n",
       "      <td>NaN</td>\n",
       "      <td>NaN</td>\n",
       "      <td>NaN</td>\n",
       "      <td>NaN</td>\n",
       "      <td>NaN</td>\n",
       "      <td>NaN</td>\n",
       "    </tr>\n",
       "  </tbody>\n",
       "</table>\n",
       "<p>71 rows × 20 columns</p>\n",
       "</div>"
      ],
      "text/plain": [
       "         location  coordinates.latitude  coordinates.longitude   unit      co  \\\n",
       "5        Mong Kok             22.322500             114.168333  µg/m³   646.8   \n",
       "6           North             22.496710             114.128240  µg/m³   247.4   \n",
       "8         Central             22.281944             114.158056  µg/m³   274.9   \n",
       "9   Tseung Kwan O             22.317778             114.259444  µg/m³   145.6   \n",
       "11       Tuen Mun             22.391111             113.976667  µg/m³   510.1   \n",
       "..            ...                   ...                    ...    ...     ...   \n",
       "92          唐尧大酒店             36.101400             111.505000  µg/m³   800.0   \n",
       "93             城南             36.041400             111.503600  µg/m³   800.0   \n",
       "94          外国语学校             29.699400             116.025400  µg/m³   600.0   \n",
       "95           宁德一中             26.656200             119.523100  µg/m³  1700.0   \n",
       "96    原169医院(对照点)             26.916700             112.500300  µg/m³   600.0   \n",
       "\n",
       "    humidity   no2     o3  pm1  pm10  pm25  pressure  so2  temperature  um003  \\\n",
       "5        NaN  62.9   18.9  NaN  14.7   8.3       NaN  5.0          NaN    NaN   \n",
       "6        NaN  13.2   49.3  NaN  11.3   3.8       NaN  0.7          NaN    NaN   \n",
       "8        NaN  44.7   26.6  NaN  11.0   8.2       NaN  2.6          NaN    NaN   \n",
       "9        NaN   9.3   51.2  NaN  10.0   2.4       NaN  4.6          NaN    NaN   \n",
       "11       NaN  37.1   43.1  NaN  13.0   9.0       NaN  2.9          NaN    NaN   \n",
       "..       ...   ...    ...  ...   ...   ...       ...  ...          ...    ...   \n",
       "92       NaN  13.0  214.0  NaN  32.0  40.0       NaN  5.0          NaN    NaN   \n",
       "93       NaN  21.0  205.0  NaN  86.0  49.0       NaN  6.0          NaN    NaN   \n",
       "94       NaN  18.0  162.0  NaN  64.0  38.0       NaN  4.0          NaN    NaN   \n",
       "95       NaN   5.0  137.0  NaN  61.0  35.0       NaN  6.0          NaN    NaN   \n",
       "96       NaN   9.0  119.0  NaN  15.0  12.0       NaN  4.0          NaN    NaN   \n",
       "\n",
       "    um005  um010  um025  um050  um100  \n",
       "5     NaN    NaN    NaN    NaN    NaN  \n",
       "6     NaN    NaN    NaN    NaN    NaN  \n",
       "8     NaN    NaN    NaN    NaN    NaN  \n",
       "9     NaN    NaN    NaN    NaN    NaN  \n",
       "11    NaN    NaN    NaN    NaN    NaN  \n",
       "..    ...    ...    ...    ...    ...  \n",
       "92    NaN    NaN    NaN    NaN    NaN  \n",
       "93    NaN    NaN    NaN    NaN    NaN  \n",
       "94    NaN    NaN    NaN    NaN    NaN  \n",
       "95    NaN    NaN    NaN    NaN    NaN  \n",
       "96    NaN    NaN    NaN    NaN    NaN  \n",
       "\n",
       "[71 rows x 20 columns]"
      ]
     },
     "execution_count": 9,
     "metadata": {},
     "output_type": "execute_result"
    }
   ],
   "source": [
    "reduced_df"
   ]
  },
  {
   "cell_type": "markdown",
   "metadata": {},
   "source": [
    "We will reduce the dataframe so it will contain just the parameters we need to calculate the AQI : PM10, PM25, NO2, CO and O3. These parameters are also those who don't contain lot of null values"
   ]
  },
  {
   "cell_type": "code",
   "execution_count": 10,
   "metadata": {},
   "outputs": [],
   "source": [
    "reduced_df = reduced_df.drop(columns=['unit', 'humidity', 'pm1', 'pressure', 'temperature', 'um003', 'um005', 'um010', 'um025', 'um050', 'um100'])"
   ]
  },
  {
   "cell_type": "code",
   "execution_count": 11,
   "metadata": {},
   "outputs": [
    {
     "data": {
      "text/html": [
       "<div>\n",
       "<style scoped>\n",
       "    .dataframe tbody tr th:only-of-type {\n",
       "        vertical-align: middle;\n",
       "    }\n",
       "\n",
       "    .dataframe tbody tr th {\n",
       "        vertical-align: top;\n",
       "    }\n",
       "\n",
       "    .dataframe thead th {\n",
       "        text-align: right;\n",
       "    }\n",
       "</style>\n",
       "<table border=\"1\" class=\"dataframe\">\n",
       "  <thead>\n",
       "    <tr style=\"text-align: right;\">\n",
       "      <th></th>\n",
       "      <th>location</th>\n",
       "      <th>coordinates.latitude</th>\n",
       "      <th>coordinates.longitude</th>\n",
       "      <th>co</th>\n",
       "      <th>no2</th>\n",
       "      <th>o3</th>\n",
       "      <th>pm10</th>\n",
       "      <th>pm25</th>\n",
       "      <th>so2</th>\n",
       "    </tr>\n",
       "  </thead>\n",
       "  <tbody>\n",
       "    <tr>\n",
       "      <th>5</th>\n",
       "      <td>Mong Kok</td>\n",
       "      <td>22.322500</td>\n",
       "      <td>114.168333</td>\n",
       "      <td>646.8</td>\n",
       "      <td>62.9</td>\n",
       "      <td>18.9</td>\n",
       "      <td>14.7</td>\n",
       "      <td>8.3</td>\n",
       "      <td>5.0</td>\n",
       "    </tr>\n",
       "    <tr>\n",
       "      <th>6</th>\n",
       "      <td>North</td>\n",
       "      <td>22.496710</td>\n",
       "      <td>114.128240</td>\n",
       "      <td>247.4</td>\n",
       "      <td>13.2</td>\n",
       "      <td>49.3</td>\n",
       "      <td>11.3</td>\n",
       "      <td>3.8</td>\n",
       "      <td>0.7</td>\n",
       "    </tr>\n",
       "    <tr>\n",
       "      <th>8</th>\n",
       "      <td>Central</td>\n",
       "      <td>22.281944</td>\n",
       "      <td>114.158056</td>\n",
       "      <td>274.9</td>\n",
       "      <td>44.7</td>\n",
       "      <td>26.6</td>\n",
       "      <td>11.0</td>\n",
       "      <td>8.2</td>\n",
       "      <td>2.6</td>\n",
       "    </tr>\n",
       "    <tr>\n",
       "      <th>9</th>\n",
       "      <td>Tseung Kwan O</td>\n",
       "      <td>22.317778</td>\n",
       "      <td>114.259444</td>\n",
       "      <td>145.6</td>\n",
       "      <td>9.3</td>\n",
       "      <td>51.2</td>\n",
       "      <td>10.0</td>\n",
       "      <td>2.4</td>\n",
       "      <td>4.6</td>\n",
       "    </tr>\n",
       "    <tr>\n",
       "      <th>11</th>\n",
       "      <td>Tuen Mun</td>\n",
       "      <td>22.391111</td>\n",
       "      <td>113.976667</td>\n",
       "      <td>510.1</td>\n",
       "      <td>37.1</td>\n",
       "      <td>43.1</td>\n",
       "      <td>13.0</td>\n",
       "      <td>9.0</td>\n",
       "      <td>2.9</td>\n",
       "    </tr>\n",
       "    <tr>\n",
       "      <th>...</th>\n",
       "      <td>...</td>\n",
       "      <td>...</td>\n",
       "      <td>...</td>\n",
       "      <td>...</td>\n",
       "      <td>...</td>\n",
       "      <td>...</td>\n",
       "      <td>...</td>\n",
       "      <td>...</td>\n",
       "      <td>...</td>\n",
       "    </tr>\n",
       "    <tr>\n",
       "      <th>92</th>\n",
       "      <td>唐尧大酒店</td>\n",
       "      <td>36.101400</td>\n",
       "      <td>111.505000</td>\n",
       "      <td>800.0</td>\n",
       "      <td>13.0</td>\n",
       "      <td>214.0</td>\n",
       "      <td>32.0</td>\n",
       "      <td>40.0</td>\n",
       "      <td>5.0</td>\n",
       "    </tr>\n",
       "    <tr>\n",
       "      <th>93</th>\n",
       "      <td>城南</td>\n",
       "      <td>36.041400</td>\n",
       "      <td>111.503600</td>\n",
       "      <td>800.0</td>\n",
       "      <td>21.0</td>\n",
       "      <td>205.0</td>\n",
       "      <td>86.0</td>\n",
       "      <td>49.0</td>\n",
       "      <td>6.0</td>\n",
       "    </tr>\n",
       "    <tr>\n",
       "      <th>94</th>\n",
       "      <td>外国语学校</td>\n",
       "      <td>29.699400</td>\n",
       "      <td>116.025400</td>\n",
       "      <td>600.0</td>\n",
       "      <td>18.0</td>\n",
       "      <td>162.0</td>\n",
       "      <td>64.0</td>\n",
       "      <td>38.0</td>\n",
       "      <td>4.0</td>\n",
       "    </tr>\n",
       "    <tr>\n",
       "      <th>95</th>\n",
       "      <td>宁德一中</td>\n",
       "      <td>26.656200</td>\n",
       "      <td>119.523100</td>\n",
       "      <td>1700.0</td>\n",
       "      <td>5.0</td>\n",
       "      <td>137.0</td>\n",
       "      <td>61.0</td>\n",
       "      <td>35.0</td>\n",
       "      <td>6.0</td>\n",
       "    </tr>\n",
       "    <tr>\n",
       "      <th>96</th>\n",
       "      <td>原169医院(对照点)</td>\n",
       "      <td>26.916700</td>\n",
       "      <td>112.500300</td>\n",
       "      <td>600.0</td>\n",
       "      <td>9.0</td>\n",
       "      <td>119.0</td>\n",
       "      <td>15.0</td>\n",
       "      <td>12.0</td>\n",
       "      <td>4.0</td>\n",
       "    </tr>\n",
       "  </tbody>\n",
       "</table>\n",
       "<p>71 rows × 9 columns</p>\n",
       "</div>"
      ],
      "text/plain": [
       "         location  coordinates.latitude  coordinates.longitude      co   no2  \\\n",
       "5        Mong Kok             22.322500             114.168333   646.8  62.9   \n",
       "6           North             22.496710             114.128240   247.4  13.2   \n",
       "8         Central             22.281944             114.158056   274.9  44.7   \n",
       "9   Tseung Kwan O             22.317778             114.259444   145.6   9.3   \n",
       "11       Tuen Mun             22.391111             113.976667   510.1  37.1   \n",
       "..            ...                   ...                    ...     ...   ...   \n",
       "92          唐尧大酒店             36.101400             111.505000   800.0  13.0   \n",
       "93             城南             36.041400             111.503600   800.0  21.0   \n",
       "94          外国语学校             29.699400             116.025400   600.0  18.0   \n",
       "95           宁德一中             26.656200             119.523100  1700.0   5.0   \n",
       "96    原169医院(对照点)             26.916700             112.500300   600.0   9.0   \n",
       "\n",
       "       o3  pm10  pm25  so2  \n",
       "5    18.9  14.7   8.3  5.0  \n",
       "6    49.3  11.3   3.8  0.7  \n",
       "8    26.6  11.0   8.2  2.6  \n",
       "9    51.2  10.0   2.4  4.6  \n",
       "11   43.1  13.0   9.0  2.9  \n",
       "..    ...   ...   ...  ...  \n",
       "92  214.0  32.0  40.0  5.0  \n",
       "93  205.0  86.0  49.0  6.0  \n",
       "94  162.0  64.0  38.0  4.0  \n",
       "95  137.0  61.0  35.0  6.0  \n",
       "96  119.0  15.0  12.0  4.0  \n",
       "\n",
       "[71 rows x 9 columns]"
      ]
     },
     "execution_count": 11,
     "metadata": {},
     "output_type": "execute_result"
    }
   ],
   "source": [
    "reduced_df"
   ]
  },
  {
   "cell_type": "code",
   "execution_count": 12,
   "metadata": {},
   "outputs": [
    {
     "data": {
      "text/plain": [
       "location                 0\n",
       "coordinates.latitude     0\n",
       "coordinates.longitude    0\n",
       "co                       0\n",
       "no2                      0\n",
       "o3                       0\n",
       "pm10                     0\n",
       "pm25                     0\n",
       "so2                      0\n",
       "dtype: int64"
      ]
     },
     "execution_count": 12,
     "metadata": {},
     "output_type": "execute_result"
    }
   ],
   "source": [
    "reduced_df.isnull().sum()"
   ]
  },
  {
   "cell_type": "markdown",
   "metadata": {},
   "source": [
    "# Exploratory data analysis"
   ]
  },
  {
   "cell_type": "markdown",
   "metadata": {},
   "source": [
    "### Visualize the CO level"
   ]
  },
  {
   "cell_type": "code",
   "execution_count": 15,
   "metadata": {},
   "outputs": [],
   "source": [
    "import folium\n",
    "\n",
    "# Create a base map centered at an initial location\n",
    "map_center = [reduced_df['coordinates.latitude'].mean(), reduced_df['coordinates.longitude'].mean()]  # Center the map based on average latitude and longitude\n",
    "m = folium.Map(location=map_center, zoom_start=4)\n",
    "\n",
    "# Add markers to the map\n",
    "for index, row in reduced_df.iterrows():\n",
    "    folium.Marker(\n",
    "        location=[row['coordinates.latitude'], row['coordinates.longitude']],\n",
    "        popup=f\"City: {row['location']}<br>Parameter Value: {row['co']}\",\n",
    "        icon=folium.Icon(color='blue')\n",
    "    ).add_to(m)\n",
    "\n",
    "# Display the map\n",
    "m.save('map_with_markers.html')  # Save the map as an HTML file\n"
   ]
  },
  {
   "cell_type": "code",
   "execution_count": 22,
   "metadata": {},
   "outputs": [
    {
     "data": {
      "application/vnd.plotly.v1+json": {
       "config": {
        "plotlyServerURL": "https://plot.ly"
       },
       "data": [
        {
         "hovertemplate": "<b>%{hovertext}</b><br><br>co=%{marker.color}<br>coordinates.latitude=%{lat}<br>coordinates.longitude=%{lon}<extra></extra>",
         "hovertext": [
          "Mong Kok",
          "North",
          "Central",
          "Tseung Kwan O",
          "Tuen Mun",
          "Causeway Bay",
          "Tap Mun",
          "Tsuen Wan",
          "Yuen Long",
          "Southern",
          "安钢职工学校",
          "官渡区博物馆",
          "宿豫区政府",
          "市人大",
          "市第七中学",
          "广陵建设局",
          "文明里",
          "歇台子",
          "河西一经路",
          "海东办",
          "芒市人民政府综合楼",
          "蓝田镇",
          "规划局",
          "质量技术监督局",
          "路南电大",
          "昆区政府",
          "东山小学",
          "机电学校",
          "贺兰山马莲口(对照点)",
          "开发区子站",
          "监测站",
          "奥体中心",
          "浦口",
          "人口学校",
          "武功山(对照点)",
          "马山宾馆",
          "延安路89号",
          "三里街",
          "长江中路",
          "滨湖新区",
          "包河区",
          "阜阳职业技术学院",
          "人大宾馆",
          "池州学院",
          "市第九中学",
          "市公路局",
          "市新民污水厂",
          "工人疗养院",
          "八公山区政府",
          "市环保局",
          "职工医院",
          "榆中兰大校区(对照点)",
          "庐山气象台(对照点)",
          "环保监测大楼",
          "红石峡森林公园(对照点)",
          "睢阳区环保局",
          "淮河道",
          "安家",
          "金胜",
          "环保局",
          "理工学院",
          "远航博物馆",
          "市体育局",
          "东关招商场",
          "中山北路",
          "双创科技城",
          "唐尧大酒店",
          "城南",
          "外国语学校",
          "宁德一中",
          "原169医院(对照点)"
         ],
         "lat": [
          22.3225,
          22.496710000000004,
          22.281944444444445,
          22.317777777777778,
          22.391111111111112,
          22.28,
          22.47138888888889,
          22.371666666666663,
          22.44527777777778,
          22.247430000000005,
          36.0949,
          25.0119,
          33.944700000000005,
          31.453499999999995,
          35.40539999999999,
          32.394200000000005,
          39.943889000000006,
          29.5346,
          39.2474,
          40.8389,
          24.4368,
          24.506,
          33.73,
          27.8094,
          39.6202,
          40.6576,
          36.6868,
          28.6062,
          38.6016,
          30.9427,
          32.4287,
          39.9821,
          32.0931,
          36.20170000000001,
          27.500200000000003,
          30.5119,
          29.696300000000004,
          31.8764,
          31.8571,
          31.7385,
          31.7964,
          32.88920000000001,
          32.27859999999999,
          30.6618,
          30.8792,
          30.9273,
          30.9413,
          32.939,
          32.633,
          42.9418,
          38.0444,
          35.9454,
          29.5698,
          38.24779999999999,
          38.33440000000001,
          34.3948,
          39.2133,
          31.9087,
          37.78199999999999,
          32.9917,
          32.9692,
          33.666,
          32.3972,
          37.9325,
          39.16989999999999,
          28.4315,
          36.101400000000005,
          36.0414,
          29.6994,
          26.6562,
          26.916699999999995
         ],
         "legendgroup": "",
         "lon": [
          114.16833333333334,
          114.12824,
          114.15805555555558,
          114.25944444444444,
          113.97666666666667,
          114.185,
          114.36083333333332,
          114.11444444444444,
          114.02277777777776,
          114.16015,
          114.2917,
          102.7494,
          118.3225,
          104.7563,
          116.59069999999998,
          119.4686,
          119.610547,
          106.49580000000002,
          117.79179999999998,
          111.6518,
          98.5881,
          117.7116,
          113.3025,
          99.7136,
          118.1436,
          109.83310000000002,
          117.532,
          115.9084,
          105.9512,
          118.7173,
          105.8628,
          116.39660000000002,
          118.6414,
          117.0885,
          114.0997,
          117.0331,
          118.2903,
          117.30719999999998,
          117.25,
          117.2776,
          117.3027,
          115.784,
          118.32439999999998,
          117.47,
          117.74389999999998,
          117.8059,
          117.7807,
          117.396,
          116.8281,
          89.1904,
          114.4422,
          104.1373,
          115.9773,
          109.7336,
          109.7414,
          115.6293,
          117.1837,
          119.9255,
          112.4701,
          112.5192,
          112.548,
          116.9509,
          119.3633,
          102.6486,
          117.2101,
          117.897,
          111.505,
          111.5036,
          116.0254,
          119.5231,
          112.5003
         ],
         "marker": {
          "color": [
           646.8,
           247.4,
           274.9,
           145.6,
           510.1,
           352.7,
           473.8,
           346.4,
           546,
           164.7,
           600,
           800,
           500,
           700,
           800,
           1300,
           700,
           1100,
           900,
           500,
           900,
           300,
           500,
           900,
           500,
           700,
           800,
           700,
           800,
           700,
           300,
           400,
           200,
           600,
           900,
           900,
           500,
           700,
           700,
           800,
           800,
           400,
           800,
           800,
           1100,
           700,
           1300,
           500,
           700,
           400,
           700,
           700,
           300,
           400,
           300,
           600,
           700,
           1300,
           600,
           700,
           600,
           400,
           1200,
           300,
           900,
           400,
           800,
           800,
           600,
           1700,
           600
          ],
          "coloraxis": "coloraxis",
          "size": [
           646.8,
           247.4,
           274.9,
           145.6,
           510.1,
           352.7,
           473.8,
           346.4,
           546,
           164.7,
           600,
           800,
           500,
           700,
           800,
           1300,
           700,
           1100,
           900,
           500,
           900,
           300,
           500,
           900,
           500,
           700,
           800,
           700,
           800,
           700,
           300,
           400,
           200,
           600,
           900,
           900,
           500,
           700,
           700,
           800,
           800,
           400,
           800,
           800,
           1100,
           700,
           1300,
           500,
           700,
           400,
           700,
           700,
           300,
           400,
           300,
           600,
           700,
           1300,
           600,
           700,
           600,
           400,
           1200,
           300,
           900,
           400,
           800,
           800,
           600,
           1700,
           600
          ],
          "sizemode": "area",
          "sizeref": 0.68
         },
         "mode": "markers",
         "name": "",
         "showlegend": false,
         "subplot": "mapbox",
         "type": "scattermapbox"
        }
       ],
       "layout": {
        "coloraxis": {
         "colorbar": {
          "title": {
           "text": "co"
          }
         },
         "colorscale": [
          [
           0,
           "#440154"
          ],
          [
           0.1111111111111111,
           "#482878"
          ],
          [
           0.2222222222222222,
           "#3e4989"
          ],
          [
           0.3333333333333333,
           "#31688e"
          ],
          [
           0.4444444444444444,
           "#26828e"
          ],
          [
           0.5555555555555556,
           "#1f9e89"
          ],
          [
           0.6666666666666666,
           "#35b779"
          ],
          [
           0.7777777777777778,
           "#6ece58"
          ],
          [
           0.8888888888888888,
           "#b5de2b"
          ],
          [
           1,
           "#fde725"
          ]
         ]
        },
        "legend": {
         "itemsizing": "constant",
         "tracegroupgap": 0
        },
        "mapbox": {
         "center": {
          "lat": 31.863095713615024,
          "lon": 113.84468581064164
         },
         "domain": {
          "x": [
           0,
           1
          ],
          "y": [
           0,
           1
          ]
         },
         "style": "carto-positron",
         "zoom": 4
        },
        "margin": {
         "t": 60
        },
        "template": {
         "data": {
          "bar": [
           {
            "error_x": {
             "color": "#2a3f5f"
            },
            "error_y": {
             "color": "#2a3f5f"
            },
            "marker": {
             "line": {
              "color": "#E5ECF6",
              "width": 0.5
             },
             "pattern": {
              "fillmode": "overlay",
              "size": 10,
              "solidity": 0.2
             }
            },
            "type": "bar"
           }
          ],
          "barpolar": [
           {
            "marker": {
             "line": {
              "color": "#E5ECF6",
              "width": 0.5
             },
             "pattern": {
              "fillmode": "overlay",
              "size": 10,
              "solidity": 0.2
             }
            },
            "type": "barpolar"
           }
          ],
          "carpet": [
           {
            "aaxis": {
             "endlinecolor": "#2a3f5f",
             "gridcolor": "white",
             "linecolor": "white",
             "minorgridcolor": "white",
             "startlinecolor": "#2a3f5f"
            },
            "baxis": {
             "endlinecolor": "#2a3f5f",
             "gridcolor": "white",
             "linecolor": "white",
             "minorgridcolor": "white",
             "startlinecolor": "#2a3f5f"
            },
            "type": "carpet"
           }
          ],
          "choropleth": [
           {
            "colorbar": {
             "outlinewidth": 0,
             "ticks": ""
            },
            "type": "choropleth"
           }
          ],
          "contour": [
           {
            "colorbar": {
             "outlinewidth": 0,
             "ticks": ""
            },
            "colorscale": [
             [
              0,
              "#0d0887"
             ],
             [
              0.1111111111111111,
              "#46039f"
             ],
             [
              0.2222222222222222,
              "#7201a8"
             ],
             [
              0.3333333333333333,
              "#9c179e"
             ],
             [
              0.4444444444444444,
              "#bd3786"
             ],
             [
              0.5555555555555556,
              "#d8576b"
             ],
             [
              0.6666666666666666,
              "#ed7953"
             ],
             [
              0.7777777777777778,
              "#fb9f3a"
             ],
             [
              0.8888888888888888,
              "#fdca26"
             ],
             [
              1,
              "#f0f921"
             ]
            ],
            "type": "contour"
           }
          ],
          "contourcarpet": [
           {
            "colorbar": {
             "outlinewidth": 0,
             "ticks": ""
            },
            "type": "contourcarpet"
           }
          ],
          "heatmap": [
           {
            "colorbar": {
             "outlinewidth": 0,
             "ticks": ""
            },
            "colorscale": [
             [
              0,
              "#0d0887"
             ],
             [
              0.1111111111111111,
              "#46039f"
             ],
             [
              0.2222222222222222,
              "#7201a8"
             ],
             [
              0.3333333333333333,
              "#9c179e"
             ],
             [
              0.4444444444444444,
              "#bd3786"
             ],
             [
              0.5555555555555556,
              "#d8576b"
             ],
             [
              0.6666666666666666,
              "#ed7953"
             ],
             [
              0.7777777777777778,
              "#fb9f3a"
             ],
             [
              0.8888888888888888,
              "#fdca26"
             ],
             [
              1,
              "#f0f921"
             ]
            ],
            "type": "heatmap"
           }
          ],
          "heatmapgl": [
           {
            "colorbar": {
             "outlinewidth": 0,
             "ticks": ""
            },
            "colorscale": [
             [
              0,
              "#0d0887"
             ],
             [
              0.1111111111111111,
              "#46039f"
             ],
             [
              0.2222222222222222,
              "#7201a8"
             ],
             [
              0.3333333333333333,
              "#9c179e"
             ],
             [
              0.4444444444444444,
              "#bd3786"
             ],
             [
              0.5555555555555556,
              "#d8576b"
             ],
             [
              0.6666666666666666,
              "#ed7953"
             ],
             [
              0.7777777777777778,
              "#fb9f3a"
             ],
             [
              0.8888888888888888,
              "#fdca26"
             ],
             [
              1,
              "#f0f921"
             ]
            ],
            "type": "heatmapgl"
           }
          ],
          "histogram": [
           {
            "marker": {
             "pattern": {
              "fillmode": "overlay",
              "size": 10,
              "solidity": 0.2
             }
            },
            "type": "histogram"
           }
          ],
          "histogram2d": [
           {
            "colorbar": {
             "outlinewidth": 0,
             "ticks": ""
            },
            "colorscale": [
             [
              0,
              "#0d0887"
             ],
             [
              0.1111111111111111,
              "#46039f"
             ],
             [
              0.2222222222222222,
              "#7201a8"
             ],
             [
              0.3333333333333333,
              "#9c179e"
             ],
             [
              0.4444444444444444,
              "#bd3786"
             ],
             [
              0.5555555555555556,
              "#d8576b"
             ],
             [
              0.6666666666666666,
              "#ed7953"
             ],
             [
              0.7777777777777778,
              "#fb9f3a"
             ],
             [
              0.8888888888888888,
              "#fdca26"
             ],
             [
              1,
              "#f0f921"
             ]
            ],
            "type": "histogram2d"
           }
          ],
          "histogram2dcontour": [
           {
            "colorbar": {
             "outlinewidth": 0,
             "ticks": ""
            },
            "colorscale": [
             [
              0,
              "#0d0887"
             ],
             [
              0.1111111111111111,
              "#46039f"
             ],
             [
              0.2222222222222222,
              "#7201a8"
             ],
             [
              0.3333333333333333,
              "#9c179e"
             ],
             [
              0.4444444444444444,
              "#bd3786"
             ],
             [
              0.5555555555555556,
              "#d8576b"
             ],
             [
              0.6666666666666666,
              "#ed7953"
             ],
             [
              0.7777777777777778,
              "#fb9f3a"
             ],
             [
              0.8888888888888888,
              "#fdca26"
             ],
             [
              1,
              "#f0f921"
             ]
            ],
            "type": "histogram2dcontour"
           }
          ],
          "mesh3d": [
           {
            "colorbar": {
             "outlinewidth": 0,
             "ticks": ""
            },
            "type": "mesh3d"
           }
          ],
          "parcoords": [
           {
            "line": {
             "colorbar": {
              "outlinewidth": 0,
              "ticks": ""
             }
            },
            "type": "parcoords"
           }
          ],
          "pie": [
           {
            "automargin": true,
            "type": "pie"
           }
          ],
          "scatter": [
           {
            "fillpattern": {
             "fillmode": "overlay",
             "size": 10,
             "solidity": 0.2
            },
            "type": "scatter"
           }
          ],
          "scatter3d": [
           {
            "line": {
             "colorbar": {
              "outlinewidth": 0,
              "ticks": ""
             }
            },
            "marker": {
             "colorbar": {
              "outlinewidth": 0,
              "ticks": ""
             }
            },
            "type": "scatter3d"
           }
          ],
          "scattercarpet": [
           {
            "marker": {
             "colorbar": {
              "outlinewidth": 0,
              "ticks": ""
             }
            },
            "type": "scattercarpet"
           }
          ],
          "scattergeo": [
           {
            "marker": {
             "colorbar": {
              "outlinewidth": 0,
              "ticks": ""
             }
            },
            "type": "scattergeo"
           }
          ],
          "scattergl": [
           {
            "marker": {
             "colorbar": {
              "outlinewidth": 0,
              "ticks": ""
             }
            },
            "type": "scattergl"
           }
          ],
          "scattermapbox": [
           {
            "marker": {
             "colorbar": {
              "outlinewidth": 0,
              "ticks": ""
             }
            },
            "type": "scattermapbox"
           }
          ],
          "scatterpolar": [
           {
            "marker": {
             "colorbar": {
              "outlinewidth": 0,
              "ticks": ""
             }
            },
            "type": "scatterpolar"
           }
          ],
          "scatterpolargl": [
           {
            "marker": {
             "colorbar": {
              "outlinewidth": 0,
              "ticks": ""
             }
            },
            "type": "scatterpolargl"
           }
          ],
          "scatterternary": [
           {
            "marker": {
             "colorbar": {
              "outlinewidth": 0,
              "ticks": ""
             }
            },
            "type": "scatterternary"
           }
          ],
          "surface": [
           {
            "colorbar": {
             "outlinewidth": 0,
             "ticks": ""
            },
            "colorscale": [
             [
              0,
              "#0d0887"
             ],
             [
              0.1111111111111111,
              "#46039f"
             ],
             [
              0.2222222222222222,
              "#7201a8"
             ],
             [
              0.3333333333333333,
              "#9c179e"
             ],
             [
              0.4444444444444444,
              "#bd3786"
             ],
             [
              0.5555555555555556,
              "#d8576b"
             ],
             [
              0.6666666666666666,
              "#ed7953"
             ],
             [
              0.7777777777777778,
              "#fb9f3a"
             ],
             [
              0.8888888888888888,
              "#fdca26"
             ],
             [
              1,
              "#f0f921"
             ]
            ],
            "type": "surface"
           }
          ],
          "table": [
           {
            "cells": {
             "fill": {
              "color": "#EBF0F8"
             },
             "line": {
              "color": "white"
             }
            },
            "header": {
             "fill": {
              "color": "#C8D4E3"
             },
             "line": {
              "color": "white"
             }
            },
            "type": "table"
           }
          ]
         },
         "layout": {
          "annotationdefaults": {
           "arrowcolor": "#2a3f5f",
           "arrowhead": 0,
           "arrowwidth": 1
          },
          "autotypenumbers": "strict",
          "coloraxis": {
           "colorbar": {
            "outlinewidth": 0,
            "ticks": ""
           }
          },
          "colorscale": {
           "diverging": [
            [
             0,
             "#8e0152"
            ],
            [
             0.1,
             "#c51b7d"
            ],
            [
             0.2,
             "#de77ae"
            ],
            [
             0.3,
             "#f1b6da"
            ],
            [
             0.4,
             "#fde0ef"
            ],
            [
             0.5,
             "#f7f7f7"
            ],
            [
             0.6,
             "#e6f5d0"
            ],
            [
             0.7,
             "#b8e186"
            ],
            [
             0.8,
             "#7fbc41"
            ],
            [
             0.9,
             "#4d9221"
            ],
            [
             1,
             "#276419"
            ]
           ],
           "sequential": [
            [
             0,
             "#0d0887"
            ],
            [
             0.1111111111111111,
             "#46039f"
            ],
            [
             0.2222222222222222,
             "#7201a8"
            ],
            [
             0.3333333333333333,
             "#9c179e"
            ],
            [
             0.4444444444444444,
             "#bd3786"
            ],
            [
             0.5555555555555556,
             "#d8576b"
            ],
            [
             0.6666666666666666,
             "#ed7953"
            ],
            [
             0.7777777777777778,
             "#fb9f3a"
            ],
            [
             0.8888888888888888,
             "#fdca26"
            ],
            [
             1,
             "#f0f921"
            ]
           ],
           "sequentialminus": [
            [
             0,
             "#0d0887"
            ],
            [
             0.1111111111111111,
             "#46039f"
            ],
            [
             0.2222222222222222,
             "#7201a8"
            ],
            [
             0.3333333333333333,
             "#9c179e"
            ],
            [
             0.4444444444444444,
             "#bd3786"
            ],
            [
             0.5555555555555556,
             "#d8576b"
            ],
            [
             0.6666666666666666,
             "#ed7953"
            ],
            [
             0.7777777777777778,
             "#fb9f3a"
            ],
            [
             0.8888888888888888,
             "#fdca26"
            ],
            [
             1,
             "#f0f921"
            ]
           ]
          },
          "colorway": [
           "#636efa",
           "#EF553B",
           "#00cc96",
           "#ab63fa",
           "#FFA15A",
           "#19d3f3",
           "#FF6692",
           "#B6E880",
           "#FF97FF",
           "#FECB52"
          ],
          "font": {
           "color": "#2a3f5f"
          },
          "geo": {
           "bgcolor": "white",
           "lakecolor": "white",
           "landcolor": "#E5ECF6",
           "showlakes": true,
           "showland": true,
           "subunitcolor": "white"
          },
          "hoverlabel": {
           "align": "left"
          },
          "hovermode": "closest",
          "mapbox": {
           "style": "light"
          },
          "paper_bgcolor": "white",
          "plot_bgcolor": "#E5ECF6",
          "polar": {
           "angularaxis": {
            "gridcolor": "white",
            "linecolor": "white",
            "ticks": ""
           },
           "bgcolor": "#E5ECF6",
           "radialaxis": {
            "gridcolor": "white",
            "linecolor": "white",
            "ticks": ""
           }
          },
          "scene": {
           "xaxis": {
            "backgroundcolor": "#E5ECF6",
            "gridcolor": "white",
            "gridwidth": 2,
            "linecolor": "white",
            "showbackground": true,
            "ticks": "",
            "zerolinecolor": "white"
           },
           "yaxis": {
            "backgroundcolor": "#E5ECF6",
            "gridcolor": "white",
            "gridwidth": 2,
            "linecolor": "white",
            "showbackground": true,
            "ticks": "",
            "zerolinecolor": "white"
           },
           "zaxis": {
            "backgroundcolor": "#E5ECF6",
            "gridcolor": "white",
            "gridwidth": 2,
            "linecolor": "white",
            "showbackground": true,
            "ticks": "",
            "zerolinecolor": "white"
           }
          },
          "shapedefaults": {
           "line": {
            "color": "#2a3f5f"
           }
          },
          "ternary": {
           "aaxis": {
            "gridcolor": "white",
            "linecolor": "white",
            "ticks": ""
           },
           "baxis": {
            "gridcolor": "white",
            "linecolor": "white",
            "ticks": ""
           },
           "bgcolor": "#E5ECF6",
           "caxis": {
            "gridcolor": "white",
            "linecolor": "white",
            "ticks": ""
           }
          },
          "title": {
           "x": 0.05
          },
          "xaxis": {
           "automargin": true,
           "gridcolor": "white",
           "linecolor": "white",
           "ticks": "",
           "title": {
            "standoff": 15
           },
           "zerolinecolor": "white",
           "zerolinewidth": 2
          },
          "yaxis": {
           "automargin": true,
           "gridcolor": "white",
           "linecolor": "white",
           "ticks": "",
           "title": {
            "standoff": 15
           },
           "zerolinecolor": "white",
           "zerolinewidth": 2
          }
         }
        }
       }
      }
     },
     "metadata": {},
     "output_type": "display_data"
    }
   ],
   "source": [
    "import plotly.express as px\n",
    "\n",
    "# Create a bubble map visualization\n",
    "fig = px.scatter_mapbox(\n",
    "    reduced_df,\n",
    "    lat='coordinates.latitude',\n",
    "    lon='coordinates.longitude',\n",
    "    hover_name='location',\n",
    "    size='co',  # Size of bubbles based on 'value' column\n",
    "    color='co',  # Color of bubbles based on 'value' column\n",
    "    color_continuous_scale='Viridis',  # Color scale\n",
    "    size_max=50,  # Maximum size of bubbles\n",
    ")\n",
    "\n",
    "# Update the map layout\n",
    "fig.update_layout(\n",
    "    mapbox_style='carto-positron',  # Map style\n",
    "    mapbox_zoom=4,  # Initial zoom level\n",
    "    mapbox_center={'lat': reduced_df['coordinates.latitude'].mean(), 'lon': reduced_df['coordinates.longitude'].mean()},  # Map center\n",
    ")\n",
    "\n",
    "# Display the plot\n",
    "fig.show()\n"
   ]
  },
  {
   "cell_type": "code",
   "execution_count": 21,
   "metadata": {},
   "outputs": [
    {
     "data": {
      "application/vnd.plotly.v1+json": {
       "config": {
        "plotlyServerURL": "https://plot.ly"
       },
       "data": [
        {
         "hovertemplate": "<b>%{hovertext}</b><br><br>co=%{marker.color}<br>coordinates.latitude=%{lat}<br>coordinates.longitude=%{lon}<extra></extra>",
         "hovertext": [
          "广陵建设局",
          "歇台子",
          "市第九中学",
          "市新民污水厂",
          "安家",
          "市体育局",
          "宁德一中"
         ],
         "lat": [
          32.394200000000005,
          29.5346,
          30.8792,
          30.9413,
          31.9087,
          32.3972,
          26.6562
         ],
         "legendgroup": "",
         "lon": [
          119.4686,
          106.49580000000002,
          117.74389999999998,
          117.7807,
          119.9255,
          119.3633,
          119.5231
         ],
         "marker": {
          "color": [
           1300,
           1100,
           1100,
           1300,
           1300,
           1200,
           1700
          ],
          "coloraxis": "coloraxis",
          "size": [
           1300,
           1100,
           1100,
           1300,
           1300,
           1200,
           1700
          ],
          "sizemode": "area",
          "sizeref": 0.68
         },
         "mode": "markers",
         "name": "",
         "showlegend": false,
         "subplot": "mapbox",
         "type": "scattermapbox"
        }
       ],
       "layout": {
        "coloraxis": {
         "colorbar": {
          "title": {
           "text": "co"
          }
         },
         "colorscale": [
          [
           0,
           "#440154"
          ],
          [
           0.1111111111111111,
           "#482878"
          ],
          [
           0.2222222222222222,
           "#3e4989"
          ],
          [
           0.3333333333333333,
           "#31688e"
          ],
          [
           0.4444444444444444,
           "#26828e"
          ],
          [
           0.5555555555555556,
           "#1f9e89"
          ],
          [
           0.6666666666666666,
           "#35b779"
          ],
          [
           0.7777777777777778,
           "#6ece58"
          ],
          [
           0.8888888888888888,
           "#b5de2b"
          ],
          [
           1,
           "#fde725"
          ]
         ]
        },
        "legend": {
         "itemsizing": "constant",
         "tracegroupgap": 0
        },
        "mapbox": {
         "center": {
          "lat": 30.673057142857147,
          "lon": 117.18584285714287
         },
         "domain": {
          "x": [
           0,
           1
          ],
          "y": [
           0,
           1
          ]
         },
         "style": "carto-positron",
         "zoom": 4
        },
        "margin": {
         "t": 60
        },
        "template": {
         "data": {
          "bar": [
           {
            "error_x": {
             "color": "#2a3f5f"
            },
            "error_y": {
             "color": "#2a3f5f"
            },
            "marker": {
             "line": {
              "color": "#E5ECF6",
              "width": 0.5
             },
             "pattern": {
              "fillmode": "overlay",
              "size": 10,
              "solidity": 0.2
             }
            },
            "type": "bar"
           }
          ],
          "barpolar": [
           {
            "marker": {
             "line": {
              "color": "#E5ECF6",
              "width": 0.5
             },
             "pattern": {
              "fillmode": "overlay",
              "size": 10,
              "solidity": 0.2
             }
            },
            "type": "barpolar"
           }
          ],
          "carpet": [
           {
            "aaxis": {
             "endlinecolor": "#2a3f5f",
             "gridcolor": "white",
             "linecolor": "white",
             "minorgridcolor": "white",
             "startlinecolor": "#2a3f5f"
            },
            "baxis": {
             "endlinecolor": "#2a3f5f",
             "gridcolor": "white",
             "linecolor": "white",
             "minorgridcolor": "white",
             "startlinecolor": "#2a3f5f"
            },
            "type": "carpet"
           }
          ],
          "choropleth": [
           {
            "colorbar": {
             "outlinewidth": 0,
             "ticks": ""
            },
            "type": "choropleth"
           }
          ],
          "contour": [
           {
            "colorbar": {
             "outlinewidth": 0,
             "ticks": ""
            },
            "colorscale": [
             [
              0,
              "#0d0887"
             ],
             [
              0.1111111111111111,
              "#46039f"
             ],
             [
              0.2222222222222222,
              "#7201a8"
             ],
             [
              0.3333333333333333,
              "#9c179e"
             ],
             [
              0.4444444444444444,
              "#bd3786"
             ],
             [
              0.5555555555555556,
              "#d8576b"
             ],
             [
              0.6666666666666666,
              "#ed7953"
             ],
             [
              0.7777777777777778,
              "#fb9f3a"
             ],
             [
              0.8888888888888888,
              "#fdca26"
             ],
             [
              1,
              "#f0f921"
             ]
            ],
            "type": "contour"
           }
          ],
          "contourcarpet": [
           {
            "colorbar": {
             "outlinewidth": 0,
             "ticks": ""
            },
            "type": "contourcarpet"
           }
          ],
          "heatmap": [
           {
            "colorbar": {
             "outlinewidth": 0,
             "ticks": ""
            },
            "colorscale": [
             [
              0,
              "#0d0887"
             ],
             [
              0.1111111111111111,
              "#46039f"
             ],
             [
              0.2222222222222222,
              "#7201a8"
             ],
             [
              0.3333333333333333,
              "#9c179e"
             ],
             [
              0.4444444444444444,
              "#bd3786"
             ],
             [
              0.5555555555555556,
              "#d8576b"
             ],
             [
              0.6666666666666666,
              "#ed7953"
             ],
             [
              0.7777777777777778,
              "#fb9f3a"
             ],
             [
              0.8888888888888888,
              "#fdca26"
             ],
             [
              1,
              "#f0f921"
             ]
            ],
            "type": "heatmap"
           }
          ],
          "heatmapgl": [
           {
            "colorbar": {
             "outlinewidth": 0,
             "ticks": ""
            },
            "colorscale": [
             [
              0,
              "#0d0887"
             ],
             [
              0.1111111111111111,
              "#46039f"
             ],
             [
              0.2222222222222222,
              "#7201a8"
             ],
             [
              0.3333333333333333,
              "#9c179e"
             ],
             [
              0.4444444444444444,
              "#bd3786"
             ],
             [
              0.5555555555555556,
              "#d8576b"
             ],
             [
              0.6666666666666666,
              "#ed7953"
             ],
             [
              0.7777777777777778,
              "#fb9f3a"
             ],
             [
              0.8888888888888888,
              "#fdca26"
             ],
             [
              1,
              "#f0f921"
             ]
            ],
            "type": "heatmapgl"
           }
          ],
          "histogram": [
           {
            "marker": {
             "pattern": {
              "fillmode": "overlay",
              "size": 10,
              "solidity": 0.2
             }
            },
            "type": "histogram"
           }
          ],
          "histogram2d": [
           {
            "colorbar": {
             "outlinewidth": 0,
             "ticks": ""
            },
            "colorscale": [
             [
              0,
              "#0d0887"
             ],
             [
              0.1111111111111111,
              "#46039f"
             ],
             [
              0.2222222222222222,
              "#7201a8"
             ],
             [
              0.3333333333333333,
              "#9c179e"
             ],
             [
              0.4444444444444444,
              "#bd3786"
             ],
             [
              0.5555555555555556,
              "#d8576b"
             ],
             [
              0.6666666666666666,
              "#ed7953"
             ],
             [
              0.7777777777777778,
              "#fb9f3a"
             ],
             [
              0.8888888888888888,
              "#fdca26"
             ],
             [
              1,
              "#f0f921"
             ]
            ],
            "type": "histogram2d"
           }
          ],
          "histogram2dcontour": [
           {
            "colorbar": {
             "outlinewidth": 0,
             "ticks": ""
            },
            "colorscale": [
             [
              0,
              "#0d0887"
             ],
             [
              0.1111111111111111,
              "#46039f"
             ],
             [
              0.2222222222222222,
              "#7201a8"
             ],
             [
              0.3333333333333333,
              "#9c179e"
             ],
             [
              0.4444444444444444,
              "#bd3786"
             ],
             [
              0.5555555555555556,
              "#d8576b"
             ],
             [
              0.6666666666666666,
              "#ed7953"
             ],
             [
              0.7777777777777778,
              "#fb9f3a"
             ],
             [
              0.8888888888888888,
              "#fdca26"
             ],
             [
              1,
              "#f0f921"
             ]
            ],
            "type": "histogram2dcontour"
           }
          ],
          "mesh3d": [
           {
            "colorbar": {
             "outlinewidth": 0,
             "ticks": ""
            },
            "type": "mesh3d"
           }
          ],
          "parcoords": [
           {
            "line": {
             "colorbar": {
              "outlinewidth": 0,
              "ticks": ""
             }
            },
            "type": "parcoords"
           }
          ],
          "pie": [
           {
            "automargin": true,
            "type": "pie"
           }
          ],
          "scatter": [
           {
            "fillpattern": {
             "fillmode": "overlay",
             "size": 10,
             "solidity": 0.2
            },
            "type": "scatter"
           }
          ],
          "scatter3d": [
           {
            "line": {
             "colorbar": {
              "outlinewidth": 0,
              "ticks": ""
             }
            },
            "marker": {
             "colorbar": {
              "outlinewidth": 0,
              "ticks": ""
             }
            },
            "type": "scatter3d"
           }
          ],
          "scattercarpet": [
           {
            "marker": {
             "colorbar": {
              "outlinewidth": 0,
              "ticks": ""
             }
            },
            "type": "scattercarpet"
           }
          ],
          "scattergeo": [
           {
            "marker": {
             "colorbar": {
              "outlinewidth": 0,
              "ticks": ""
             }
            },
            "type": "scattergeo"
           }
          ],
          "scattergl": [
           {
            "marker": {
             "colorbar": {
              "outlinewidth": 0,
              "ticks": ""
             }
            },
            "type": "scattergl"
           }
          ],
          "scattermapbox": [
           {
            "marker": {
             "colorbar": {
              "outlinewidth": 0,
              "ticks": ""
             }
            },
            "type": "scattermapbox"
           }
          ],
          "scatterpolar": [
           {
            "marker": {
             "colorbar": {
              "outlinewidth": 0,
              "ticks": ""
             }
            },
            "type": "scatterpolar"
           }
          ],
          "scatterpolargl": [
           {
            "marker": {
             "colorbar": {
              "outlinewidth": 0,
              "ticks": ""
             }
            },
            "type": "scatterpolargl"
           }
          ],
          "scatterternary": [
           {
            "marker": {
             "colorbar": {
              "outlinewidth": 0,
              "ticks": ""
             }
            },
            "type": "scatterternary"
           }
          ],
          "surface": [
           {
            "colorbar": {
             "outlinewidth": 0,
             "ticks": ""
            },
            "colorscale": [
             [
              0,
              "#0d0887"
             ],
             [
              0.1111111111111111,
              "#46039f"
             ],
             [
              0.2222222222222222,
              "#7201a8"
             ],
             [
              0.3333333333333333,
              "#9c179e"
             ],
             [
              0.4444444444444444,
              "#bd3786"
             ],
             [
              0.5555555555555556,
              "#d8576b"
             ],
             [
              0.6666666666666666,
              "#ed7953"
             ],
             [
              0.7777777777777778,
              "#fb9f3a"
             ],
             [
              0.8888888888888888,
              "#fdca26"
             ],
             [
              1,
              "#f0f921"
             ]
            ],
            "type": "surface"
           }
          ],
          "table": [
           {
            "cells": {
             "fill": {
              "color": "#EBF0F8"
             },
             "line": {
              "color": "white"
             }
            },
            "header": {
             "fill": {
              "color": "#C8D4E3"
             },
             "line": {
              "color": "white"
             }
            },
            "type": "table"
           }
          ]
         },
         "layout": {
          "annotationdefaults": {
           "arrowcolor": "#2a3f5f",
           "arrowhead": 0,
           "arrowwidth": 1
          },
          "autotypenumbers": "strict",
          "coloraxis": {
           "colorbar": {
            "outlinewidth": 0,
            "ticks": ""
           }
          },
          "colorscale": {
           "diverging": [
            [
             0,
             "#8e0152"
            ],
            [
             0.1,
             "#c51b7d"
            ],
            [
             0.2,
             "#de77ae"
            ],
            [
             0.3,
             "#f1b6da"
            ],
            [
             0.4,
             "#fde0ef"
            ],
            [
             0.5,
             "#f7f7f7"
            ],
            [
             0.6,
             "#e6f5d0"
            ],
            [
             0.7,
             "#b8e186"
            ],
            [
             0.8,
             "#7fbc41"
            ],
            [
             0.9,
             "#4d9221"
            ],
            [
             1,
             "#276419"
            ]
           ],
           "sequential": [
            [
             0,
             "#0d0887"
            ],
            [
             0.1111111111111111,
             "#46039f"
            ],
            [
             0.2222222222222222,
             "#7201a8"
            ],
            [
             0.3333333333333333,
             "#9c179e"
            ],
            [
             0.4444444444444444,
             "#bd3786"
            ],
            [
             0.5555555555555556,
             "#d8576b"
            ],
            [
             0.6666666666666666,
             "#ed7953"
            ],
            [
             0.7777777777777778,
             "#fb9f3a"
            ],
            [
             0.8888888888888888,
             "#fdca26"
            ],
            [
             1,
             "#f0f921"
            ]
           ],
           "sequentialminus": [
            [
             0,
             "#0d0887"
            ],
            [
             0.1111111111111111,
             "#46039f"
            ],
            [
             0.2222222222222222,
             "#7201a8"
            ],
            [
             0.3333333333333333,
             "#9c179e"
            ],
            [
             0.4444444444444444,
             "#bd3786"
            ],
            [
             0.5555555555555556,
             "#d8576b"
            ],
            [
             0.6666666666666666,
             "#ed7953"
            ],
            [
             0.7777777777777778,
             "#fb9f3a"
            ],
            [
             0.8888888888888888,
             "#fdca26"
            ],
            [
             1,
             "#f0f921"
            ]
           ]
          },
          "colorway": [
           "#636efa",
           "#EF553B",
           "#00cc96",
           "#ab63fa",
           "#FFA15A",
           "#19d3f3",
           "#FF6692",
           "#B6E880",
           "#FF97FF",
           "#FECB52"
          ],
          "font": {
           "color": "#2a3f5f"
          },
          "geo": {
           "bgcolor": "white",
           "lakecolor": "white",
           "landcolor": "#E5ECF6",
           "showlakes": true,
           "showland": true,
           "subunitcolor": "white"
          },
          "hoverlabel": {
           "align": "left"
          },
          "hovermode": "closest",
          "mapbox": {
           "style": "light"
          },
          "paper_bgcolor": "white",
          "plot_bgcolor": "#E5ECF6",
          "polar": {
           "angularaxis": {
            "gridcolor": "white",
            "linecolor": "white",
            "ticks": ""
           },
           "bgcolor": "#E5ECF6",
           "radialaxis": {
            "gridcolor": "white",
            "linecolor": "white",
            "ticks": ""
           }
          },
          "scene": {
           "xaxis": {
            "backgroundcolor": "#E5ECF6",
            "gridcolor": "white",
            "gridwidth": 2,
            "linecolor": "white",
            "showbackground": true,
            "ticks": "",
            "zerolinecolor": "white"
           },
           "yaxis": {
            "backgroundcolor": "#E5ECF6",
            "gridcolor": "white",
            "gridwidth": 2,
            "linecolor": "white",
            "showbackground": true,
            "ticks": "",
            "zerolinecolor": "white"
           },
           "zaxis": {
            "backgroundcolor": "#E5ECF6",
            "gridcolor": "white",
            "gridwidth": 2,
            "linecolor": "white",
            "showbackground": true,
            "ticks": "",
            "zerolinecolor": "white"
           }
          },
          "shapedefaults": {
           "line": {
            "color": "#2a3f5f"
           }
          },
          "ternary": {
           "aaxis": {
            "gridcolor": "white",
            "linecolor": "white",
            "ticks": ""
           },
           "baxis": {
            "gridcolor": "white",
            "linecolor": "white",
            "ticks": ""
           },
           "bgcolor": "#E5ECF6",
           "caxis": {
            "gridcolor": "white",
            "linecolor": "white",
            "ticks": ""
           }
          },
          "title": {
           "x": 0.05
          },
          "xaxis": {
           "automargin": true,
           "gridcolor": "white",
           "linecolor": "white",
           "ticks": "",
           "title": {
            "standoff": 15
           },
           "zerolinecolor": "white",
           "zerolinewidth": 2
          },
          "yaxis": {
           "automargin": true,
           "gridcolor": "white",
           "linecolor": "white",
           "ticks": "",
           "title": {
            "standoff": 15
           },
           "zerolinecolor": "white",
           "zerolinewidth": 2
          }
         }
        }
       }
      }
     },
     "metadata": {},
     "output_type": "display_data"
    }
   ],
   "source": [
    "# Specify the CO value threshold (above which cities will be shown)\n",
    "co_threshold = 1000\n",
    "\n",
    "# Filter the DataFrame to include only cities above the CO threshold\n",
    "filtered_df = reduced_df[reduced_df['co'] > co_threshold]\n",
    "\n",
    "# Create a bubble map visualization\n",
    "fig = px.scatter_mapbox(\n",
    "    filtered_df,\n",
    "    lat='coordinates.latitude',\n",
    "    lon='coordinates.longitude',\n",
    "    hover_name='location',\n",
    "    size='co',  # Size of bubbles based on 'value' column\n",
    "    color='co',  # Color of bubbles based on 'value' column\n",
    "    color_continuous_scale='Viridis',  # Color scale\n",
    "    size_max=50,  # Maximum size of bubbles\n",
    ")\n",
    "\n",
    "# Update the map layout\n",
    "fig.update_layout(\n",
    "    mapbox_style='carto-positron',  # Map style\n",
    "    mapbox_zoom=4,  # Initial zoom level\n",
    "    mapbox_center={'lat': filtered_df['coordinates.latitude'].mean(), 'lon': filtered_df['coordinates.longitude'].mean()},  # Map center\n",
    ")\n",
    "\n",
    "# Display the plot\n",
    "fig.show()\n"
   ]
  },
  {
   "cell_type": "markdown",
   "metadata": {},
   "source": [
    "We can see clearly that the biggest CO levels are located in the southern east of the country (China), which is normal because it's the industrial area of China where the most factories are set."
   ]
  },
  {
   "cell_type": "markdown",
   "metadata": {},
   "source": [
    "I suggest for the next step of the project buildings some models to modelize the air quality of the most poluant city in China"
   ]
  },
  {
   "cell_type": "markdown",
   "metadata": {},
   "source": [
    "### Visualize the NO2 level"
   ]
  },
  {
   "cell_type": "code",
   "execution_count": 30,
   "metadata": {},
   "outputs": [
    {
     "data": {
      "application/vnd.plotly.v1+json": {
       "config": {
        "plotlyServerURL": "https://plot.ly"
       },
       "data": [
        {
         "hovertemplate": "<b>%{hovertext}</b><br><br>no2=%{marker.color}<br>coordinates.latitude=%{lat}<br>coordinates.longitude=%{lon}<extra></extra>",
         "hovertext": [
          "Mong Kok",
          "North",
          "Central",
          "Tseung Kwan O",
          "Tuen Mun",
          "Causeway Bay",
          "Tap Mun",
          "Tsuen Wan",
          "Yuen Long",
          "Southern",
          "安钢职工学校",
          "官渡区博物馆",
          "宿豫区政府",
          "市人大",
          "市第七中学",
          "广陵建设局",
          "文明里",
          "歇台子",
          "河西一经路",
          "海东办",
          "芒市人民政府综合楼",
          "蓝田镇",
          "规划局",
          "质量技术监督局",
          "路南电大",
          "昆区政府",
          "东山小学",
          "机电学校",
          "贺兰山马莲口(对照点)",
          "开发区子站",
          "监测站",
          "奥体中心",
          "浦口",
          "人口学校",
          "武功山(对照点)",
          "马山宾馆",
          "延安路89号",
          "三里街",
          "长江中路",
          "滨湖新区",
          "包河区",
          "阜阳职业技术学院",
          "人大宾馆",
          "池州学院",
          "市第九中学",
          "市公路局",
          "市新民污水厂",
          "工人疗养院",
          "八公山区政府",
          "市环保局",
          "职工医院",
          "榆中兰大校区(对照点)",
          "庐山气象台(对照点)",
          "环保监测大楼",
          "红石峡森林公园(对照点)",
          "睢阳区环保局",
          "淮河道",
          "安家",
          "金胜",
          "环保局",
          "理工学院",
          "远航博物馆",
          "市体育局",
          "东关招商场",
          "中山北路",
          "双创科技城",
          "唐尧大酒店",
          "城南",
          "外国语学校",
          "宁德一中",
          "原169医院(对照点)"
         ],
         "lat": [
          22.3225,
          22.496710000000004,
          22.281944444444445,
          22.317777777777778,
          22.391111111111112,
          22.28,
          22.47138888888889,
          22.371666666666663,
          22.44527777777778,
          22.247430000000005,
          36.0949,
          25.0119,
          33.944700000000005,
          31.453499999999995,
          35.40539999999999,
          32.394200000000005,
          39.943889000000006,
          29.5346,
          39.2474,
          40.8389,
          24.4368,
          24.506,
          33.73,
          27.8094,
          39.6202,
          40.6576,
          36.6868,
          28.6062,
          38.6016,
          30.9427,
          32.4287,
          39.9821,
          32.0931,
          36.20170000000001,
          27.500200000000003,
          30.5119,
          29.696300000000004,
          31.8764,
          31.8571,
          31.7385,
          31.7964,
          32.88920000000001,
          32.27859999999999,
          30.6618,
          30.8792,
          30.9273,
          30.9413,
          32.939,
          32.633,
          42.9418,
          38.0444,
          35.9454,
          29.5698,
          38.24779999999999,
          38.33440000000001,
          34.3948,
          39.2133,
          31.9087,
          37.78199999999999,
          32.9917,
          32.9692,
          33.666,
          32.3972,
          37.9325,
          39.16989999999999,
          28.4315,
          36.101400000000005,
          36.0414,
          29.6994,
          26.6562,
          26.916699999999995
         ],
         "legendgroup": "",
         "lon": [
          114.16833333333334,
          114.12824,
          114.15805555555558,
          114.25944444444444,
          113.97666666666667,
          114.185,
          114.36083333333332,
          114.11444444444444,
          114.02277777777776,
          114.16015,
          114.2917,
          102.7494,
          118.3225,
          104.7563,
          116.59069999999998,
          119.4686,
          119.610547,
          106.49580000000002,
          117.79179999999998,
          111.6518,
          98.5881,
          117.7116,
          113.3025,
          99.7136,
          118.1436,
          109.83310000000002,
          117.532,
          115.9084,
          105.9512,
          118.7173,
          105.8628,
          116.39660000000002,
          118.6414,
          117.0885,
          114.0997,
          117.0331,
          118.2903,
          117.30719999999998,
          117.25,
          117.2776,
          117.3027,
          115.784,
          118.32439999999998,
          117.47,
          117.74389999999998,
          117.8059,
          117.7807,
          117.396,
          116.8281,
          89.1904,
          114.4422,
          104.1373,
          115.9773,
          109.7336,
          109.7414,
          115.6293,
          117.1837,
          119.9255,
          112.4701,
          112.5192,
          112.548,
          116.9509,
          119.3633,
          102.6486,
          117.2101,
          117.897,
          111.505,
          111.5036,
          116.0254,
          119.5231,
          112.5003
         ],
         "marker": {
          "color": [
           62.9,
           13.2,
           44.7,
           9.3,
           37.1,
           38.4,
           0.3,
           24.7,
           22.6,
           16.3,
           9,
           43,
           17,
           19,
           12,
           26,
           15,
           32,
           10,
           7,
           7,
           12,
           9,
           9,
           19,
           10,
           20,
           31,
           10,
           18,
           13,
           10,
           16,
           20,
           4,
           14,
           9,
           29,
           24,
           51,
           50,
           28,
           32,
           16,
           30,
           32,
           38,
           13,
           13,
           4,
           12,
           8,
           2,
           14,
           10,
           7,
           25,
           34,
           28,
           4,
           3,
           12,
           18,
           11,
           14,
           10,
           13,
           21,
           18,
           5,
           9
          ],
          "coloraxis": "coloraxis",
          "size": [
           62.9,
           13.2,
           44.7,
           9.3,
           37.1,
           38.4,
           0.3,
           24.7,
           22.6,
           16.3,
           9,
           43,
           17,
           19,
           12,
           26,
           15,
           32,
           10,
           7,
           7,
           12,
           9,
           9,
           19,
           10,
           20,
           31,
           10,
           18,
           13,
           10,
           16,
           20,
           4,
           14,
           9,
           29,
           24,
           51,
           50,
           28,
           32,
           16,
           30,
           32,
           38,
           13,
           13,
           4,
           12,
           8,
           2,
           14,
           10,
           7,
           25,
           34,
           28,
           4,
           3,
           12,
           18,
           11,
           14,
           10,
           13,
           21,
           18,
           5,
           9
          ],
          "sizemode": "area",
          "sizeref": 0.02516
         },
         "mode": "markers",
         "name": "",
         "showlegend": false,
         "subplot": "mapbox",
         "type": "scattermapbox"
        }
       ],
       "layout": {
        "coloraxis": {
         "colorbar": {
          "title": {
           "text": "no2"
          }
         },
         "colorscale": [
          [
           0,
           "#440154"
          ],
          [
           0.1111111111111111,
           "#482878"
          ],
          [
           0.2222222222222222,
           "#3e4989"
          ],
          [
           0.3333333333333333,
           "#31688e"
          ],
          [
           0.4444444444444444,
           "#26828e"
          ],
          [
           0.5555555555555556,
           "#1f9e89"
          ],
          [
           0.6666666666666666,
           "#35b779"
          ],
          [
           0.7777777777777778,
           "#6ece58"
          ],
          [
           0.8888888888888888,
           "#b5de2b"
          ],
          [
           1,
           "#fde725"
          ]
         ]
        },
        "legend": {
         "itemsizing": "constant",
         "tracegroupgap": 0
        },
        "mapbox": {
         "center": {
          "lat": 31.863095713615024,
          "lon": 113.84468581064164
         },
         "domain": {
          "x": [
           0,
           1
          ],
          "y": [
           0,
           1
          ]
         },
         "style": "carto-positron",
         "zoom": 4
        },
        "margin": {
         "t": 60
        },
        "template": {
         "data": {
          "bar": [
           {
            "error_x": {
             "color": "#2a3f5f"
            },
            "error_y": {
             "color": "#2a3f5f"
            },
            "marker": {
             "line": {
              "color": "#E5ECF6",
              "width": 0.5
             },
             "pattern": {
              "fillmode": "overlay",
              "size": 10,
              "solidity": 0.2
             }
            },
            "type": "bar"
           }
          ],
          "barpolar": [
           {
            "marker": {
             "line": {
              "color": "#E5ECF6",
              "width": 0.5
             },
             "pattern": {
              "fillmode": "overlay",
              "size": 10,
              "solidity": 0.2
             }
            },
            "type": "barpolar"
           }
          ],
          "carpet": [
           {
            "aaxis": {
             "endlinecolor": "#2a3f5f",
             "gridcolor": "white",
             "linecolor": "white",
             "minorgridcolor": "white",
             "startlinecolor": "#2a3f5f"
            },
            "baxis": {
             "endlinecolor": "#2a3f5f",
             "gridcolor": "white",
             "linecolor": "white",
             "minorgridcolor": "white",
             "startlinecolor": "#2a3f5f"
            },
            "type": "carpet"
           }
          ],
          "choropleth": [
           {
            "colorbar": {
             "outlinewidth": 0,
             "ticks": ""
            },
            "type": "choropleth"
           }
          ],
          "contour": [
           {
            "colorbar": {
             "outlinewidth": 0,
             "ticks": ""
            },
            "colorscale": [
             [
              0,
              "#0d0887"
             ],
             [
              0.1111111111111111,
              "#46039f"
             ],
             [
              0.2222222222222222,
              "#7201a8"
             ],
             [
              0.3333333333333333,
              "#9c179e"
             ],
             [
              0.4444444444444444,
              "#bd3786"
             ],
             [
              0.5555555555555556,
              "#d8576b"
             ],
             [
              0.6666666666666666,
              "#ed7953"
             ],
             [
              0.7777777777777778,
              "#fb9f3a"
             ],
             [
              0.8888888888888888,
              "#fdca26"
             ],
             [
              1,
              "#f0f921"
             ]
            ],
            "type": "contour"
           }
          ],
          "contourcarpet": [
           {
            "colorbar": {
             "outlinewidth": 0,
             "ticks": ""
            },
            "type": "contourcarpet"
           }
          ],
          "heatmap": [
           {
            "colorbar": {
             "outlinewidth": 0,
             "ticks": ""
            },
            "colorscale": [
             [
              0,
              "#0d0887"
             ],
             [
              0.1111111111111111,
              "#46039f"
             ],
             [
              0.2222222222222222,
              "#7201a8"
             ],
             [
              0.3333333333333333,
              "#9c179e"
             ],
             [
              0.4444444444444444,
              "#bd3786"
             ],
             [
              0.5555555555555556,
              "#d8576b"
             ],
             [
              0.6666666666666666,
              "#ed7953"
             ],
             [
              0.7777777777777778,
              "#fb9f3a"
             ],
             [
              0.8888888888888888,
              "#fdca26"
             ],
             [
              1,
              "#f0f921"
             ]
            ],
            "type": "heatmap"
           }
          ],
          "heatmapgl": [
           {
            "colorbar": {
             "outlinewidth": 0,
             "ticks": ""
            },
            "colorscale": [
             [
              0,
              "#0d0887"
             ],
             [
              0.1111111111111111,
              "#46039f"
             ],
             [
              0.2222222222222222,
              "#7201a8"
             ],
             [
              0.3333333333333333,
              "#9c179e"
             ],
             [
              0.4444444444444444,
              "#bd3786"
             ],
             [
              0.5555555555555556,
              "#d8576b"
             ],
             [
              0.6666666666666666,
              "#ed7953"
             ],
             [
              0.7777777777777778,
              "#fb9f3a"
             ],
             [
              0.8888888888888888,
              "#fdca26"
             ],
             [
              1,
              "#f0f921"
             ]
            ],
            "type": "heatmapgl"
           }
          ],
          "histogram": [
           {
            "marker": {
             "pattern": {
              "fillmode": "overlay",
              "size": 10,
              "solidity": 0.2
             }
            },
            "type": "histogram"
           }
          ],
          "histogram2d": [
           {
            "colorbar": {
             "outlinewidth": 0,
             "ticks": ""
            },
            "colorscale": [
             [
              0,
              "#0d0887"
             ],
             [
              0.1111111111111111,
              "#46039f"
             ],
             [
              0.2222222222222222,
              "#7201a8"
             ],
             [
              0.3333333333333333,
              "#9c179e"
             ],
             [
              0.4444444444444444,
              "#bd3786"
             ],
             [
              0.5555555555555556,
              "#d8576b"
             ],
             [
              0.6666666666666666,
              "#ed7953"
             ],
             [
              0.7777777777777778,
              "#fb9f3a"
             ],
             [
              0.8888888888888888,
              "#fdca26"
             ],
             [
              1,
              "#f0f921"
             ]
            ],
            "type": "histogram2d"
           }
          ],
          "histogram2dcontour": [
           {
            "colorbar": {
             "outlinewidth": 0,
             "ticks": ""
            },
            "colorscale": [
             [
              0,
              "#0d0887"
             ],
             [
              0.1111111111111111,
              "#46039f"
             ],
             [
              0.2222222222222222,
              "#7201a8"
             ],
             [
              0.3333333333333333,
              "#9c179e"
             ],
             [
              0.4444444444444444,
              "#bd3786"
             ],
             [
              0.5555555555555556,
              "#d8576b"
             ],
             [
              0.6666666666666666,
              "#ed7953"
             ],
             [
              0.7777777777777778,
              "#fb9f3a"
             ],
             [
              0.8888888888888888,
              "#fdca26"
             ],
             [
              1,
              "#f0f921"
             ]
            ],
            "type": "histogram2dcontour"
           }
          ],
          "mesh3d": [
           {
            "colorbar": {
             "outlinewidth": 0,
             "ticks": ""
            },
            "type": "mesh3d"
           }
          ],
          "parcoords": [
           {
            "line": {
             "colorbar": {
              "outlinewidth": 0,
              "ticks": ""
             }
            },
            "type": "parcoords"
           }
          ],
          "pie": [
           {
            "automargin": true,
            "type": "pie"
           }
          ],
          "scatter": [
           {
            "fillpattern": {
             "fillmode": "overlay",
             "size": 10,
             "solidity": 0.2
            },
            "type": "scatter"
           }
          ],
          "scatter3d": [
           {
            "line": {
             "colorbar": {
              "outlinewidth": 0,
              "ticks": ""
             }
            },
            "marker": {
             "colorbar": {
              "outlinewidth": 0,
              "ticks": ""
             }
            },
            "type": "scatter3d"
           }
          ],
          "scattercarpet": [
           {
            "marker": {
             "colorbar": {
              "outlinewidth": 0,
              "ticks": ""
             }
            },
            "type": "scattercarpet"
           }
          ],
          "scattergeo": [
           {
            "marker": {
             "colorbar": {
              "outlinewidth": 0,
              "ticks": ""
             }
            },
            "type": "scattergeo"
           }
          ],
          "scattergl": [
           {
            "marker": {
             "colorbar": {
              "outlinewidth": 0,
              "ticks": ""
             }
            },
            "type": "scattergl"
           }
          ],
          "scattermapbox": [
           {
            "marker": {
             "colorbar": {
              "outlinewidth": 0,
              "ticks": ""
             }
            },
            "type": "scattermapbox"
           }
          ],
          "scatterpolar": [
           {
            "marker": {
             "colorbar": {
              "outlinewidth": 0,
              "ticks": ""
             }
            },
            "type": "scatterpolar"
           }
          ],
          "scatterpolargl": [
           {
            "marker": {
             "colorbar": {
              "outlinewidth": 0,
              "ticks": ""
             }
            },
            "type": "scatterpolargl"
           }
          ],
          "scatterternary": [
           {
            "marker": {
             "colorbar": {
              "outlinewidth": 0,
              "ticks": ""
             }
            },
            "type": "scatterternary"
           }
          ],
          "surface": [
           {
            "colorbar": {
             "outlinewidth": 0,
             "ticks": ""
            },
            "colorscale": [
             [
              0,
              "#0d0887"
             ],
             [
              0.1111111111111111,
              "#46039f"
             ],
             [
              0.2222222222222222,
              "#7201a8"
             ],
             [
              0.3333333333333333,
              "#9c179e"
             ],
             [
              0.4444444444444444,
              "#bd3786"
             ],
             [
              0.5555555555555556,
              "#d8576b"
             ],
             [
              0.6666666666666666,
              "#ed7953"
             ],
             [
              0.7777777777777778,
              "#fb9f3a"
             ],
             [
              0.8888888888888888,
              "#fdca26"
             ],
             [
              1,
              "#f0f921"
             ]
            ],
            "type": "surface"
           }
          ],
          "table": [
           {
            "cells": {
             "fill": {
              "color": "#EBF0F8"
             },
             "line": {
              "color": "white"
             }
            },
            "header": {
             "fill": {
              "color": "#C8D4E3"
             },
             "line": {
              "color": "white"
             }
            },
            "type": "table"
           }
          ]
         },
         "layout": {
          "annotationdefaults": {
           "arrowcolor": "#2a3f5f",
           "arrowhead": 0,
           "arrowwidth": 1
          },
          "autotypenumbers": "strict",
          "coloraxis": {
           "colorbar": {
            "outlinewidth": 0,
            "ticks": ""
           }
          },
          "colorscale": {
           "diverging": [
            [
             0,
             "#8e0152"
            ],
            [
             0.1,
             "#c51b7d"
            ],
            [
             0.2,
             "#de77ae"
            ],
            [
             0.3,
             "#f1b6da"
            ],
            [
             0.4,
             "#fde0ef"
            ],
            [
             0.5,
             "#f7f7f7"
            ],
            [
             0.6,
             "#e6f5d0"
            ],
            [
             0.7,
             "#b8e186"
            ],
            [
             0.8,
             "#7fbc41"
            ],
            [
             0.9,
             "#4d9221"
            ],
            [
             1,
             "#276419"
            ]
           ],
           "sequential": [
            [
             0,
             "#0d0887"
            ],
            [
             0.1111111111111111,
             "#46039f"
            ],
            [
             0.2222222222222222,
             "#7201a8"
            ],
            [
             0.3333333333333333,
             "#9c179e"
            ],
            [
             0.4444444444444444,
             "#bd3786"
            ],
            [
             0.5555555555555556,
             "#d8576b"
            ],
            [
             0.6666666666666666,
             "#ed7953"
            ],
            [
             0.7777777777777778,
             "#fb9f3a"
            ],
            [
             0.8888888888888888,
             "#fdca26"
            ],
            [
             1,
             "#f0f921"
            ]
           ],
           "sequentialminus": [
            [
             0,
             "#0d0887"
            ],
            [
             0.1111111111111111,
             "#46039f"
            ],
            [
             0.2222222222222222,
             "#7201a8"
            ],
            [
             0.3333333333333333,
             "#9c179e"
            ],
            [
             0.4444444444444444,
             "#bd3786"
            ],
            [
             0.5555555555555556,
             "#d8576b"
            ],
            [
             0.6666666666666666,
             "#ed7953"
            ],
            [
             0.7777777777777778,
             "#fb9f3a"
            ],
            [
             0.8888888888888888,
             "#fdca26"
            ],
            [
             1,
             "#f0f921"
            ]
           ]
          },
          "colorway": [
           "#636efa",
           "#EF553B",
           "#00cc96",
           "#ab63fa",
           "#FFA15A",
           "#19d3f3",
           "#FF6692",
           "#B6E880",
           "#FF97FF",
           "#FECB52"
          ],
          "font": {
           "color": "#2a3f5f"
          },
          "geo": {
           "bgcolor": "white",
           "lakecolor": "white",
           "landcolor": "#E5ECF6",
           "showlakes": true,
           "showland": true,
           "subunitcolor": "white"
          },
          "hoverlabel": {
           "align": "left"
          },
          "hovermode": "closest",
          "mapbox": {
           "style": "light"
          },
          "paper_bgcolor": "white",
          "plot_bgcolor": "#E5ECF6",
          "polar": {
           "angularaxis": {
            "gridcolor": "white",
            "linecolor": "white",
            "ticks": ""
           },
           "bgcolor": "#E5ECF6",
           "radialaxis": {
            "gridcolor": "white",
            "linecolor": "white",
            "ticks": ""
           }
          },
          "scene": {
           "xaxis": {
            "backgroundcolor": "#E5ECF6",
            "gridcolor": "white",
            "gridwidth": 2,
            "linecolor": "white",
            "showbackground": true,
            "ticks": "",
            "zerolinecolor": "white"
           },
           "yaxis": {
            "backgroundcolor": "#E5ECF6",
            "gridcolor": "white",
            "gridwidth": 2,
            "linecolor": "white",
            "showbackground": true,
            "ticks": "",
            "zerolinecolor": "white"
           },
           "zaxis": {
            "backgroundcolor": "#E5ECF6",
            "gridcolor": "white",
            "gridwidth": 2,
            "linecolor": "white",
            "showbackground": true,
            "ticks": "",
            "zerolinecolor": "white"
           }
          },
          "shapedefaults": {
           "line": {
            "color": "#2a3f5f"
           }
          },
          "ternary": {
           "aaxis": {
            "gridcolor": "white",
            "linecolor": "white",
            "ticks": ""
           },
           "baxis": {
            "gridcolor": "white",
            "linecolor": "white",
            "ticks": ""
           },
           "bgcolor": "#E5ECF6",
           "caxis": {
            "gridcolor": "white",
            "linecolor": "white",
            "ticks": ""
           }
          },
          "title": {
           "x": 0.05
          },
          "xaxis": {
           "automargin": true,
           "gridcolor": "white",
           "linecolor": "white",
           "ticks": "",
           "title": {
            "standoff": 15
           },
           "zerolinecolor": "white",
           "zerolinewidth": 2
          },
          "yaxis": {
           "automargin": true,
           "gridcolor": "white",
           "linecolor": "white",
           "ticks": "",
           "title": {
            "standoff": 15
           },
           "zerolinecolor": "white",
           "zerolinewidth": 2
          }
         }
        }
       }
      }
     },
     "metadata": {},
     "output_type": "display_data"
    }
   ],
   "source": [
    "import plotly.express as px\n",
    "\n",
    "# Create a bubble map visualization\n",
    "fig = px.scatter_mapbox(\n",
    "    reduced_df,\n",
    "    lat='coordinates.latitude',\n",
    "    lon='coordinates.longitude',\n",
    "    hover_name='location',\n",
    "    size='no2',  # Size of bubbles based on 'value' column\n",
    "    color='no2',  # Color of bubbles based on 'value' column\n",
    "    color_continuous_scale='Viridis',  # Color scale\n",
    "    size_max=50,  # Maximum size of bubbles\n",
    ")\n",
    "\n",
    "# Update the map layout\n",
    "fig.update_layout(\n",
    "    mapbox_style='carto-positron',  # Map style\n",
    "    mapbox_zoom=4,  # Initial zoom level\n",
    "    mapbox_center={'lat': reduced_df['coordinates.latitude'].mean(), 'lon': reduced_df['coordinates.longitude'].mean()},  # Map center\n",
    ")\n",
    "\n",
    "# Display the plot\n",
    "fig.show()\n"
   ]
  },
  {
   "cell_type": "markdown",
   "metadata": {},
   "source": [
    "For the case of NO2, the high levels are located in southern east provinces. These provinces have many energy intensive heavy industries and rely heavily on coal for heat and power. Some export electricity to other provinces."
   ]
  },
  {
   "cell_type": "markdown",
   "metadata": {},
   "source": [
    "### Visulize O3"
   ]
  },
  {
   "cell_type": "code",
   "execution_count": 24,
   "metadata": {},
   "outputs": [
    {
     "data": {
      "application/vnd.plotly.v1+json": {
       "config": {
        "plotlyServerURL": "https://plot.ly"
       },
       "data": [
        {
         "hovertemplate": "<b>%{hovertext}</b><br><br>o3=%{marker.color}<br>coordinates.latitude=%{lat}<br>coordinates.longitude=%{lon}<extra></extra>",
         "hovertext": [
          "Mong Kok",
          "North",
          "Central",
          "Tseung Kwan O",
          "Tuen Mun",
          "Causeway Bay",
          "Tap Mun",
          "Tsuen Wan",
          "Yuen Long",
          "Southern",
          "安钢职工学校",
          "官渡区博物馆",
          "宿豫区政府",
          "市人大",
          "市第七中学",
          "广陵建设局",
          "文明里",
          "歇台子",
          "河西一经路",
          "海东办",
          "芒市人民政府综合楼",
          "蓝田镇",
          "规划局",
          "质量技术监督局",
          "路南电大",
          "昆区政府",
          "东山小学",
          "机电学校",
          "贺兰山马莲口(对照点)",
          "开发区子站",
          "监测站",
          "奥体中心",
          "浦口",
          "人口学校",
          "武功山(对照点)",
          "马山宾馆",
          "延安路89号",
          "三里街",
          "长江中路",
          "滨湖新区",
          "包河区",
          "阜阳职业技术学院",
          "人大宾馆",
          "池州学院",
          "市第九中学",
          "市公路局",
          "市新民污水厂",
          "工人疗养院",
          "八公山区政府",
          "市环保局",
          "职工医院",
          "榆中兰大校区(对照点)",
          "庐山气象台(对照点)",
          "环保监测大楼",
          "红石峡森林公园(对照点)",
          "睢阳区环保局",
          "淮河道",
          "安家",
          "金胜",
          "环保局",
          "理工学院",
          "远航博物馆",
          "市体育局",
          "东关招商场",
          "中山北路",
          "双创科技城",
          "唐尧大酒店",
          "城南",
          "外国语学校",
          "宁德一中",
          "原169医院(对照点)"
         ],
         "lat": [
          22.3225,
          22.496710000000004,
          22.281944444444445,
          22.317777777777778,
          22.391111111111112,
          22.28,
          22.47138888888889,
          22.371666666666663,
          22.44527777777778,
          22.247430000000005,
          36.0949,
          25.0119,
          33.944700000000005,
          31.453499999999995,
          35.40539999999999,
          32.394200000000005,
          39.943889000000006,
          29.5346,
          39.2474,
          40.8389,
          24.4368,
          24.506,
          33.73,
          27.8094,
          39.6202,
          40.6576,
          36.6868,
          28.6062,
          38.6016,
          30.9427,
          32.4287,
          39.9821,
          32.0931,
          36.20170000000001,
          27.500200000000003,
          30.5119,
          29.696300000000004,
          31.8764,
          31.8571,
          31.7385,
          31.7964,
          32.88920000000001,
          32.27859999999999,
          30.6618,
          30.8792,
          30.9273,
          30.9413,
          32.939,
          32.633,
          42.9418,
          38.0444,
          35.9454,
          29.5698,
          38.24779999999999,
          38.33440000000001,
          34.3948,
          39.2133,
          31.9087,
          37.78199999999999,
          32.9917,
          32.9692,
          33.666,
          32.3972,
          37.9325,
          39.16989999999999,
          28.4315,
          36.101400000000005,
          36.0414,
          29.6994,
          26.6562,
          26.916699999999995
         ],
         "legendgroup": "",
         "lon": [
          114.16833333333334,
          114.12824,
          114.15805555555558,
          114.25944444444444,
          113.97666666666667,
          114.185,
          114.36083333333332,
          114.11444444444444,
          114.02277777777776,
          114.16015,
          114.2917,
          102.7494,
          118.3225,
          104.7563,
          116.59069999999998,
          119.4686,
          119.610547,
          106.49580000000002,
          117.79179999999998,
          111.6518,
          98.5881,
          117.7116,
          113.3025,
          99.7136,
          118.1436,
          109.83310000000002,
          117.532,
          115.9084,
          105.9512,
          118.7173,
          105.8628,
          116.39660000000002,
          118.6414,
          117.0885,
          114.0997,
          117.0331,
          118.2903,
          117.30719999999998,
          117.25,
          117.2776,
          117.3027,
          115.784,
          118.32439999999998,
          117.47,
          117.74389999999998,
          117.8059,
          117.7807,
          117.396,
          116.8281,
          89.1904,
          114.4422,
          104.1373,
          115.9773,
          109.7336,
          109.7414,
          115.6293,
          117.1837,
          119.9255,
          112.4701,
          112.5192,
          112.548,
          116.9509,
          119.3633,
          102.6486,
          117.2101,
          117.897,
          111.505,
          111.5036,
          116.0254,
          119.5231,
          112.5003
         ],
         "marker": {
          "color": [
           18.9,
           49.3,
           26.6,
           51.2,
           43.1,
           38.4,
           54.6,
           37,
           41.9,
           46.7,
           210,
           74,
           156,
           176,
           219,
           200,
           174,
           96,
           219,
           160,
           29,
           93,
           145,
           79,
           210,
           141,
           246,
           180,
           187,
           150,
           128,
           187,
           80,
           235,
           80,
           127,
           146,
           133,
           165,
           154,
           158,
           120,
           162,
           183,
           180,
           208,
           188,
           132,
           128,
           133,
           198,
           164,
           131,
           176,
           161,
           137,
           242,
           212,
           266,
           132,
           137,
           108,
           196,
           138,
           238,
           167,
           214,
           205,
           162,
           137,
           119
          ],
          "coloraxis": "coloraxis",
          "size": [
           18.9,
           49.3,
           26.6,
           51.2,
           43.1,
           38.4,
           54.6,
           37,
           41.9,
           46.7,
           210,
           74,
           156,
           176,
           219,
           200,
           174,
           96,
           219,
           160,
           29,
           93,
           145,
           79,
           210,
           141,
           246,
           180,
           187,
           150,
           128,
           187,
           80,
           235,
           80,
           127,
           146,
           133,
           165,
           154,
           158,
           120,
           162,
           183,
           180,
           208,
           188,
           132,
           128,
           133,
           198,
           164,
           131,
           176,
           161,
           137,
           242,
           212,
           266,
           132,
           137,
           108,
           196,
           138,
           238,
           167,
           214,
           205,
           162,
           137,
           119
          ],
          "sizemode": "area",
          "sizeref": 0.1064
         },
         "mode": "markers",
         "name": "",
         "showlegend": false,
         "subplot": "mapbox",
         "type": "scattermapbox"
        }
       ],
       "layout": {
        "coloraxis": {
         "colorbar": {
          "title": {
           "text": "o3"
          }
         },
         "colorscale": [
          [
           0,
           "#440154"
          ],
          [
           0.1111111111111111,
           "#482878"
          ],
          [
           0.2222222222222222,
           "#3e4989"
          ],
          [
           0.3333333333333333,
           "#31688e"
          ],
          [
           0.4444444444444444,
           "#26828e"
          ],
          [
           0.5555555555555556,
           "#1f9e89"
          ],
          [
           0.6666666666666666,
           "#35b779"
          ],
          [
           0.7777777777777778,
           "#6ece58"
          ],
          [
           0.8888888888888888,
           "#b5de2b"
          ],
          [
           1,
           "#fde725"
          ]
         ]
        },
        "legend": {
         "itemsizing": "constant",
         "tracegroupgap": 0
        },
        "mapbox": {
         "center": {
          "lat": 31.863095713615024,
          "lon": 113.84468581064164
         },
         "domain": {
          "x": [
           0,
           1
          ],
          "y": [
           0,
           1
          ]
         },
         "style": "carto-positron",
         "zoom": 4
        },
        "margin": {
         "t": 60
        },
        "template": {
         "data": {
          "bar": [
           {
            "error_x": {
             "color": "#2a3f5f"
            },
            "error_y": {
             "color": "#2a3f5f"
            },
            "marker": {
             "line": {
              "color": "#E5ECF6",
              "width": 0.5
             },
             "pattern": {
              "fillmode": "overlay",
              "size": 10,
              "solidity": 0.2
             }
            },
            "type": "bar"
           }
          ],
          "barpolar": [
           {
            "marker": {
             "line": {
              "color": "#E5ECF6",
              "width": 0.5
             },
             "pattern": {
              "fillmode": "overlay",
              "size": 10,
              "solidity": 0.2
             }
            },
            "type": "barpolar"
           }
          ],
          "carpet": [
           {
            "aaxis": {
             "endlinecolor": "#2a3f5f",
             "gridcolor": "white",
             "linecolor": "white",
             "minorgridcolor": "white",
             "startlinecolor": "#2a3f5f"
            },
            "baxis": {
             "endlinecolor": "#2a3f5f",
             "gridcolor": "white",
             "linecolor": "white",
             "minorgridcolor": "white",
             "startlinecolor": "#2a3f5f"
            },
            "type": "carpet"
           }
          ],
          "choropleth": [
           {
            "colorbar": {
             "outlinewidth": 0,
             "ticks": ""
            },
            "type": "choropleth"
           }
          ],
          "contour": [
           {
            "colorbar": {
             "outlinewidth": 0,
             "ticks": ""
            },
            "colorscale": [
             [
              0,
              "#0d0887"
             ],
             [
              0.1111111111111111,
              "#46039f"
             ],
             [
              0.2222222222222222,
              "#7201a8"
             ],
             [
              0.3333333333333333,
              "#9c179e"
             ],
             [
              0.4444444444444444,
              "#bd3786"
             ],
             [
              0.5555555555555556,
              "#d8576b"
             ],
             [
              0.6666666666666666,
              "#ed7953"
             ],
             [
              0.7777777777777778,
              "#fb9f3a"
             ],
             [
              0.8888888888888888,
              "#fdca26"
             ],
             [
              1,
              "#f0f921"
             ]
            ],
            "type": "contour"
           }
          ],
          "contourcarpet": [
           {
            "colorbar": {
             "outlinewidth": 0,
             "ticks": ""
            },
            "type": "contourcarpet"
           }
          ],
          "heatmap": [
           {
            "colorbar": {
             "outlinewidth": 0,
             "ticks": ""
            },
            "colorscale": [
             [
              0,
              "#0d0887"
             ],
             [
              0.1111111111111111,
              "#46039f"
             ],
             [
              0.2222222222222222,
              "#7201a8"
             ],
             [
              0.3333333333333333,
              "#9c179e"
             ],
             [
              0.4444444444444444,
              "#bd3786"
             ],
             [
              0.5555555555555556,
              "#d8576b"
             ],
             [
              0.6666666666666666,
              "#ed7953"
             ],
             [
              0.7777777777777778,
              "#fb9f3a"
             ],
             [
              0.8888888888888888,
              "#fdca26"
             ],
             [
              1,
              "#f0f921"
             ]
            ],
            "type": "heatmap"
           }
          ],
          "heatmapgl": [
           {
            "colorbar": {
             "outlinewidth": 0,
             "ticks": ""
            },
            "colorscale": [
             [
              0,
              "#0d0887"
             ],
             [
              0.1111111111111111,
              "#46039f"
             ],
             [
              0.2222222222222222,
              "#7201a8"
             ],
             [
              0.3333333333333333,
              "#9c179e"
             ],
             [
              0.4444444444444444,
              "#bd3786"
             ],
             [
              0.5555555555555556,
              "#d8576b"
             ],
             [
              0.6666666666666666,
              "#ed7953"
             ],
             [
              0.7777777777777778,
              "#fb9f3a"
             ],
             [
              0.8888888888888888,
              "#fdca26"
             ],
             [
              1,
              "#f0f921"
             ]
            ],
            "type": "heatmapgl"
           }
          ],
          "histogram": [
           {
            "marker": {
             "pattern": {
              "fillmode": "overlay",
              "size": 10,
              "solidity": 0.2
             }
            },
            "type": "histogram"
           }
          ],
          "histogram2d": [
           {
            "colorbar": {
             "outlinewidth": 0,
             "ticks": ""
            },
            "colorscale": [
             [
              0,
              "#0d0887"
             ],
             [
              0.1111111111111111,
              "#46039f"
             ],
             [
              0.2222222222222222,
              "#7201a8"
             ],
             [
              0.3333333333333333,
              "#9c179e"
             ],
             [
              0.4444444444444444,
              "#bd3786"
             ],
             [
              0.5555555555555556,
              "#d8576b"
             ],
             [
              0.6666666666666666,
              "#ed7953"
             ],
             [
              0.7777777777777778,
              "#fb9f3a"
             ],
             [
              0.8888888888888888,
              "#fdca26"
             ],
             [
              1,
              "#f0f921"
             ]
            ],
            "type": "histogram2d"
           }
          ],
          "histogram2dcontour": [
           {
            "colorbar": {
             "outlinewidth": 0,
             "ticks": ""
            },
            "colorscale": [
             [
              0,
              "#0d0887"
             ],
             [
              0.1111111111111111,
              "#46039f"
             ],
             [
              0.2222222222222222,
              "#7201a8"
             ],
             [
              0.3333333333333333,
              "#9c179e"
             ],
             [
              0.4444444444444444,
              "#bd3786"
             ],
             [
              0.5555555555555556,
              "#d8576b"
             ],
             [
              0.6666666666666666,
              "#ed7953"
             ],
             [
              0.7777777777777778,
              "#fb9f3a"
             ],
             [
              0.8888888888888888,
              "#fdca26"
             ],
             [
              1,
              "#f0f921"
             ]
            ],
            "type": "histogram2dcontour"
           }
          ],
          "mesh3d": [
           {
            "colorbar": {
             "outlinewidth": 0,
             "ticks": ""
            },
            "type": "mesh3d"
           }
          ],
          "parcoords": [
           {
            "line": {
             "colorbar": {
              "outlinewidth": 0,
              "ticks": ""
             }
            },
            "type": "parcoords"
           }
          ],
          "pie": [
           {
            "automargin": true,
            "type": "pie"
           }
          ],
          "scatter": [
           {
            "fillpattern": {
             "fillmode": "overlay",
             "size": 10,
             "solidity": 0.2
            },
            "type": "scatter"
           }
          ],
          "scatter3d": [
           {
            "line": {
             "colorbar": {
              "outlinewidth": 0,
              "ticks": ""
             }
            },
            "marker": {
             "colorbar": {
              "outlinewidth": 0,
              "ticks": ""
             }
            },
            "type": "scatter3d"
           }
          ],
          "scattercarpet": [
           {
            "marker": {
             "colorbar": {
              "outlinewidth": 0,
              "ticks": ""
             }
            },
            "type": "scattercarpet"
           }
          ],
          "scattergeo": [
           {
            "marker": {
             "colorbar": {
              "outlinewidth": 0,
              "ticks": ""
             }
            },
            "type": "scattergeo"
           }
          ],
          "scattergl": [
           {
            "marker": {
             "colorbar": {
              "outlinewidth": 0,
              "ticks": ""
             }
            },
            "type": "scattergl"
           }
          ],
          "scattermapbox": [
           {
            "marker": {
             "colorbar": {
              "outlinewidth": 0,
              "ticks": ""
             }
            },
            "type": "scattermapbox"
           }
          ],
          "scatterpolar": [
           {
            "marker": {
             "colorbar": {
              "outlinewidth": 0,
              "ticks": ""
             }
            },
            "type": "scatterpolar"
           }
          ],
          "scatterpolargl": [
           {
            "marker": {
             "colorbar": {
              "outlinewidth": 0,
              "ticks": ""
             }
            },
            "type": "scatterpolargl"
           }
          ],
          "scatterternary": [
           {
            "marker": {
             "colorbar": {
              "outlinewidth": 0,
              "ticks": ""
             }
            },
            "type": "scatterternary"
           }
          ],
          "surface": [
           {
            "colorbar": {
             "outlinewidth": 0,
             "ticks": ""
            },
            "colorscale": [
             [
              0,
              "#0d0887"
             ],
             [
              0.1111111111111111,
              "#46039f"
             ],
             [
              0.2222222222222222,
              "#7201a8"
             ],
             [
              0.3333333333333333,
              "#9c179e"
             ],
             [
              0.4444444444444444,
              "#bd3786"
             ],
             [
              0.5555555555555556,
              "#d8576b"
             ],
             [
              0.6666666666666666,
              "#ed7953"
             ],
             [
              0.7777777777777778,
              "#fb9f3a"
             ],
             [
              0.8888888888888888,
              "#fdca26"
             ],
             [
              1,
              "#f0f921"
             ]
            ],
            "type": "surface"
           }
          ],
          "table": [
           {
            "cells": {
             "fill": {
              "color": "#EBF0F8"
             },
             "line": {
              "color": "white"
             }
            },
            "header": {
             "fill": {
              "color": "#C8D4E3"
             },
             "line": {
              "color": "white"
             }
            },
            "type": "table"
           }
          ]
         },
         "layout": {
          "annotationdefaults": {
           "arrowcolor": "#2a3f5f",
           "arrowhead": 0,
           "arrowwidth": 1
          },
          "autotypenumbers": "strict",
          "coloraxis": {
           "colorbar": {
            "outlinewidth": 0,
            "ticks": ""
           }
          },
          "colorscale": {
           "diverging": [
            [
             0,
             "#8e0152"
            ],
            [
             0.1,
             "#c51b7d"
            ],
            [
             0.2,
             "#de77ae"
            ],
            [
             0.3,
             "#f1b6da"
            ],
            [
             0.4,
             "#fde0ef"
            ],
            [
             0.5,
             "#f7f7f7"
            ],
            [
             0.6,
             "#e6f5d0"
            ],
            [
             0.7,
             "#b8e186"
            ],
            [
             0.8,
             "#7fbc41"
            ],
            [
             0.9,
             "#4d9221"
            ],
            [
             1,
             "#276419"
            ]
           ],
           "sequential": [
            [
             0,
             "#0d0887"
            ],
            [
             0.1111111111111111,
             "#46039f"
            ],
            [
             0.2222222222222222,
             "#7201a8"
            ],
            [
             0.3333333333333333,
             "#9c179e"
            ],
            [
             0.4444444444444444,
             "#bd3786"
            ],
            [
             0.5555555555555556,
             "#d8576b"
            ],
            [
             0.6666666666666666,
             "#ed7953"
            ],
            [
             0.7777777777777778,
             "#fb9f3a"
            ],
            [
             0.8888888888888888,
             "#fdca26"
            ],
            [
             1,
             "#f0f921"
            ]
           ],
           "sequentialminus": [
            [
             0,
             "#0d0887"
            ],
            [
             0.1111111111111111,
             "#46039f"
            ],
            [
             0.2222222222222222,
             "#7201a8"
            ],
            [
             0.3333333333333333,
             "#9c179e"
            ],
            [
             0.4444444444444444,
             "#bd3786"
            ],
            [
             0.5555555555555556,
             "#d8576b"
            ],
            [
             0.6666666666666666,
             "#ed7953"
            ],
            [
             0.7777777777777778,
             "#fb9f3a"
            ],
            [
             0.8888888888888888,
             "#fdca26"
            ],
            [
             1,
             "#f0f921"
            ]
           ]
          },
          "colorway": [
           "#636efa",
           "#EF553B",
           "#00cc96",
           "#ab63fa",
           "#FFA15A",
           "#19d3f3",
           "#FF6692",
           "#B6E880",
           "#FF97FF",
           "#FECB52"
          ],
          "font": {
           "color": "#2a3f5f"
          },
          "geo": {
           "bgcolor": "white",
           "lakecolor": "white",
           "landcolor": "#E5ECF6",
           "showlakes": true,
           "showland": true,
           "subunitcolor": "white"
          },
          "hoverlabel": {
           "align": "left"
          },
          "hovermode": "closest",
          "mapbox": {
           "style": "light"
          },
          "paper_bgcolor": "white",
          "plot_bgcolor": "#E5ECF6",
          "polar": {
           "angularaxis": {
            "gridcolor": "white",
            "linecolor": "white",
            "ticks": ""
           },
           "bgcolor": "#E5ECF6",
           "radialaxis": {
            "gridcolor": "white",
            "linecolor": "white",
            "ticks": ""
           }
          },
          "scene": {
           "xaxis": {
            "backgroundcolor": "#E5ECF6",
            "gridcolor": "white",
            "gridwidth": 2,
            "linecolor": "white",
            "showbackground": true,
            "ticks": "",
            "zerolinecolor": "white"
           },
           "yaxis": {
            "backgroundcolor": "#E5ECF6",
            "gridcolor": "white",
            "gridwidth": 2,
            "linecolor": "white",
            "showbackground": true,
            "ticks": "",
            "zerolinecolor": "white"
           },
           "zaxis": {
            "backgroundcolor": "#E5ECF6",
            "gridcolor": "white",
            "gridwidth": 2,
            "linecolor": "white",
            "showbackground": true,
            "ticks": "",
            "zerolinecolor": "white"
           }
          },
          "shapedefaults": {
           "line": {
            "color": "#2a3f5f"
           }
          },
          "ternary": {
           "aaxis": {
            "gridcolor": "white",
            "linecolor": "white",
            "ticks": ""
           },
           "baxis": {
            "gridcolor": "white",
            "linecolor": "white",
            "ticks": ""
           },
           "bgcolor": "#E5ECF6",
           "caxis": {
            "gridcolor": "white",
            "linecolor": "white",
            "ticks": ""
           }
          },
          "title": {
           "x": 0.05
          },
          "xaxis": {
           "automargin": true,
           "gridcolor": "white",
           "linecolor": "white",
           "ticks": "",
           "title": {
            "standoff": 15
           },
           "zerolinecolor": "white",
           "zerolinewidth": 2
          },
          "yaxis": {
           "automargin": true,
           "gridcolor": "white",
           "linecolor": "white",
           "ticks": "",
           "title": {
            "standoff": 15
           },
           "zerolinecolor": "white",
           "zerolinewidth": 2
          }
         }
        }
       }
      }
     },
     "metadata": {},
     "output_type": "display_data"
    }
   ],
   "source": [
    "# Create a bubble map visualization\n",
    "fig = px.scatter_mapbox(\n",
    "    reduced_df,\n",
    "    lat='coordinates.latitude',\n",
    "    lon='coordinates.longitude',\n",
    "    hover_name='location',\n",
    "    size='o3',  # Size of bubbles based on 'value' column\n",
    "    color='o3',  # Color of bubbles based on 'value' column\n",
    "    color_continuous_scale='Viridis',  # Color scale\n",
    "    size_max=50,  # Maximum size of bubbles\n",
    ")\n",
    "\n",
    "# Update the map layout\n",
    "fig.update_layout(\n",
    "    mapbox_style='carto-positron',  # Map style\n",
    "    mapbox_zoom=4,  # Initial zoom level\n",
    "    mapbox_center={'lat': reduced_df['coordinates.latitude'].mean(), 'lon': reduced_df['coordinates.longitude'].mean()},  # Map center\n",
    ")\n",
    "\n",
    "# Display the plot\n",
    "fig.show()"
   ]
  },
  {
   "cell_type": "markdown",
   "metadata": {},
   "source": [
    "Unlike the CO, the high O3 levels are located in the northern provinces where is less factories and industries."
   ]
  },
  {
   "cell_type": "markdown",
   "metadata": {},
   "source": [
    "### Visualize the Particular matter pm10"
   ]
  },
  {
   "cell_type": "code",
   "execution_count": 29,
   "metadata": {},
   "outputs": [
    {
     "data": {
      "application/vnd.plotly.v1+json": {
       "config": {
        "plotlyServerURL": "https://plot.ly"
       },
       "data": [
        {
         "hovertemplate": "<b>%{hovertext}</b><br><br>pm10=%{marker.color}<br>coordinates.latitude=%{lat}<br>coordinates.longitude=%{lon}<extra></extra>",
         "hovertext": [
          "Mong Kok",
          "North",
          "Central",
          "Tseung Kwan O",
          "Tuen Mun",
          "Causeway Bay",
          "Tap Mun",
          "Tsuen Wan",
          "Yuen Long",
          "Southern",
          "安钢职工学校",
          "官渡区博物馆",
          "宿豫区政府",
          "市人大",
          "市第七中学",
          "广陵建设局",
          "文明里",
          "歇台子",
          "河西一经路",
          "海东办",
          "芒市人民政府综合楼",
          "蓝田镇",
          "规划局",
          "质量技术监督局",
          "路南电大",
          "昆区政府",
          "东山小学",
          "机电学校",
          "贺兰山马莲口(对照点)",
          "开发区子站",
          "监测站",
          "奥体中心",
          "浦口",
          "人口学校",
          "武功山(对照点)",
          "马山宾馆",
          "延安路89号",
          "三里街",
          "长江中路",
          "滨湖新区",
          "包河区",
          "阜阳职业技术学院",
          "人大宾馆",
          "池州学院",
          "市第九中学",
          "市公路局",
          "市新民污水厂",
          "工人疗养院",
          "八公山区政府",
          "市环保局",
          "职工医院",
          "榆中兰大校区(对照点)",
          "庐山气象台(对照点)",
          "环保监测大楼",
          "红石峡森林公园(对照点)",
          "睢阳区环保局",
          "淮河道",
          "安家",
          "金胜",
          "环保局",
          "理工学院",
          "远航博物馆",
          "市体育局",
          "东关招商场",
          "中山北路",
          "双创科技城",
          "唐尧大酒店",
          "城南",
          "外国语学校",
          "宁德一中",
          "原169医院(对照点)"
         ],
         "lat": [
          22.3225,
          22.496710000000004,
          22.281944444444445,
          22.317777777777778,
          22.391111111111112,
          22.28,
          22.47138888888889,
          22.371666666666663,
          22.44527777777778,
          22.247430000000005,
          36.0949,
          25.0119,
          33.944700000000005,
          31.453499999999995,
          35.40539999999999,
          32.394200000000005,
          39.943889000000006,
          29.5346,
          39.2474,
          40.8389,
          24.4368,
          24.506,
          33.73,
          27.8094,
          39.6202,
          40.6576,
          36.6868,
          28.6062,
          38.6016,
          30.9427,
          32.4287,
          39.9821,
          32.0931,
          36.20170000000001,
          27.500200000000003,
          30.5119,
          29.696300000000004,
          31.8764,
          31.8571,
          31.7385,
          31.7964,
          32.88920000000001,
          32.27859999999999,
          30.6618,
          30.8792,
          30.9273,
          30.9413,
          32.939,
          32.633,
          42.9418,
          38.0444,
          35.9454,
          29.5698,
          38.24779999999999,
          38.33440000000001,
          34.3948,
          39.2133,
          31.9087,
          37.78199999999999,
          32.9917,
          32.9692,
          33.666,
          32.3972,
          37.9325,
          39.16989999999999,
          28.4315,
          36.101400000000005,
          36.0414,
          29.6994,
          26.6562,
          26.916699999999995
         ],
         "legendgroup": "",
         "lon": [
          114.16833333333334,
          114.12824,
          114.15805555555558,
          114.25944444444444,
          113.97666666666667,
          114.185,
          114.36083333333332,
          114.11444444444444,
          114.02277777777776,
          114.16015,
          114.2917,
          102.7494,
          118.3225,
          104.7563,
          116.59069999999998,
          119.4686,
          119.610547,
          106.49580000000002,
          117.79179999999998,
          111.6518,
          98.5881,
          117.7116,
          113.3025,
          99.7136,
          118.1436,
          109.83310000000002,
          117.532,
          115.9084,
          105.9512,
          118.7173,
          105.8628,
          116.39660000000002,
          118.6414,
          117.0885,
          114.0997,
          117.0331,
          118.2903,
          117.30719999999998,
          117.25,
          117.2776,
          117.3027,
          115.784,
          118.32439999999998,
          117.47,
          117.74389999999998,
          117.8059,
          117.7807,
          117.396,
          116.8281,
          89.1904,
          114.4422,
          104.1373,
          115.9773,
          109.7336,
          109.7414,
          115.6293,
          117.1837,
          119.9255,
          112.4701,
          112.5192,
          112.548,
          116.9509,
          119.3633,
          102.6486,
          117.2101,
          117.897,
          111.505,
          111.5036,
          116.0254,
          119.5231,
          112.5003
         ],
         "marker": {
          "color": [
           14.7,
           11.3,
           11,
           10,
           13,
           24.6,
           6.5,
           8.9,
           10.4,
           8.6,
           68,
           42,
           29,
           36,
           72,
           69,
           34,
           35,
           44,
           12,
           22,
           41,
           32,
           17,
           41,
           23,
           95,
           56,
           29,
           56,
           15,
           28,
           61,
           66,
           6,
           84,
           37,
           51,
           44,
           75,
           66,
           10,
           63,
           76,
           112,
           88,
           88,
           46,
           30,
           29,
           27,
           37,
           36,
           39,
           33,
           38,
           43,
           52,
           50,
           20,
           23,
           31,
           85,
           47,
           37,
           52,
           32,
           86,
           64,
           61,
           15
          ],
          "coloraxis": "coloraxis",
          "size": [
           14.7,
           11.3,
           11,
           10,
           13,
           24.6,
           6.5,
           8.9,
           10.4,
           8.6,
           68,
           42,
           29,
           36,
           72,
           69,
           34,
           35,
           44,
           12,
           22,
           41,
           32,
           17,
           41,
           23,
           95,
           56,
           29,
           56,
           15,
           28,
           61,
           66,
           6,
           84,
           37,
           51,
           44,
           75,
           66,
           10,
           63,
           76,
           112,
           88,
           88,
           46,
           30,
           29,
           27,
           37,
           36,
           39,
           33,
           38,
           43,
           52,
           50,
           20,
           23,
           31,
           85,
           47,
           37,
           52,
           32,
           86,
           64,
           61,
           15
          ],
          "sizemode": "area",
          "sizeref": 0.0448
         },
         "mode": "markers",
         "name": "",
         "showlegend": false,
         "subplot": "mapbox",
         "type": "scattermapbox"
        }
       ],
       "layout": {
        "coloraxis": {
         "colorbar": {
          "title": {
           "text": "pm10"
          }
         },
         "colorscale": [
          [
           0,
           "#440154"
          ],
          [
           0.1111111111111111,
           "#482878"
          ],
          [
           0.2222222222222222,
           "#3e4989"
          ],
          [
           0.3333333333333333,
           "#31688e"
          ],
          [
           0.4444444444444444,
           "#26828e"
          ],
          [
           0.5555555555555556,
           "#1f9e89"
          ],
          [
           0.6666666666666666,
           "#35b779"
          ],
          [
           0.7777777777777778,
           "#6ece58"
          ],
          [
           0.8888888888888888,
           "#b5de2b"
          ],
          [
           1,
           "#fde725"
          ]
         ]
        },
        "legend": {
         "itemsizing": "constant",
         "tracegroupgap": 0
        },
        "mapbox": {
         "center": {
          "lat": 31.863095713615024,
          "lon": 113.84468581064164
         },
         "domain": {
          "x": [
           0,
           1
          ],
          "y": [
           0,
           1
          ]
         },
         "style": "carto-positron",
         "zoom": 4
        },
        "margin": {
         "t": 60
        },
        "template": {
         "data": {
          "bar": [
           {
            "error_x": {
             "color": "#2a3f5f"
            },
            "error_y": {
             "color": "#2a3f5f"
            },
            "marker": {
             "line": {
              "color": "#E5ECF6",
              "width": 0.5
             },
             "pattern": {
              "fillmode": "overlay",
              "size": 10,
              "solidity": 0.2
             }
            },
            "type": "bar"
           }
          ],
          "barpolar": [
           {
            "marker": {
             "line": {
              "color": "#E5ECF6",
              "width": 0.5
             },
             "pattern": {
              "fillmode": "overlay",
              "size": 10,
              "solidity": 0.2
             }
            },
            "type": "barpolar"
           }
          ],
          "carpet": [
           {
            "aaxis": {
             "endlinecolor": "#2a3f5f",
             "gridcolor": "white",
             "linecolor": "white",
             "minorgridcolor": "white",
             "startlinecolor": "#2a3f5f"
            },
            "baxis": {
             "endlinecolor": "#2a3f5f",
             "gridcolor": "white",
             "linecolor": "white",
             "minorgridcolor": "white",
             "startlinecolor": "#2a3f5f"
            },
            "type": "carpet"
           }
          ],
          "choropleth": [
           {
            "colorbar": {
             "outlinewidth": 0,
             "ticks": ""
            },
            "type": "choropleth"
           }
          ],
          "contour": [
           {
            "colorbar": {
             "outlinewidth": 0,
             "ticks": ""
            },
            "colorscale": [
             [
              0,
              "#0d0887"
             ],
             [
              0.1111111111111111,
              "#46039f"
             ],
             [
              0.2222222222222222,
              "#7201a8"
             ],
             [
              0.3333333333333333,
              "#9c179e"
             ],
             [
              0.4444444444444444,
              "#bd3786"
             ],
             [
              0.5555555555555556,
              "#d8576b"
             ],
             [
              0.6666666666666666,
              "#ed7953"
             ],
             [
              0.7777777777777778,
              "#fb9f3a"
             ],
             [
              0.8888888888888888,
              "#fdca26"
             ],
             [
              1,
              "#f0f921"
             ]
            ],
            "type": "contour"
           }
          ],
          "contourcarpet": [
           {
            "colorbar": {
             "outlinewidth": 0,
             "ticks": ""
            },
            "type": "contourcarpet"
           }
          ],
          "heatmap": [
           {
            "colorbar": {
             "outlinewidth": 0,
             "ticks": ""
            },
            "colorscale": [
             [
              0,
              "#0d0887"
             ],
             [
              0.1111111111111111,
              "#46039f"
             ],
             [
              0.2222222222222222,
              "#7201a8"
             ],
             [
              0.3333333333333333,
              "#9c179e"
             ],
             [
              0.4444444444444444,
              "#bd3786"
             ],
             [
              0.5555555555555556,
              "#d8576b"
             ],
             [
              0.6666666666666666,
              "#ed7953"
             ],
             [
              0.7777777777777778,
              "#fb9f3a"
             ],
             [
              0.8888888888888888,
              "#fdca26"
             ],
             [
              1,
              "#f0f921"
             ]
            ],
            "type": "heatmap"
           }
          ],
          "heatmapgl": [
           {
            "colorbar": {
             "outlinewidth": 0,
             "ticks": ""
            },
            "colorscale": [
             [
              0,
              "#0d0887"
             ],
             [
              0.1111111111111111,
              "#46039f"
             ],
             [
              0.2222222222222222,
              "#7201a8"
             ],
             [
              0.3333333333333333,
              "#9c179e"
             ],
             [
              0.4444444444444444,
              "#bd3786"
             ],
             [
              0.5555555555555556,
              "#d8576b"
             ],
             [
              0.6666666666666666,
              "#ed7953"
             ],
             [
              0.7777777777777778,
              "#fb9f3a"
             ],
             [
              0.8888888888888888,
              "#fdca26"
             ],
             [
              1,
              "#f0f921"
             ]
            ],
            "type": "heatmapgl"
           }
          ],
          "histogram": [
           {
            "marker": {
             "pattern": {
              "fillmode": "overlay",
              "size": 10,
              "solidity": 0.2
             }
            },
            "type": "histogram"
           }
          ],
          "histogram2d": [
           {
            "colorbar": {
             "outlinewidth": 0,
             "ticks": ""
            },
            "colorscale": [
             [
              0,
              "#0d0887"
             ],
             [
              0.1111111111111111,
              "#46039f"
             ],
             [
              0.2222222222222222,
              "#7201a8"
             ],
             [
              0.3333333333333333,
              "#9c179e"
             ],
             [
              0.4444444444444444,
              "#bd3786"
             ],
             [
              0.5555555555555556,
              "#d8576b"
             ],
             [
              0.6666666666666666,
              "#ed7953"
             ],
             [
              0.7777777777777778,
              "#fb9f3a"
             ],
             [
              0.8888888888888888,
              "#fdca26"
             ],
             [
              1,
              "#f0f921"
             ]
            ],
            "type": "histogram2d"
           }
          ],
          "histogram2dcontour": [
           {
            "colorbar": {
             "outlinewidth": 0,
             "ticks": ""
            },
            "colorscale": [
             [
              0,
              "#0d0887"
             ],
             [
              0.1111111111111111,
              "#46039f"
             ],
             [
              0.2222222222222222,
              "#7201a8"
             ],
             [
              0.3333333333333333,
              "#9c179e"
             ],
             [
              0.4444444444444444,
              "#bd3786"
             ],
             [
              0.5555555555555556,
              "#d8576b"
             ],
             [
              0.6666666666666666,
              "#ed7953"
             ],
             [
              0.7777777777777778,
              "#fb9f3a"
             ],
             [
              0.8888888888888888,
              "#fdca26"
             ],
             [
              1,
              "#f0f921"
             ]
            ],
            "type": "histogram2dcontour"
           }
          ],
          "mesh3d": [
           {
            "colorbar": {
             "outlinewidth": 0,
             "ticks": ""
            },
            "type": "mesh3d"
           }
          ],
          "parcoords": [
           {
            "line": {
             "colorbar": {
              "outlinewidth": 0,
              "ticks": ""
             }
            },
            "type": "parcoords"
           }
          ],
          "pie": [
           {
            "automargin": true,
            "type": "pie"
           }
          ],
          "scatter": [
           {
            "fillpattern": {
             "fillmode": "overlay",
             "size": 10,
             "solidity": 0.2
            },
            "type": "scatter"
           }
          ],
          "scatter3d": [
           {
            "line": {
             "colorbar": {
              "outlinewidth": 0,
              "ticks": ""
             }
            },
            "marker": {
             "colorbar": {
              "outlinewidth": 0,
              "ticks": ""
             }
            },
            "type": "scatter3d"
           }
          ],
          "scattercarpet": [
           {
            "marker": {
             "colorbar": {
              "outlinewidth": 0,
              "ticks": ""
             }
            },
            "type": "scattercarpet"
           }
          ],
          "scattergeo": [
           {
            "marker": {
             "colorbar": {
              "outlinewidth": 0,
              "ticks": ""
             }
            },
            "type": "scattergeo"
           }
          ],
          "scattergl": [
           {
            "marker": {
             "colorbar": {
              "outlinewidth": 0,
              "ticks": ""
             }
            },
            "type": "scattergl"
           }
          ],
          "scattermapbox": [
           {
            "marker": {
             "colorbar": {
              "outlinewidth": 0,
              "ticks": ""
             }
            },
            "type": "scattermapbox"
           }
          ],
          "scatterpolar": [
           {
            "marker": {
             "colorbar": {
              "outlinewidth": 0,
              "ticks": ""
             }
            },
            "type": "scatterpolar"
           }
          ],
          "scatterpolargl": [
           {
            "marker": {
             "colorbar": {
              "outlinewidth": 0,
              "ticks": ""
             }
            },
            "type": "scatterpolargl"
           }
          ],
          "scatterternary": [
           {
            "marker": {
             "colorbar": {
              "outlinewidth": 0,
              "ticks": ""
             }
            },
            "type": "scatterternary"
           }
          ],
          "surface": [
           {
            "colorbar": {
             "outlinewidth": 0,
             "ticks": ""
            },
            "colorscale": [
             [
              0,
              "#0d0887"
             ],
             [
              0.1111111111111111,
              "#46039f"
             ],
             [
              0.2222222222222222,
              "#7201a8"
             ],
             [
              0.3333333333333333,
              "#9c179e"
             ],
             [
              0.4444444444444444,
              "#bd3786"
             ],
             [
              0.5555555555555556,
              "#d8576b"
             ],
             [
              0.6666666666666666,
              "#ed7953"
             ],
             [
              0.7777777777777778,
              "#fb9f3a"
             ],
             [
              0.8888888888888888,
              "#fdca26"
             ],
             [
              1,
              "#f0f921"
             ]
            ],
            "type": "surface"
           }
          ],
          "table": [
           {
            "cells": {
             "fill": {
              "color": "#EBF0F8"
             },
             "line": {
              "color": "white"
             }
            },
            "header": {
             "fill": {
              "color": "#C8D4E3"
             },
             "line": {
              "color": "white"
             }
            },
            "type": "table"
           }
          ]
         },
         "layout": {
          "annotationdefaults": {
           "arrowcolor": "#2a3f5f",
           "arrowhead": 0,
           "arrowwidth": 1
          },
          "autotypenumbers": "strict",
          "coloraxis": {
           "colorbar": {
            "outlinewidth": 0,
            "ticks": ""
           }
          },
          "colorscale": {
           "diverging": [
            [
             0,
             "#8e0152"
            ],
            [
             0.1,
             "#c51b7d"
            ],
            [
             0.2,
             "#de77ae"
            ],
            [
             0.3,
             "#f1b6da"
            ],
            [
             0.4,
             "#fde0ef"
            ],
            [
             0.5,
             "#f7f7f7"
            ],
            [
             0.6,
             "#e6f5d0"
            ],
            [
             0.7,
             "#b8e186"
            ],
            [
             0.8,
             "#7fbc41"
            ],
            [
             0.9,
             "#4d9221"
            ],
            [
             1,
             "#276419"
            ]
           ],
           "sequential": [
            [
             0,
             "#0d0887"
            ],
            [
             0.1111111111111111,
             "#46039f"
            ],
            [
             0.2222222222222222,
             "#7201a8"
            ],
            [
             0.3333333333333333,
             "#9c179e"
            ],
            [
             0.4444444444444444,
             "#bd3786"
            ],
            [
             0.5555555555555556,
             "#d8576b"
            ],
            [
             0.6666666666666666,
             "#ed7953"
            ],
            [
             0.7777777777777778,
             "#fb9f3a"
            ],
            [
             0.8888888888888888,
             "#fdca26"
            ],
            [
             1,
             "#f0f921"
            ]
           ],
           "sequentialminus": [
            [
             0,
             "#0d0887"
            ],
            [
             0.1111111111111111,
             "#46039f"
            ],
            [
             0.2222222222222222,
             "#7201a8"
            ],
            [
             0.3333333333333333,
             "#9c179e"
            ],
            [
             0.4444444444444444,
             "#bd3786"
            ],
            [
             0.5555555555555556,
             "#d8576b"
            ],
            [
             0.6666666666666666,
             "#ed7953"
            ],
            [
             0.7777777777777778,
             "#fb9f3a"
            ],
            [
             0.8888888888888888,
             "#fdca26"
            ],
            [
             1,
             "#f0f921"
            ]
           ]
          },
          "colorway": [
           "#636efa",
           "#EF553B",
           "#00cc96",
           "#ab63fa",
           "#FFA15A",
           "#19d3f3",
           "#FF6692",
           "#B6E880",
           "#FF97FF",
           "#FECB52"
          ],
          "font": {
           "color": "#2a3f5f"
          },
          "geo": {
           "bgcolor": "white",
           "lakecolor": "white",
           "landcolor": "#E5ECF6",
           "showlakes": true,
           "showland": true,
           "subunitcolor": "white"
          },
          "hoverlabel": {
           "align": "left"
          },
          "hovermode": "closest",
          "mapbox": {
           "style": "light"
          },
          "paper_bgcolor": "white",
          "plot_bgcolor": "#E5ECF6",
          "polar": {
           "angularaxis": {
            "gridcolor": "white",
            "linecolor": "white",
            "ticks": ""
           },
           "bgcolor": "#E5ECF6",
           "radialaxis": {
            "gridcolor": "white",
            "linecolor": "white",
            "ticks": ""
           }
          },
          "scene": {
           "xaxis": {
            "backgroundcolor": "#E5ECF6",
            "gridcolor": "white",
            "gridwidth": 2,
            "linecolor": "white",
            "showbackground": true,
            "ticks": "",
            "zerolinecolor": "white"
           },
           "yaxis": {
            "backgroundcolor": "#E5ECF6",
            "gridcolor": "white",
            "gridwidth": 2,
            "linecolor": "white",
            "showbackground": true,
            "ticks": "",
            "zerolinecolor": "white"
           },
           "zaxis": {
            "backgroundcolor": "#E5ECF6",
            "gridcolor": "white",
            "gridwidth": 2,
            "linecolor": "white",
            "showbackground": true,
            "ticks": "",
            "zerolinecolor": "white"
           }
          },
          "shapedefaults": {
           "line": {
            "color": "#2a3f5f"
           }
          },
          "ternary": {
           "aaxis": {
            "gridcolor": "white",
            "linecolor": "white",
            "ticks": ""
           },
           "baxis": {
            "gridcolor": "white",
            "linecolor": "white",
            "ticks": ""
           },
           "bgcolor": "#E5ECF6",
           "caxis": {
            "gridcolor": "white",
            "linecolor": "white",
            "ticks": ""
           }
          },
          "title": {
           "x": 0.05
          },
          "xaxis": {
           "automargin": true,
           "gridcolor": "white",
           "linecolor": "white",
           "ticks": "",
           "title": {
            "standoff": 15
           },
           "zerolinecolor": "white",
           "zerolinewidth": 2
          },
          "yaxis": {
           "automargin": true,
           "gridcolor": "white",
           "linecolor": "white",
           "ticks": "",
           "title": {
            "standoff": 15
           },
           "zerolinecolor": "white",
           "zerolinewidth": 2
          }
         }
        }
       }
      }
     },
     "metadata": {},
     "output_type": "display_data"
    }
   ],
   "source": [
    "# Create a bubble map visualization\n",
    "fig = px.scatter_mapbox(\n",
    "    reduced_df,\n",
    "    lat='coordinates.latitude',\n",
    "    lon='coordinates.longitude',\n",
    "    hover_name='location',\n",
    "    size='pm10',  # Size of bubbles based on 'value' column\n",
    "    color='pm10',  # Color of bubbles based on 'value' column\n",
    "    color_continuous_scale='Viridis',  # Color scale\n",
    "    size_max=50,  # Maximum size of bubbles\n",
    ")\n",
    "\n",
    "# Update the map layout\n",
    "fig.update_layout(\n",
    "    mapbox_style='carto-positron',  # Map style\n",
    "    mapbox_zoom=4,  # Initial zoom level\n",
    "    mapbox_center={'lat': reduced_df['coordinates.latitude'].mean(), 'lon': reduced_df['coordinates.longitude'].mean()},  # Map center\n",
    ")\n",
    "\n",
    "# Display the plot\n",
    "fig.show()"
   ]
  },
  {
   "cell_type": "markdown",
   "metadata": {},
   "source": [
    "### Visualize the PM25"
   ]
  },
  {
   "cell_type": "code",
   "execution_count": 31,
   "metadata": {},
   "outputs": [
    {
     "data": {
      "application/vnd.plotly.v1+json": {
       "config": {
        "plotlyServerURL": "https://plot.ly"
       },
       "data": [
        {
         "hovertemplate": "<b>%{hovertext}</b><br><br>pm25=%{marker.color}<br>coordinates.latitude=%{lat}<br>coordinates.longitude=%{lon}<extra></extra>",
         "hovertext": [
          "Mong Kok",
          "North",
          "Central",
          "Tseung Kwan O",
          "Tuen Mun",
          "Causeway Bay",
          "Tap Mun",
          "Tsuen Wan",
          "Yuen Long",
          "Southern",
          "安钢职工学校",
          "官渡区博物馆",
          "宿豫区政府",
          "市人大",
          "市第七中学",
          "广陵建设局",
          "文明里",
          "歇台子",
          "河西一经路",
          "海东办",
          "芒市人民政府综合楼",
          "蓝田镇",
          "规划局",
          "质量技术监督局",
          "路南电大",
          "昆区政府",
          "东山小学",
          "机电学校",
          "贺兰山马莲口(对照点)",
          "开发区子站",
          "监测站",
          "奥体中心",
          "浦口",
          "人口学校",
          "武功山(对照点)",
          "马山宾馆",
          "延安路89号",
          "三里街",
          "长江中路",
          "滨湖新区",
          "包河区",
          "阜阳职业技术学院",
          "人大宾馆",
          "池州学院",
          "市第九中学",
          "市公路局",
          "市新民污水厂",
          "工人疗养院",
          "八公山区政府",
          "市环保局",
          "职工医院",
          "榆中兰大校区(对照点)",
          "庐山气象台(对照点)",
          "环保监测大楼",
          "红石峡森林公园(对照点)",
          "睢阳区环保局",
          "淮河道",
          "安家",
          "金胜",
          "环保局",
          "理工学院",
          "远航博物馆",
          "市体育局",
          "东关招商场",
          "中山北路",
          "双创科技城",
          "唐尧大酒店",
          "城南",
          "外国语学校",
          "宁德一中",
          "原169医院(对照点)"
         ],
         "lat": [
          22.3225,
          22.496710000000004,
          22.281944444444445,
          22.317777777777778,
          22.391111111111112,
          22.28,
          22.47138888888889,
          22.371666666666663,
          22.44527777777778,
          22.247430000000005,
          36.0949,
          25.0119,
          33.944700000000005,
          31.453499999999995,
          35.40539999999999,
          32.394200000000005,
          39.943889000000006,
          29.5346,
          39.2474,
          40.8389,
          24.4368,
          24.506,
          33.73,
          27.8094,
          39.6202,
          40.6576,
          36.6868,
          28.6062,
          38.6016,
          30.9427,
          32.4287,
          39.9821,
          32.0931,
          36.20170000000001,
          27.500200000000003,
          30.5119,
          29.696300000000004,
          31.8764,
          31.8571,
          31.7385,
          31.7964,
          32.88920000000001,
          32.27859999999999,
          30.6618,
          30.8792,
          30.9273,
          30.9413,
          32.939,
          32.633,
          42.9418,
          38.0444,
          35.9454,
          29.5698,
          38.24779999999999,
          38.33440000000001,
          34.3948,
          39.2133,
          31.9087,
          37.78199999999999,
          32.9917,
          32.9692,
          33.666,
          32.3972,
          37.9325,
          39.16989999999999,
          28.4315,
          36.101400000000005,
          36.0414,
          29.6994,
          26.6562,
          26.916699999999995
         ],
         "legendgroup": "",
         "lon": [
          114.16833333333334,
          114.12824,
          114.15805555555558,
          114.25944444444444,
          113.97666666666667,
          114.185,
          114.36083333333332,
          114.11444444444444,
          114.02277777777776,
          114.16015,
          114.2917,
          102.7494,
          118.3225,
          104.7563,
          116.59069999999998,
          119.4686,
          119.610547,
          106.49580000000002,
          117.79179999999998,
          111.6518,
          98.5881,
          117.7116,
          113.3025,
          99.7136,
          118.1436,
          109.83310000000002,
          117.532,
          115.9084,
          105.9512,
          118.7173,
          105.8628,
          116.39660000000002,
          118.6414,
          117.0885,
          114.0997,
          117.0331,
          118.2903,
          117.30719999999998,
          117.25,
          117.2776,
          117.3027,
          115.784,
          118.32439999999998,
          117.47,
          117.74389999999998,
          117.8059,
          117.7807,
          117.396,
          116.8281,
          89.1904,
          114.4422,
          104.1373,
          115.9773,
          109.7336,
          109.7414,
          115.6293,
          117.1837,
          119.9255,
          112.4701,
          112.5192,
          112.548,
          116.9509,
          119.3633,
          102.6486,
          117.2101,
          117.897,
          111.505,
          111.5036,
          116.0254,
          119.5231,
          112.5003
         ],
         "marker": {
          "color": [
           8.3,
           3.8,
           8.2,
           2.4,
           9,
           15,
           1.5,
           6.3,
           6,
           3.6,
           32,
           20,
           27,
           16,
           41,
           40,
           26,
           24,
           33,
           5,
           5,
           15,
           16,
           14,
           20,
           15,
           63,
           30,
           8,
           37,
           8,
           10,
           14,
           35,
           3,
           43,
           14,
           29,
           14,
           19,
           29,
           8,
           28,
           46,
           53,
           42,
           35,
           25,
           21,
           16,
           26,
           14,
           27,
           16,
           22,
           15,
           27,
           38,
           13,
           21,
           17,
           20,
           44,
           15,
           22,
           37,
           40,
           49,
           38,
           35,
           12
          ],
          "coloraxis": "coloraxis",
          "size": [
           8.3,
           3.8,
           8.2,
           2.4,
           9,
           15,
           1.5,
           6.3,
           6,
           3.6,
           32,
           20,
           27,
           16,
           41,
           40,
           26,
           24,
           33,
           5,
           5,
           15,
           16,
           14,
           20,
           15,
           63,
           30,
           8,
           37,
           8,
           10,
           14,
           35,
           3,
           43,
           14,
           29,
           14,
           19,
           29,
           8,
           28,
           46,
           53,
           42,
           35,
           25,
           21,
           16,
           26,
           14,
           27,
           16,
           22,
           15,
           27,
           38,
           13,
           21,
           17,
           20,
           44,
           15,
           22,
           37,
           40,
           49,
           38,
           35,
           12
          ],
          "sizemode": "area",
          "sizeref": 0.0252
         },
         "mode": "markers",
         "name": "",
         "showlegend": false,
         "subplot": "mapbox",
         "type": "scattermapbox"
        }
       ],
       "layout": {
        "coloraxis": {
         "colorbar": {
          "title": {
           "text": "pm25"
          }
         },
         "colorscale": [
          [
           0,
           "#440154"
          ],
          [
           0.1111111111111111,
           "#482878"
          ],
          [
           0.2222222222222222,
           "#3e4989"
          ],
          [
           0.3333333333333333,
           "#31688e"
          ],
          [
           0.4444444444444444,
           "#26828e"
          ],
          [
           0.5555555555555556,
           "#1f9e89"
          ],
          [
           0.6666666666666666,
           "#35b779"
          ],
          [
           0.7777777777777778,
           "#6ece58"
          ],
          [
           0.8888888888888888,
           "#b5de2b"
          ],
          [
           1,
           "#fde725"
          ]
         ]
        },
        "legend": {
         "itemsizing": "constant",
         "tracegroupgap": 0
        },
        "mapbox": {
         "center": {
          "lat": 31.863095713615024,
          "lon": 113.84468581064164
         },
         "domain": {
          "x": [
           0,
           1
          ],
          "y": [
           0,
           1
          ]
         },
         "style": "carto-positron",
         "zoom": 4
        },
        "margin": {
         "t": 60
        },
        "template": {
         "data": {
          "bar": [
           {
            "error_x": {
             "color": "#2a3f5f"
            },
            "error_y": {
             "color": "#2a3f5f"
            },
            "marker": {
             "line": {
              "color": "#E5ECF6",
              "width": 0.5
             },
             "pattern": {
              "fillmode": "overlay",
              "size": 10,
              "solidity": 0.2
             }
            },
            "type": "bar"
           }
          ],
          "barpolar": [
           {
            "marker": {
             "line": {
              "color": "#E5ECF6",
              "width": 0.5
             },
             "pattern": {
              "fillmode": "overlay",
              "size": 10,
              "solidity": 0.2
             }
            },
            "type": "barpolar"
           }
          ],
          "carpet": [
           {
            "aaxis": {
             "endlinecolor": "#2a3f5f",
             "gridcolor": "white",
             "linecolor": "white",
             "minorgridcolor": "white",
             "startlinecolor": "#2a3f5f"
            },
            "baxis": {
             "endlinecolor": "#2a3f5f",
             "gridcolor": "white",
             "linecolor": "white",
             "minorgridcolor": "white",
             "startlinecolor": "#2a3f5f"
            },
            "type": "carpet"
           }
          ],
          "choropleth": [
           {
            "colorbar": {
             "outlinewidth": 0,
             "ticks": ""
            },
            "type": "choropleth"
           }
          ],
          "contour": [
           {
            "colorbar": {
             "outlinewidth": 0,
             "ticks": ""
            },
            "colorscale": [
             [
              0,
              "#0d0887"
             ],
             [
              0.1111111111111111,
              "#46039f"
             ],
             [
              0.2222222222222222,
              "#7201a8"
             ],
             [
              0.3333333333333333,
              "#9c179e"
             ],
             [
              0.4444444444444444,
              "#bd3786"
             ],
             [
              0.5555555555555556,
              "#d8576b"
             ],
             [
              0.6666666666666666,
              "#ed7953"
             ],
             [
              0.7777777777777778,
              "#fb9f3a"
             ],
             [
              0.8888888888888888,
              "#fdca26"
             ],
             [
              1,
              "#f0f921"
             ]
            ],
            "type": "contour"
           }
          ],
          "contourcarpet": [
           {
            "colorbar": {
             "outlinewidth": 0,
             "ticks": ""
            },
            "type": "contourcarpet"
           }
          ],
          "heatmap": [
           {
            "colorbar": {
             "outlinewidth": 0,
             "ticks": ""
            },
            "colorscale": [
             [
              0,
              "#0d0887"
             ],
             [
              0.1111111111111111,
              "#46039f"
             ],
             [
              0.2222222222222222,
              "#7201a8"
             ],
             [
              0.3333333333333333,
              "#9c179e"
             ],
             [
              0.4444444444444444,
              "#bd3786"
             ],
             [
              0.5555555555555556,
              "#d8576b"
             ],
             [
              0.6666666666666666,
              "#ed7953"
             ],
             [
              0.7777777777777778,
              "#fb9f3a"
             ],
             [
              0.8888888888888888,
              "#fdca26"
             ],
             [
              1,
              "#f0f921"
             ]
            ],
            "type": "heatmap"
           }
          ],
          "heatmapgl": [
           {
            "colorbar": {
             "outlinewidth": 0,
             "ticks": ""
            },
            "colorscale": [
             [
              0,
              "#0d0887"
             ],
             [
              0.1111111111111111,
              "#46039f"
             ],
             [
              0.2222222222222222,
              "#7201a8"
             ],
             [
              0.3333333333333333,
              "#9c179e"
             ],
             [
              0.4444444444444444,
              "#bd3786"
             ],
             [
              0.5555555555555556,
              "#d8576b"
             ],
             [
              0.6666666666666666,
              "#ed7953"
             ],
             [
              0.7777777777777778,
              "#fb9f3a"
             ],
             [
              0.8888888888888888,
              "#fdca26"
             ],
             [
              1,
              "#f0f921"
             ]
            ],
            "type": "heatmapgl"
           }
          ],
          "histogram": [
           {
            "marker": {
             "pattern": {
              "fillmode": "overlay",
              "size": 10,
              "solidity": 0.2
             }
            },
            "type": "histogram"
           }
          ],
          "histogram2d": [
           {
            "colorbar": {
             "outlinewidth": 0,
             "ticks": ""
            },
            "colorscale": [
             [
              0,
              "#0d0887"
             ],
             [
              0.1111111111111111,
              "#46039f"
             ],
             [
              0.2222222222222222,
              "#7201a8"
             ],
             [
              0.3333333333333333,
              "#9c179e"
             ],
             [
              0.4444444444444444,
              "#bd3786"
             ],
             [
              0.5555555555555556,
              "#d8576b"
             ],
             [
              0.6666666666666666,
              "#ed7953"
             ],
             [
              0.7777777777777778,
              "#fb9f3a"
             ],
             [
              0.8888888888888888,
              "#fdca26"
             ],
             [
              1,
              "#f0f921"
             ]
            ],
            "type": "histogram2d"
           }
          ],
          "histogram2dcontour": [
           {
            "colorbar": {
             "outlinewidth": 0,
             "ticks": ""
            },
            "colorscale": [
             [
              0,
              "#0d0887"
             ],
             [
              0.1111111111111111,
              "#46039f"
             ],
             [
              0.2222222222222222,
              "#7201a8"
             ],
             [
              0.3333333333333333,
              "#9c179e"
             ],
             [
              0.4444444444444444,
              "#bd3786"
             ],
             [
              0.5555555555555556,
              "#d8576b"
             ],
             [
              0.6666666666666666,
              "#ed7953"
             ],
             [
              0.7777777777777778,
              "#fb9f3a"
             ],
             [
              0.8888888888888888,
              "#fdca26"
             ],
             [
              1,
              "#f0f921"
             ]
            ],
            "type": "histogram2dcontour"
           }
          ],
          "mesh3d": [
           {
            "colorbar": {
             "outlinewidth": 0,
             "ticks": ""
            },
            "type": "mesh3d"
           }
          ],
          "parcoords": [
           {
            "line": {
             "colorbar": {
              "outlinewidth": 0,
              "ticks": ""
             }
            },
            "type": "parcoords"
           }
          ],
          "pie": [
           {
            "automargin": true,
            "type": "pie"
           }
          ],
          "scatter": [
           {
            "fillpattern": {
             "fillmode": "overlay",
             "size": 10,
             "solidity": 0.2
            },
            "type": "scatter"
           }
          ],
          "scatter3d": [
           {
            "line": {
             "colorbar": {
              "outlinewidth": 0,
              "ticks": ""
             }
            },
            "marker": {
             "colorbar": {
              "outlinewidth": 0,
              "ticks": ""
             }
            },
            "type": "scatter3d"
           }
          ],
          "scattercarpet": [
           {
            "marker": {
             "colorbar": {
              "outlinewidth": 0,
              "ticks": ""
             }
            },
            "type": "scattercarpet"
           }
          ],
          "scattergeo": [
           {
            "marker": {
             "colorbar": {
              "outlinewidth": 0,
              "ticks": ""
             }
            },
            "type": "scattergeo"
           }
          ],
          "scattergl": [
           {
            "marker": {
             "colorbar": {
              "outlinewidth": 0,
              "ticks": ""
             }
            },
            "type": "scattergl"
           }
          ],
          "scattermapbox": [
           {
            "marker": {
             "colorbar": {
              "outlinewidth": 0,
              "ticks": ""
             }
            },
            "type": "scattermapbox"
           }
          ],
          "scatterpolar": [
           {
            "marker": {
             "colorbar": {
              "outlinewidth": 0,
              "ticks": ""
             }
            },
            "type": "scatterpolar"
           }
          ],
          "scatterpolargl": [
           {
            "marker": {
             "colorbar": {
              "outlinewidth": 0,
              "ticks": ""
             }
            },
            "type": "scatterpolargl"
           }
          ],
          "scatterternary": [
           {
            "marker": {
             "colorbar": {
              "outlinewidth": 0,
              "ticks": ""
             }
            },
            "type": "scatterternary"
           }
          ],
          "surface": [
           {
            "colorbar": {
             "outlinewidth": 0,
             "ticks": ""
            },
            "colorscale": [
             [
              0,
              "#0d0887"
             ],
             [
              0.1111111111111111,
              "#46039f"
             ],
             [
              0.2222222222222222,
              "#7201a8"
             ],
             [
              0.3333333333333333,
              "#9c179e"
             ],
             [
              0.4444444444444444,
              "#bd3786"
             ],
             [
              0.5555555555555556,
              "#d8576b"
             ],
             [
              0.6666666666666666,
              "#ed7953"
             ],
             [
              0.7777777777777778,
              "#fb9f3a"
             ],
             [
              0.8888888888888888,
              "#fdca26"
             ],
             [
              1,
              "#f0f921"
             ]
            ],
            "type": "surface"
           }
          ],
          "table": [
           {
            "cells": {
             "fill": {
              "color": "#EBF0F8"
             },
             "line": {
              "color": "white"
             }
            },
            "header": {
             "fill": {
              "color": "#C8D4E3"
             },
             "line": {
              "color": "white"
             }
            },
            "type": "table"
           }
          ]
         },
         "layout": {
          "annotationdefaults": {
           "arrowcolor": "#2a3f5f",
           "arrowhead": 0,
           "arrowwidth": 1
          },
          "autotypenumbers": "strict",
          "coloraxis": {
           "colorbar": {
            "outlinewidth": 0,
            "ticks": ""
           }
          },
          "colorscale": {
           "diverging": [
            [
             0,
             "#8e0152"
            ],
            [
             0.1,
             "#c51b7d"
            ],
            [
             0.2,
             "#de77ae"
            ],
            [
             0.3,
             "#f1b6da"
            ],
            [
             0.4,
             "#fde0ef"
            ],
            [
             0.5,
             "#f7f7f7"
            ],
            [
             0.6,
             "#e6f5d0"
            ],
            [
             0.7,
             "#b8e186"
            ],
            [
             0.8,
             "#7fbc41"
            ],
            [
             0.9,
             "#4d9221"
            ],
            [
             1,
             "#276419"
            ]
           ],
           "sequential": [
            [
             0,
             "#0d0887"
            ],
            [
             0.1111111111111111,
             "#46039f"
            ],
            [
             0.2222222222222222,
             "#7201a8"
            ],
            [
             0.3333333333333333,
             "#9c179e"
            ],
            [
             0.4444444444444444,
             "#bd3786"
            ],
            [
             0.5555555555555556,
             "#d8576b"
            ],
            [
             0.6666666666666666,
             "#ed7953"
            ],
            [
             0.7777777777777778,
             "#fb9f3a"
            ],
            [
             0.8888888888888888,
             "#fdca26"
            ],
            [
             1,
             "#f0f921"
            ]
           ],
           "sequentialminus": [
            [
             0,
             "#0d0887"
            ],
            [
             0.1111111111111111,
             "#46039f"
            ],
            [
             0.2222222222222222,
             "#7201a8"
            ],
            [
             0.3333333333333333,
             "#9c179e"
            ],
            [
             0.4444444444444444,
             "#bd3786"
            ],
            [
             0.5555555555555556,
             "#d8576b"
            ],
            [
             0.6666666666666666,
             "#ed7953"
            ],
            [
             0.7777777777777778,
             "#fb9f3a"
            ],
            [
             0.8888888888888888,
             "#fdca26"
            ],
            [
             1,
             "#f0f921"
            ]
           ]
          },
          "colorway": [
           "#636efa",
           "#EF553B",
           "#00cc96",
           "#ab63fa",
           "#FFA15A",
           "#19d3f3",
           "#FF6692",
           "#B6E880",
           "#FF97FF",
           "#FECB52"
          ],
          "font": {
           "color": "#2a3f5f"
          },
          "geo": {
           "bgcolor": "white",
           "lakecolor": "white",
           "landcolor": "#E5ECF6",
           "showlakes": true,
           "showland": true,
           "subunitcolor": "white"
          },
          "hoverlabel": {
           "align": "left"
          },
          "hovermode": "closest",
          "mapbox": {
           "style": "light"
          },
          "paper_bgcolor": "white",
          "plot_bgcolor": "#E5ECF6",
          "polar": {
           "angularaxis": {
            "gridcolor": "white",
            "linecolor": "white",
            "ticks": ""
           },
           "bgcolor": "#E5ECF6",
           "radialaxis": {
            "gridcolor": "white",
            "linecolor": "white",
            "ticks": ""
           }
          },
          "scene": {
           "xaxis": {
            "backgroundcolor": "#E5ECF6",
            "gridcolor": "white",
            "gridwidth": 2,
            "linecolor": "white",
            "showbackground": true,
            "ticks": "",
            "zerolinecolor": "white"
           },
           "yaxis": {
            "backgroundcolor": "#E5ECF6",
            "gridcolor": "white",
            "gridwidth": 2,
            "linecolor": "white",
            "showbackground": true,
            "ticks": "",
            "zerolinecolor": "white"
           },
           "zaxis": {
            "backgroundcolor": "#E5ECF6",
            "gridcolor": "white",
            "gridwidth": 2,
            "linecolor": "white",
            "showbackground": true,
            "ticks": "",
            "zerolinecolor": "white"
           }
          },
          "shapedefaults": {
           "line": {
            "color": "#2a3f5f"
           }
          },
          "ternary": {
           "aaxis": {
            "gridcolor": "white",
            "linecolor": "white",
            "ticks": ""
           },
           "baxis": {
            "gridcolor": "white",
            "linecolor": "white",
            "ticks": ""
           },
           "bgcolor": "#E5ECF6",
           "caxis": {
            "gridcolor": "white",
            "linecolor": "white",
            "ticks": ""
           }
          },
          "title": {
           "x": 0.05
          },
          "xaxis": {
           "automargin": true,
           "gridcolor": "white",
           "linecolor": "white",
           "ticks": "",
           "title": {
            "standoff": 15
           },
           "zerolinecolor": "white",
           "zerolinewidth": 2
          },
          "yaxis": {
           "automargin": true,
           "gridcolor": "white",
           "linecolor": "white",
           "ticks": "",
           "title": {
            "standoff": 15
           },
           "zerolinecolor": "white",
           "zerolinewidth": 2
          }
         }
        }
       }
      }
     },
     "metadata": {},
     "output_type": "display_data"
    }
   ],
   "source": [
    "# Create a bubble map visualization\n",
    "fig = px.scatter_mapbox(\n",
    "    reduced_df,\n",
    "    lat='coordinates.latitude',\n",
    "    lon='coordinates.longitude',\n",
    "    hover_name='location',\n",
    "    size='pm25',  # Size of bubbles based on 'value' column\n",
    "    color='pm25',  # Color of bubbles based on 'value' column\n",
    "    color_continuous_scale='Viridis',  # Color scale\n",
    "    size_max=50,  # Maximum size of bubbles\n",
    ")\n",
    "\n",
    "# Update the map layout\n",
    "fig.update_layout(\n",
    "    mapbox_style='carto-positron',  # Map style\n",
    "    mapbox_zoom=4,  # Initial zoom level\n",
    "    mapbox_center={'lat': reduced_df['coordinates.latitude'].mean(), 'lon': reduced_df['coordinates.longitude'].mean()},  # Map center\n",
    ")\n",
    "\n",
    "# Display the plot\n",
    "fig.show()"
   ]
  },
  {
   "cell_type": "markdown",
   "metadata": {},
   "source": [
    "# Calculate the air quality index (AQI)"
   ]
  },
  {
   "cell_type": "markdown",
   "metadata": {},
   "source": [
    "The formula for calculating the AQI is the following : "
   ]
  },
  {
   "cell_type": "markdown",
   "metadata": {},
   "source": [
    "<p align = 'center'>AQI = [ Σ (Pollutant Data Reading) / Σ (Standards) ] * 100</p>"
   ]
  },
  {
   "cell_type": "markdown",
   "metadata": {},
   "source": [
    "![Local Image](AQI.png)"
   ]
  },
  {
   "cell_type": "markdown",
   "metadata": {},
   "source": [
    "Now we calculate the AQI"
   ]
  },
  {
   "cell_type": "code",
   "execution_count": null,
   "metadata": {},
   "outputs": [],
   "source": [
    "# Standards for each pollutant\n",
    "standards = {\n",
    "    'pm25': 25,\n",
    "    'pm10': 50,\n",
    "    'co': 9.0,\n",
    "    'no2': 0.08,\n",
    "    'o3': 0.065\n",
    "}\n",
    "\n",
    "# Calculate AQI for each city\n",
    "def calculate_aqi(row):\n",
    "    pollutants = ['pm25', 'pm10', 'co', 'no2', 'o3']\n",
    "    total_aqi = []\n",
    "    for pollutant in pollutants:\n",
    "        total_aqi.append( (row[pollutant] / standards[pollutant]) * 100 )\n",
    "    return max(total_aqi)\n",
    "\n",
    "reduced_df['AQI'] = reduced_df.apply(calculate_aqi, axis=1)"
   ]
  },
  {
   "cell_type": "code",
   "execution_count": 38,
   "metadata": {},
   "outputs": [
    {
     "data": {
      "text/html": [
       "<div>\n",
       "<style scoped>\n",
       "    .dataframe tbody tr th:only-of-type {\n",
       "        vertical-align: middle;\n",
       "    }\n",
       "\n",
       "    .dataframe tbody tr th {\n",
       "        vertical-align: top;\n",
       "    }\n",
       "\n",
       "    .dataframe thead th {\n",
       "        text-align: right;\n",
       "    }\n",
       "</style>\n",
       "<table border=\"1\" class=\"dataframe\">\n",
       "  <thead>\n",
       "    <tr style=\"text-align: right;\">\n",
       "      <th></th>\n",
       "      <th>location</th>\n",
       "      <th>coordinates.latitude</th>\n",
       "      <th>coordinates.longitude</th>\n",
       "      <th>co</th>\n",
       "      <th>no2</th>\n",
       "      <th>o3</th>\n",
       "      <th>pm10</th>\n",
       "      <th>pm25</th>\n",
       "      <th>so2</th>\n",
       "      <th>AQI</th>\n",
       "    </tr>\n",
       "  </thead>\n",
       "  <tbody>\n",
       "    <tr>\n",
       "      <th>5</th>\n",
       "      <td>Mong Kok</td>\n",
       "      <td>22.322500</td>\n",
       "      <td>114.168333</td>\n",
       "      <td>646.8</td>\n",
       "      <td>62.9</td>\n",
       "      <td>18.9</td>\n",
       "      <td>14.7</td>\n",
       "      <td>8.3</td>\n",
       "      <td>5.0</td>\n",
       "      <td>78625.000000</td>\n",
       "    </tr>\n",
       "    <tr>\n",
       "      <th>6</th>\n",
       "      <td>North</td>\n",
       "      <td>22.496710</td>\n",
       "      <td>114.128240</td>\n",
       "      <td>247.4</td>\n",
       "      <td>13.2</td>\n",
       "      <td>49.3</td>\n",
       "      <td>11.3</td>\n",
       "      <td>3.8</td>\n",
       "      <td>0.7</td>\n",
       "      <td>75846.153846</td>\n",
       "    </tr>\n",
       "    <tr>\n",
       "      <th>8</th>\n",
       "      <td>Central</td>\n",
       "      <td>22.281944</td>\n",
       "      <td>114.158056</td>\n",
       "      <td>274.9</td>\n",
       "      <td>44.7</td>\n",
       "      <td>26.6</td>\n",
       "      <td>11.0</td>\n",
       "      <td>8.2</td>\n",
       "      <td>2.6</td>\n",
       "      <td>55875.000000</td>\n",
       "    </tr>\n",
       "    <tr>\n",
       "      <th>9</th>\n",
       "      <td>Tseung Kwan O</td>\n",
       "      <td>22.317778</td>\n",
       "      <td>114.259444</td>\n",
       "      <td>145.6</td>\n",
       "      <td>9.3</td>\n",
       "      <td>51.2</td>\n",
       "      <td>10.0</td>\n",
       "      <td>2.4</td>\n",
       "      <td>4.6</td>\n",
       "      <td>78769.230769</td>\n",
       "    </tr>\n",
       "    <tr>\n",
       "      <th>11</th>\n",
       "      <td>Tuen Mun</td>\n",
       "      <td>22.391111</td>\n",
       "      <td>113.976667</td>\n",
       "      <td>510.1</td>\n",
       "      <td>37.1</td>\n",
       "      <td>43.1</td>\n",
       "      <td>13.0</td>\n",
       "      <td>9.0</td>\n",
       "      <td>2.9</td>\n",
       "      <td>66307.692308</td>\n",
       "    </tr>\n",
       "    <tr>\n",
       "      <th>...</th>\n",
       "      <td>...</td>\n",
       "      <td>...</td>\n",
       "      <td>...</td>\n",
       "      <td>...</td>\n",
       "      <td>...</td>\n",
       "      <td>...</td>\n",
       "      <td>...</td>\n",
       "      <td>...</td>\n",
       "      <td>...</td>\n",
       "      <td>...</td>\n",
       "    </tr>\n",
       "    <tr>\n",
       "      <th>92</th>\n",
       "      <td>唐尧大酒店</td>\n",
       "      <td>36.101400</td>\n",
       "      <td>111.505000</td>\n",
       "      <td>800.0</td>\n",
       "      <td>13.0</td>\n",
       "      <td>214.0</td>\n",
       "      <td>32.0</td>\n",
       "      <td>40.0</td>\n",
       "      <td>5.0</td>\n",
       "      <td>329230.769231</td>\n",
       "    </tr>\n",
       "    <tr>\n",
       "      <th>93</th>\n",
       "      <td>城南</td>\n",
       "      <td>36.041400</td>\n",
       "      <td>111.503600</td>\n",
       "      <td>800.0</td>\n",
       "      <td>21.0</td>\n",
       "      <td>205.0</td>\n",
       "      <td>86.0</td>\n",
       "      <td>49.0</td>\n",
       "      <td>6.0</td>\n",
       "      <td>315384.615385</td>\n",
       "    </tr>\n",
       "    <tr>\n",
       "      <th>94</th>\n",
       "      <td>外国语学校</td>\n",
       "      <td>29.699400</td>\n",
       "      <td>116.025400</td>\n",
       "      <td>600.0</td>\n",
       "      <td>18.0</td>\n",
       "      <td>162.0</td>\n",
       "      <td>64.0</td>\n",
       "      <td>38.0</td>\n",
       "      <td>4.0</td>\n",
       "      <td>249230.769231</td>\n",
       "    </tr>\n",
       "    <tr>\n",
       "      <th>95</th>\n",
       "      <td>宁德一中</td>\n",
       "      <td>26.656200</td>\n",
       "      <td>119.523100</td>\n",
       "      <td>1700.0</td>\n",
       "      <td>5.0</td>\n",
       "      <td>137.0</td>\n",
       "      <td>61.0</td>\n",
       "      <td>35.0</td>\n",
       "      <td>6.0</td>\n",
       "      <td>210769.230769</td>\n",
       "    </tr>\n",
       "    <tr>\n",
       "      <th>96</th>\n",
       "      <td>原169医院(对照点)</td>\n",
       "      <td>26.916700</td>\n",
       "      <td>112.500300</td>\n",
       "      <td>600.0</td>\n",
       "      <td>9.0</td>\n",
       "      <td>119.0</td>\n",
       "      <td>15.0</td>\n",
       "      <td>12.0</td>\n",
       "      <td>4.0</td>\n",
       "      <td>183076.923077</td>\n",
       "    </tr>\n",
       "  </tbody>\n",
       "</table>\n",
       "<p>71 rows × 10 columns</p>\n",
       "</div>"
      ],
      "text/plain": [
       "         location  coordinates.latitude  coordinates.longitude      co   no2  \\\n",
       "5        Mong Kok             22.322500             114.168333   646.8  62.9   \n",
       "6           North             22.496710             114.128240   247.4  13.2   \n",
       "8         Central             22.281944             114.158056   274.9  44.7   \n",
       "9   Tseung Kwan O             22.317778             114.259444   145.6   9.3   \n",
       "11       Tuen Mun             22.391111             113.976667   510.1  37.1   \n",
       "..            ...                   ...                    ...     ...   ...   \n",
       "92          唐尧大酒店             36.101400             111.505000   800.0  13.0   \n",
       "93             城南             36.041400             111.503600   800.0  21.0   \n",
       "94          外国语学校             29.699400             116.025400   600.0  18.0   \n",
       "95           宁德一中             26.656200             119.523100  1700.0   5.0   \n",
       "96    原169医院(对照点)             26.916700             112.500300   600.0   9.0   \n",
       "\n",
       "       o3  pm10  pm25  so2            AQI  \n",
       "5    18.9  14.7   8.3  5.0   78625.000000  \n",
       "6    49.3  11.3   3.8  0.7   75846.153846  \n",
       "8    26.6  11.0   8.2  2.6   55875.000000  \n",
       "9    51.2  10.0   2.4  4.6   78769.230769  \n",
       "11   43.1  13.0   9.0  2.9   66307.692308  \n",
       "..    ...   ...   ...  ...            ...  \n",
       "92  214.0  32.0  40.0  5.0  329230.769231  \n",
       "93  205.0  86.0  49.0  6.0  315384.615385  \n",
       "94  162.0  64.0  38.0  4.0  249230.769231  \n",
       "95  137.0  61.0  35.0  6.0  210769.230769  \n",
       "96  119.0  15.0  12.0  4.0  183076.923077  \n",
       "\n",
       "[71 rows x 10 columns]"
      ]
     },
     "execution_count": 38,
     "metadata": {},
     "output_type": "execute_result"
    }
   ],
   "source": [
    "reduced_df"
   ]
  },
  {
   "cell_type": "markdown",
   "metadata": {},
   "source": [
    "### Visualize the AQI"
   ]
  },
  {
   "cell_type": "code",
   "execution_count": 40,
   "metadata": {},
   "outputs": [
    {
     "data": {
      "application/vnd.plotly.v1+json": {
       "config": {
        "plotlyServerURL": "https://plot.ly"
       },
       "data": [
        {
         "hovertemplate": "<b>%{hovertext}</b><br><br>AQI=%{marker.color}<br>coordinates.latitude=%{lat}<br>coordinates.longitude=%{lon}<extra></extra>",
         "hovertext": [
          "Mong Kok",
          "North",
          "Central",
          "Tseung Kwan O",
          "Tuen Mun",
          "Causeway Bay",
          "Tap Mun",
          "Tsuen Wan",
          "Yuen Long",
          "Southern",
          "安钢职工学校",
          "官渡区博物馆",
          "宿豫区政府",
          "市人大",
          "市第七中学",
          "广陵建设局",
          "文明里",
          "歇台子",
          "河西一经路",
          "海东办",
          "芒市人民政府综合楼",
          "蓝田镇",
          "规划局",
          "质量技术监督局",
          "路南电大",
          "昆区政府",
          "东山小学",
          "机电学校",
          "贺兰山马莲口(对照点)",
          "开发区子站",
          "监测站",
          "奥体中心",
          "浦口",
          "人口学校",
          "武功山(对照点)",
          "马山宾馆",
          "延安路89号",
          "三里街",
          "长江中路",
          "滨湖新区",
          "包河区",
          "阜阳职业技术学院",
          "人大宾馆",
          "池州学院",
          "市第九中学",
          "市公路局",
          "市新民污水厂",
          "工人疗养院",
          "八公山区政府",
          "市环保局",
          "职工医院",
          "榆中兰大校区(对照点)",
          "庐山气象台(对照点)",
          "环保监测大楼",
          "红石峡森林公园(对照点)",
          "睢阳区环保局",
          "淮河道",
          "安家",
          "金胜",
          "环保局",
          "理工学院",
          "远航博物馆",
          "市体育局",
          "东关招商场",
          "中山北路",
          "双创科技城",
          "唐尧大酒店",
          "城南",
          "外国语学校",
          "宁德一中",
          "原169医院(对照点)"
         ],
         "lat": [
          22.3225,
          22.496710000000004,
          22.281944444444445,
          22.317777777777778,
          22.391111111111112,
          22.28,
          22.47138888888889,
          22.371666666666663,
          22.44527777777778,
          22.247430000000005,
          36.0949,
          25.0119,
          33.944700000000005,
          31.453499999999995,
          35.40539999999999,
          32.394200000000005,
          39.943889000000006,
          29.5346,
          39.2474,
          40.8389,
          24.4368,
          24.506,
          33.73,
          27.8094,
          39.6202,
          40.6576,
          36.6868,
          28.6062,
          38.6016,
          30.9427,
          32.4287,
          39.9821,
          32.0931,
          36.20170000000001,
          27.500200000000003,
          30.5119,
          29.696300000000004,
          31.8764,
          31.8571,
          31.7385,
          31.7964,
          32.88920000000001,
          32.27859999999999,
          30.6618,
          30.8792,
          30.9273,
          30.9413,
          32.939,
          32.633,
          42.9418,
          38.0444,
          35.9454,
          29.5698,
          38.24779999999999,
          38.33440000000001,
          34.3948,
          39.2133,
          31.9087,
          37.78199999999999,
          32.9917,
          32.9692,
          33.666,
          32.3972,
          37.9325,
          39.16989999999999,
          28.4315,
          36.101400000000005,
          36.0414,
          29.6994,
          26.6562,
          26.916699999999995
         ],
         "legendgroup": "",
         "lon": [
          114.16833333333334,
          114.12824,
          114.15805555555558,
          114.25944444444444,
          113.97666666666667,
          114.185,
          114.36083333333332,
          114.11444444444444,
          114.02277777777776,
          114.16015,
          114.2917,
          102.7494,
          118.3225,
          104.7563,
          116.59069999999998,
          119.4686,
          119.610547,
          106.49580000000002,
          117.79179999999998,
          111.6518,
          98.5881,
          117.7116,
          113.3025,
          99.7136,
          118.1436,
          109.83310000000002,
          117.532,
          115.9084,
          105.9512,
          118.7173,
          105.8628,
          116.39660000000002,
          118.6414,
          117.0885,
          114.0997,
          117.0331,
          118.2903,
          117.30719999999998,
          117.25,
          117.2776,
          117.3027,
          115.784,
          118.32439999999998,
          117.47,
          117.74389999999998,
          117.8059,
          117.7807,
          117.396,
          116.8281,
          89.1904,
          114.4422,
          104.1373,
          115.9773,
          109.7336,
          109.7414,
          115.6293,
          117.1837,
          119.9255,
          112.4701,
          112.5192,
          112.548,
          116.9509,
          119.3633,
          102.6486,
          117.2101,
          117.897,
          111.505,
          111.5036,
          116.0254,
          119.5231,
          112.5003
         ],
         "marker": {
          "color": [
           78625,
           75846.15384615383,
           55875,
           78769.23076923078,
           66307.69230769231,
           59076.92307692307,
           84000,
           56923.076923076915,
           64461.538461538454,
           71846.15384615384,
           323076.92307692306,
           113846.15384615383,
           240000,
           270769.23076923075,
           336923.0769230769,
           307692.3076923077,
           267692.3076923077,
           147692.3076923077,
           336923.0769230769,
           246153.84615384616,
           44615.38461538461,
           143076.92307692306,
           223076.92307692306,
           121538.46153846153,
           323076.92307692306,
           216923.0769230769,
           378461.53846153844,
           276923.0769230769,
           287692.3076923077,
           230769.23076923075,
           196923.0769230769,
           287692.3076923077,
           123076.92307692308,
           361538.4615384615,
           123076.92307692308,
           195384.61538461538,
           224615.38461538462,
           204615.38461538462,
           253846.15384615384,
           236923.0769230769,
           243076.92307692306,
           184615.38461538462,
           249230.76923076925,
           281538.4615384615,
           276923.0769230769,
           320000,
           289230.76923076925,
           203076.92307692306,
           196923.0769230769,
           204615.38461538462,
           304615.3846153846,
           252307.69230769228,
           201538.46153846153,
           270769.23076923075,
           247692.30769230766,
           210769.23076923075,
           372307.6923076923,
           326153.8461538461,
           409230.76923076925,
           203076.92307692306,
           210769.23076923075,
           166153.84615384616,
           301538.4615384615,
           212307.69230769228,
           366153.8461538461,
           256923.0769230769,
           329230.76923076925,
           315384.6153846154,
           249230.76923076925,
           210769.23076923075,
           183076.92307692306
          ],
          "coloraxis": "coloraxis",
          "size": [
           78625,
           75846.15384615383,
           55875,
           78769.23076923078,
           66307.69230769231,
           59076.92307692307,
           84000,
           56923.076923076915,
           64461.538461538454,
           71846.15384615384,
           323076.92307692306,
           113846.15384615383,
           240000,
           270769.23076923075,
           336923.0769230769,
           307692.3076923077,
           267692.3076923077,
           147692.3076923077,
           336923.0769230769,
           246153.84615384616,
           44615.38461538461,
           143076.92307692306,
           223076.92307692306,
           121538.46153846153,
           323076.92307692306,
           216923.0769230769,
           378461.53846153844,
           276923.0769230769,
           287692.3076923077,
           230769.23076923075,
           196923.0769230769,
           287692.3076923077,
           123076.92307692308,
           361538.4615384615,
           123076.92307692308,
           195384.61538461538,
           224615.38461538462,
           204615.38461538462,
           253846.15384615384,
           236923.0769230769,
           243076.92307692306,
           184615.38461538462,
           249230.76923076925,
           281538.4615384615,
           276923.0769230769,
           320000,
           289230.76923076925,
           203076.92307692306,
           196923.0769230769,
           204615.38461538462,
           304615.3846153846,
           252307.69230769228,
           201538.46153846153,
           270769.23076923075,
           247692.30769230766,
           210769.23076923075,
           372307.6923076923,
           326153.8461538461,
           409230.76923076925,
           203076.92307692306,
           210769.23076923075,
           166153.84615384616,
           301538.4615384615,
           212307.69230769228,
           366153.8461538461,
           256923.0769230769,
           329230.76923076925,
           315384.6153846154,
           249230.76923076925,
           210769.23076923075,
           183076.92307692306
          ],
          "sizemode": "area",
          "sizeref": 163.6923076923077
         },
         "mode": "markers",
         "name": "",
         "showlegend": false,
         "subplot": "mapbox",
         "type": "scattermapbox"
        }
       ],
       "layout": {
        "coloraxis": {
         "colorbar": {
          "title": {
           "text": "AQI"
          }
         },
         "colorscale": [
          [
           0,
           "#440154"
          ],
          [
           0.1111111111111111,
           "#482878"
          ],
          [
           0.2222222222222222,
           "#3e4989"
          ],
          [
           0.3333333333333333,
           "#31688e"
          ],
          [
           0.4444444444444444,
           "#26828e"
          ],
          [
           0.5555555555555556,
           "#1f9e89"
          ],
          [
           0.6666666666666666,
           "#35b779"
          ],
          [
           0.7777777777777778,
           "#6ece58"
          ],
          [
           0.8888888888888888,
           "#b5de2b"
          ],
          [
           1,
           "#fde725"
          ]
         ]
        },
        "legend": {
         "itemsizing": "constant",
         "tracegroupgap": 0
        },
        "mapbox": {
         "center": {
          "lat": 31.863095713615024,
          "lon": 113.84468581064164
         },
         "domain": {
          "x": [
           0,
           1
          ],
          "y": [
           0,
           1
          ]
         },
         "style": "carto-positron",
         "zoom": 4
        },
        "margin": {
         "t": 60
        },
        "template": {
         "data": {
          "bar": [
           {
            "error_x": {
             "color": "#2a3f5f"
            },
            "error_y": {
             "color": "#2a3f5f"
            },
            "marker": {
             "line": {
              "color": "#E5ECF6",
              "width": 0.5
             },
             "pattern": {
              "fillmode": "overlay",
              "size": 10,
              "solidity": 0.2
             }
            },
            "type": "bar"
           }
          ],
          "barpolar": [
           {
            "marker": {
             "line": {
              "color": "#E5ECF6",
              "width": 0.5
             },
             "pattern": {
              "fillmode": "overlay",
              "size": 10,
              "solidity": 0.2
             }
            },
            "type": "barpolar"
           }
          ],
          "carpet": [
           {
            "aaxis": {
             "endlinecolor": "#2a3f5f",
             "gridcolor": "white",
             "linecolor": "white",
             "minorgridcolor": "white",
             "startlinecolor": "#2a3f5f"
            },
            "baxis": {
             "endlinecolor": "#2a3f5f",
             "gridcolor": "white",
             "linecolor": "white",
             "minorgridcolor": "white",
             "startlinecolor": "#2a3f5f"
            },
            "type": "carpet"
           }
          ],
          "choropleth": [
           {
            "colorbar": {
             "outlinewidth": 0,
             "ticks": ""
            },
            "type": "choropleth"
           }
          ],
          "contour": [
           {
            "colorbar": {
             "outlinewidth": 0,
             "ticks": ""
            },
            "colorscale": [
             [
              0,
              "#0d0887"
             ],
             [
              0.1111111111111111,
              "#46039f"
             ],
             [
              0.2222222222222222,
              "#7201a8"
             ],
             [
              0.3333333333333333,
              "#9c179e"
             ],
             [
              0.4444444444444444,
              "#bd3786"
             ],
             [
              0.5555555555555556,
              "#d8576b"
             ],
             [
              0.6666666666666666,
              "#ed7953"
             ],
             [
              0.7777777777777778,
              "#fb9f3a"
             ],
             [
              0.8888888888888888,
              "#fdca26"
             ],
             [
              1,
              "#f0f921"
             ]
            ],
            "type": "contour"
           }
          ],
          "contourcarpet": [
           {
            "colorbar": {
             "outlinewidth": 0,
             "ticks": ""
            },
            "type": "contourcarpet"
           }
          ],
          "heatmap": [
           {
            "colorbar": {
             "outlinewidth": 0,
             "ticks": ""
            },
            "colorscale": [
             [
              0,
              "#0d0887"
             ],
             [
              0.1111111111111111,
              "#46039f"
             ],
             [
              0.2222222222222222,
              "#7201a8"
             ],
             [
              0.3333333333333333,
              "#9c179e"
             ],
             [
              0.4444444444444444,
              "#bd3786"
             ],
             [
              0.5555555555555556,
              "#d8576b"
             ],
             [
              0.6666666666666666,
              "#ed7953"
             ],
             [
              0.7777777777777778,
              "#fb9f3a"
             ],
             [
              0.8888888888888888,
              "#fdca26"
             ],
             [
              1,
              "#f0f921"
             ]
            ],
            "type": "heatmap"
           }
          ],
          "heatmapgl": [
           {
            "colorbar": {
             "outlinewidth": 0,
             "ticks": ""
            },
            "colorscale": [
             [
              0,
              "#0d0887"
             ],
             [
              0.1111111111111111,
              "#46039f"
             ],
             [
              0.2222222222222222,
              "#7201a8"
             ],
             [
              0.3333333333333333,
              "#9c179e"
             ],
             [
              0.4444444444444444,
              "#bd3786"
             ],
             [
              0.5555555555555556,
              "#d8576b"
             ],
             [
              0.6666666666666666,
              "#ed7953"
             ],
             [
              0.7777777777777778,
              "#fb9f3a"
             ],
             [
              0.8888888888888888,
              "#fdca26"
             ],
             [
              1,
              "#f0f921"
             ]
            ],
            "type": "heatmapgl"
           }
          ],
          "histogram": [
           {
            "marker": {
             "pattern": {
              "fillmode": "overlay",
              "size": 10,
              "solidity": 0.2
             }
            },
            "type": "histogram"
           }
          ],
          "histogram2d": [
           {
            "colorbar": {
             "outlinewidth": 0,
             "ticks": ""
            },
            "colorscale": [
             [
              0,
              "#0d0887"
             ],
             [
              0.1111111111111111,
              "#46039f"
             ],
             [
              0.2222222222222222,
              "#7201a8"
             ],
             [
              0.3333333333333333,
              "#9c179e"
             ],
             [
              0.4444444444444444,
              "#bd3786"
             ],
             [
              0.5555555555555556,
              "#d8576b"
             ],
             [
              0.6666666666666666,
              "#ed7953"
             ],
             [
              0.7777777777777778,
              "#fb9f3a"
             ],
             [
              0.8888888888888888,
              "#fdca26"
             ],
             [
              1,
              "#f0f921"
             ]
            ],
            "type": "histogram2d"
           }
          ],
          "histogram2dcontour": [
           {
            "colorbar": {
             "outlinewidth": 0,
             "ticks": ""
            },
            "colorscale": [
             [
              0,
              "#0d0887"
             ],
             [
              0.1111111111111111,
              "#46039f"
             ],
             [
              0.2222222222222222,
              "#7201a8"
             ],
             [
              0.3333333333333333,
              "#9c179e"
             ],
             [
              0.4444444444444444,
              "#bd3786"
             ],
             [
              0.5555555555555556,
              "#d8576b"
             ],
             [
              0.6666666666666666,
              "#ed7953"
             ],
             [
              0.7777777777777778,
              "#fb9f3a"
             ],
             [
              0.8888888888888888,
              "#fdca26"
             ],
             [
              1,
              "#f0f921"
             ]
            ],
            "type": "histogram2dcontour"
           }
          ],
          "mesh3d": [
           {
            "colorbar": {
             "outlinewidth": 0,
             "ticks": ""
            },
            "type": "mesh3d"
           }
          ],
          "parcoords": [
           {
            "line": {
             "colorbar": {
              "outlinewidth": 0,
              "ticks": ""
             }
            },
            "type": "parcoords"
           }
          ],
          "pie": [
           {
            "automargin": true,
            "type": "pie"
           }
          ],
          "scatter": [
           {
            "fillpattern": {
             "fillmode": "overlay",
             "size": 10,
             "solidity": 0.2
            },
            "type": "scatter"
           }
          ],
          "scatter3d": [
           {
            "line": {
             "colorbar": {
              "outlinewidth": 0,
              "ticks": ""
             }
            },
            "marker": {
             "colorbar": {
              "outlinewidth": 0,
              "ticks": ""
             }
            },
            "type": "scatter3d"
           }
          ],
          "scattercarpet": [
           {
            "marker": {
             "colorbar": {
              "outlinewidth": 0,
              "ticks": ""
             }
            },
            "type": "scattercarpet"
           }
          ],
          "scattergeo": [
           {
            "marker": {
             "colorbar": {
              "outlinewidth": 0,
              "ticks": ""
             }
            },
            "type": "scattergeo"
           }
          ],
          "scattergl": [
           {
            "marker": {
             "colorbar": {
              "outlinewidth": 0,
              "ticks": ""
             }
            },
            "type": "scattergl"
           }
          ],
          "scattermapbox": [
           {
            "marker": {
             "colorbar": {
              "outlinewidth": 0,
              "ticks": ""
             }
            },
            "type": "scattermapbox"
           }
          ],
          "scatterpolar": [
           {
            "marker": {
             "colorbar": {
              "outlinewidth": 0,
              "ticks": ""
             }
            },
            "type": "scatterpolar"
           }
          ],
          "scatterpolargl": [
           {
            "marker": {
             "colorbar": {
              "outlinewidth": 0,
              "ticks": ""
             }
            },
            "type": "scatterpolargl"
           }
          ],
          "scatterternary": [
           {
            "marker": {
             "colorbar": {
              "outlinewidth": 0,
              "ticks": ""
             }
            },
            "type": "scatterternary"
           }
          ],
          "surface": [
           {
            "colorbar": {
             "outlinewidth": 0,
             "ticks": ""
            },
            "colorscale": [
             [
              0,
              "#0d0887"
             ],
             [
              0.1111111111111111,
              "#46039f"
             ],
             [
              0.2222222222222222,
              "#7201a8"
             ],
             [
              0.3333333333333333,
              "#9c179e"
             ],
             [
              0.4444444444444444,
              "#bd3786"
             ],
             [
              0.5555555555555556,
              "#d8576b"
             ],
             [
              0.6666666666666666,
              "#ed7953"
             ],
             [
              0.7777777777777778,
              "#fb9f3a"
             ],
             [
              0.8888888888888888,
              "#fdca26"
             ],
             [
              1,
              "#f0f921"
             ]
            ],
            "type": "surface"
           }
          ],
          "table": [
           {
            "cells": {
             "fill": {
              "color": "#EBF0F8"
             },
             "line": {
              "color": "white"
             }
            },
            "header": {
             "fill": {
              "color": "#C8D4E3"
             },
             "line": {
              "color": "white"
             }
            },
            "type": "table"
           }
          ]
         },
         "layout": {
          "annotationdefaults": {
           "arrowcolor": "#2a3f5f",
           "arrowhead": 0,
           "arrowwidth": 1
          },
          "autotypenumbers": "strict",
          "coloraxis": {
           "colorbar": {
            "outlinewidth": 0,
            "ticks": ""
           }
          },
          "colorscale": {
           "diverging": [
            [
             0,
             "#8e0152"
            ],
            [
             0.1,
             "#c51b7d"
            ],
            [
             0.2,
             "#de77ae"
            ],
            [
             0.3,
             "#f1b6da"
            ],
            [
             0.4,
             "#fde0ef"
            ],
            [
             0.5,
             "#f7f7f7"
            ],
            [
             0.6,
             "#e6f5d0"
            ],
            [
             0.7,
             "#b8e186"
            ],
            [
             0.8,
             "#7fbc41"
            ],
            [
             0.9,
             "#4d9221"
            ],
            [
             1,
             "#276419"
            ]
           ],
           "sequential": [
            [
             0,
             "#0d0887"
            ],
            [
             0.1111111111111111,
             "#46039f"
            ],
            [
             0.2222222222222222,
             "#7201a8"
            ],
            [
             0.3333333333333333,
             "#9c179e"
            ],
            [
             0.4444444444444444,
             "#bd3786"
            ],
            [
             0.5555555555555556,
             "#d8576b"
            ],
            [
             0.6666666666666666,
             "#ed7953"
            ],
            [
             0.7777777777777778,
             "#fb9f3a"
            ],
            [
             0.8888888888888888,
             "#fdca26"
            ],
            [
             1,
             "#f0f921"
            ]
           ],
           "sequentialminus": [
            [
             0,
             "#0d0887"
            ],
            [
             0.1111111111111111,
             "#46039f"
            ],
            [
             0.2222222222222222,
             "#7201a8"
            ],
            [
             0.3333333333333333,
             "#9c179e"
            ],
            [
             0.4444444444444444,
             "#bd3786"
            ],
            [
             0.5555555555555556,
             "#d8576b"
            ],
            [
             0.6666666666666666,
             "#ed7953"
            ],
            [
             0.7777777777777778,
             "#fb9f3a"
            ],
            [
             0.8888888888888888,
             "#fdca26"
            ],
            [
             1,
             "#f0f921"
            ]
           ]
          },
          "colorway": [
           "#636efa",
           "#EF553B",
           "#00cc96",
           "#ab63fa",
           "#FFA15A",
           "#19d3f3",
           "#FF6692",
           "#B6E880",
           "#FF97FF",
           "#FECB52"
          ],
          "font": {
           "color": "#2a3f5f"
          },
          "geo": {
           "bgcolor": "white",
           "lakecolor": "white",
           "landcolor": "#E5ECF6",
           "showlakes": true,
           "showland": true,
           "subunitcolor": "white"
          },
          "hoverlabel": {
           "align": "left"
          },
          "hovermode": "closest",
          "mapbox": {
           "style": "light"
          },
          "paper_bgcolor": "white",
          "plot_bgcolor": "#E5ECF6",
          "polar": {
           "angularaxis": {
            "gridcolor": "white",
            "linecolor": "white",
            "ticks": ""
           },
           "bgcolor": "#E5ECF6",
           "radialaxis": {
            "gridcolor": "white",
            "linecolor": "white",
            "ticks": ""
           }
          },
          "scene": {
           "xaxis": {
            "backgroundcolor": "#E5ECF6",
            "gridcolor": "white",
            "gridwidth": 2,
            "linecolor": "white",
            "showbackground": true,
            "ticks": "",
            "zerolinecolor": "white"
           },
           "yaxis": {
            "backgroundcolor": "#E5ECF6",
            "gridcolor": "white",
            "gridwidth": 2,
            "linecolor": "white",
            "showbackground": true,
            "ticks": "",
            "zerolinecolor": "white"
           },
           "zaxis": {
            "backgroundcolor": "#E5ECF6",
            "gridcolor": "white",
            "gridwidth": 2,
            "linecolor": "white",
            "showbackground": true,
            "ticks": "",
            "zerolinecolor": "white"
           }
          },
          "shapedefaults": {
           "line": {
            "color": "#2a3f5f"
           }
          },
          "ternary": {
           "aaxis": {
            "gridcolor": "white",
            "linecolor": "white",
            "ticks": ""
           },
           "baxis": {
            "gridcolor": "white",
            "linecolor": "white",
            "ticks": ""
           },
           "bgcolor": "#E5ECF6",
           "caxis": {
            "gridcolor": "white",
            "linecolor": "white",
            "ticks": ""
           }
          },
          "title": {
           "x": 0.05
          },
          "xaxis": {
           "automargin": true,
           "gridcolor": "white",
           "linecolor": "white",
           "ticks": "",
           "title": {
            "standoff": 15
           },
           "zerolinecolor": "white",
           "zerolinewidth": 2
          },
          "yaxis": {
           "automargin": true,
           "gridcolor": "white",
           "linecolor": "white",
           "ticks": "",
           "title": {
            "standoff": 15
           },
           "zerolinecolor": "white",
           "zerolinewidth": 2
          }
         }
        }
       }
      }
     },
     "metadata": {},
     "output_type": "display_data"
    }
   ],
   "source": [
    "# Create a bubble map visualization\n",
    "fig = px.scatter_mapbox(\n",
    "    reduced_df,\n",
    "    lat='coordinates.latitude',\n",
    "    lon='coordinates.longitude',\n",
    "    hover_name='location',\n",
    "    size='AQI',  # Size of bubbles based on 'value' column\n",
    "    color='AQI',  # Color of bubbles based on 'value' column\n",
    "    color_continuous_scale='Viridis',  # Color scale\n",
    "    size_max=50,  # Maximum size of bubbles\n",
    ")\n",
    "\n",
    "# Update the map layout\n",
    "fig.update_layout(\n",
    "    mapbox_style='carto-positron',  # Map style\n",
    "    mapbox_zoom=4,  # Initial zoom level\n",
    "    mapbox_center={'lat': reduced_df['coordinates.latitude'].mean(), 'lon': reduced_df['coordinates.longitude'].mean()},  # Map center\n",
    ")\n",
    "\n",
    "# Display the plot\n",
    "fig.show()"
   ]
  },
  {
   "cell_type": "markdown",
   "metadata": {},
   "source": [
    "For the rest of our project we are going to do some building models to predict the air quality. For that we are going to choose the most pollutant city in china, and we are going to work on it and do some time series on it."
   ]
  },
  {
   "cell_type": "code",
   "execution_count": 42,
   "metadata": {},
   "outputs": [
    {
     "name": "stdout",
     "output_type": "stream",
     "text": [
      "Row with the highest AQI value:\n",
      "location                            金胜\n",
      "coordinates.latitude            37.782\n",
      "coordinates.longitude         112.4701\n",
      "co                               600.0\n",
      "no2                               28.0\n",
      "o3                               266.0\n",
      "pm10                              50.0\n",
      "pm25                              13.0\n",
      "so2                               13.0\n",
      "AQI                      409230.769231\n",
      "Name: 84, dtype: object\n"
     ]
    }
   ],
   "source": [
    "# Find the index of the row with the highest AQI value\n",
    "highest_aqi_index = reduced_df['AQI'].idxmax()\n",
    "\n",
    "# Retrieve the entire row with the highest AQI value\n",
    "row_with_highest_aqi = reduced_df.loc[highest_aqi_index]\n",
    "\n",
    "print(\"Row with the highest AQI value:\")\n",
    "print(row_with_highest_aqi)"
   ]
  },
  {
   "cell_type": "markdown",
   "metadata": {},
   "source": [
    "So as we can see Jin Sheng is the most pollutant city in china."
   ]
  },
  {
   "cell_type": "code",
   "execution_count": null,
   "metadata": {},
   "outputs": [],
   "source": []
  }
 ],
 "metadata": {
  "interpreter": {
   "hash": "e2d07a3cc67abcacb0dcc6c24a889f1c207ac1a91a314ff60200b4b09f6f259b"
  },
  "kernelspec": {
   "display_name": "Python 3.9.7 ('base')",
   "language": "python",
   "name": "python3"
  },
  "language_info": {
   "codemirror_mode": {
    "name": "ipython",
    "version": 3
   },
   "file_extension": ".py",
   "mimetype": "text/x-python",
   "name": "python",
   "nbconvert_exporter": "python",
   "pygments_lexer": "ipython3",
   "version": "3.9.7"
  },
  "orig_nbformat": 4
 },
 "nbformat": 4,
 "nbformat_minor": 2
}
